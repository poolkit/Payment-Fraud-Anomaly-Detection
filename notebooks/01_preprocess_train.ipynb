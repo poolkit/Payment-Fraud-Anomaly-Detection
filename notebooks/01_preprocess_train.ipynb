{
 "cells": [
  {
   "cell_type": "code",
   "execution_count": 2,
   "metadata": {},
   "outputs": [
    {
     "name": "stdout",
     "output_type": "stream",
     "text": [
      "d:\\DataScience\\AnomalyDetection_JPMC\n"
     ]
    }
   ],
   "source": [
    "cd d:\\\\DataScience\\\\AnomalyDetection_JPMC"
   ]
  },
  {
   "cell_type": "code",
   "execution_count": 3,
   "metadata": {},
   "outputs": [],
   "source": [
    "import pandas as pd\n",
    "import numpy as np\n",
    "import matplotlib.pyplot as plt\n",
    "import seaborn as sns\n",
    "from pathlib import Path\n",
    "\n",
    "from sklearn.model_selection import train_test_split, RandomizedSearchCV\n",
    "from sklearn.base import BaseEstimator, TransformerMixin\n",
    "from sklearn.impute import SimpleImputer\n",
    "from sklearn.compose import ColumnTransformer\n",
    "from sklearn.pipeline import Pipeline\n",
    "from sklearn.preprocessing import OneHotEncoder, StandardScaler\n",
    "from sklearn.metrics import make_scorer, f1_score, recall_score, confusion_matrix, classification_report\n",
    "\n",
    "from sklearn.ensemble import IsolationForest\n",
    "\n",
    "from sklearn import set_config\n",
    "set_config(display='diagram')\n",
    "\n",
    "%matplotlib inline\n",
    "pd.set_option('display.max_column',None)"
   ]
  },
  {
   "cell_type": "code",
   "execution_count": 4,
   "metadata": {},
   "outputs": [
    {
     "data": {
      "text/plain": [
       "(1348359, 13)"
      ]
     },
     "execution_count": 4,
     "metadata": {},
     "output_type": "execute_result"
    }
   ],
   "source": [
    "filepath = Path(\"data/original/training_data.csv\")\n",
    "\n",
    "df = pd.read_csv(filepath)\n",
    "df.shape"
   ]
  },
  {
   "cell_type": "code",
   "execution_count": 5,
   "metadata": {},
   "outputs": [
    {
     "data": {
      "text/html": [
       "<div>\n",
       "<style scoped>\n",
       "    .dataframe tbody tr th:only-of-type {\n",
       "        vertical-align: middle;\n",
       "    }\n",
       "\n",
       "    .dataframe tbody tr th {\n",
       "        vertical-align: top;\n",
       "    }\n",
       "\n",
       "    .dataframe thead th {\n",
       "        text-align: right;\n",
       "    }\n",
       "</style>\n",
       "<table border=\"1\" class=\"dataframe\">\n",
       "  <thead>\n",
       "    <tr style=\"text-align: right;\">\n",
       "      <th></th>\n",
       "      <th>Time_step</th>\n",
       "      <th>Transaction_Id</th>\n",
       "      <th>Sender_Id</th>\n",
       "      <th>Sender_Account</th>\n",
       "      <th>Sender_Country</th>\n",
       "      <th>Sender_Sector</th>\n",
       "      <th>Sender_lob</th>\n",
       "      <th>Bene_Id</th>\n",
       "      <th>Bene_Account</th>\n",
       "      <th>Bene_Country</th>\n",
       "      <th>USD_amount</th>\n",
       "      <th>Label</th>\n",
       "      <th>Transaction_Type</th>\n",
       "    </tr>\n",
       "  </thead>\n",
       "  <tbody>\n",
       "    <tr>\n",
       "      <th>0</th>\n",
       "      <td>2051-12-30 14:37:07</td>\n",
       "      <td>MOVE-FUNDS-2003248</td>\n",
       "      <td>COMPANY-2003012</td>\n",
       "      <td>ACCOUNT-2003019</td>\n",
       "      <td>GERMANY</td>\n",
       "      <td>59.0</td>\n",
       "      <td>CCB</td>\n",
       "      <td>JPMC-CLIENT-2003007</td>\n",
       "      <td>ACCOUNT-2003030</td>\n",
       "      <td>LIBERIA</td>\n",
       "      <td>2000.27</td>\n",
       "      <td>0</td>\n",
       "      <td>MOVE-FUNDS</td>\n",
       "    </tr>\n",
       "    <tr>\n",
       "      <th>1</th>\n",
       "      <td>2030-04-23 11:24:51</td>\n",
       "      <td>PAYMENT-550486</td>\n",
       "      <td>JPMC-CLIENT-550438</td>\n",
       "      <td>ACCOUNT-550452</td>\n",
       "      <td>USA</td>\n",
       "      <td>21626.0</td>\n",
       "      <td>CCB</td>\n",
       "      <td>BILL-COMPANY-550487</td>\n",
       "      <td>ACCOUNT-550488</td>\n",
       "      <td>BHUTAN</td>\n",
       "      <td>84.93</td>\n",
       "      <td>0</td>\n",
       "      <td>MAKE-PAYMENT</td>\n",
       "    </tr>\n",
       "    <tr>\n",
       "      <th>2</th>\n",
       "      <td>2039-01-04 05:15:45</td>\n",
       "      <td>PAYMENT-1127038</td>\n",
       "      <td>JPMC-CLIENT-1126759</td>\n",
       "      <td>ACCOUNT-1126774</td>\n",
       "      <td>USA</td>\n",
       "      <td>27531.0</td>\n",
       "      <td>CCB</td>\n",
       "      <td>BILL-COMPANY-1127039</td>\n",
       "      <td>ACCOUNT-1127040</td>\n",
       "      <td>USA</td>\n",
       "      <td>13.81</td>\n",
       "      <td>0</td>\n",
       "      <td>MAKE-PAYMENT</td>\n",
       "    </tr>\n",
       "    <tr>\n",
       "      <th>3</th>\n",
       "      <td>2048-10-26 14:56:47</td>\n",
       "      <td>CASH-CHECK-1780299</td>\n",
       "      <td>JPMC-CLIENT-1780040</td>\n",
       "      <td>ACCOUNT-1780070</td>\n",
       "      <td>IRAQ</td>\n",
       "      <td>7541.0</td>\n",
       "      <td>CCB</td>\n",
       "      <td>NaN</td>\n",
       "      <td>NaN</td>\n",
       "      <td>NaN</td>\n",
       "      <td>797.53</td>\n",
       "      <td>0</td>\n",
       "      <td>EXCHANGE</td>\n",
       "    </tr>\n",
       "    <tr>\n",
       "      <th>4</th>\n",
       "      <td>2034-09-09 12:25:18</td>\n",
       "      <td>EXCHANGE-837930</td>\n",
       "      <td>JPMC-CLIENT-837717</td>\n",
       "      <td>ACCOUNT-837727</td>\n",
       "      <td>USA</td>\n",
       "      <td>12315.0</td>\n",
       "      <td>CCB</td>\n",
       "      <td>NaN</td>\n",
       "      <td>NaN</td>\n",
       "      <td>NaN</td>\n",
       "      <td>225.52</td>\n",
       "      <td>0</td>\n",
       "      <td>WITHDRAWAL</td>\n",
       "    </tr>\n",
       "  </tbody>\n",
       "</table>\n",
       "</div>"
      ],
      "text/plain": [
       "             Time_step      Transaction_Id            Sender_Id  \\\n",
       "0  2051-12-30 14:37:07  MOVE-FUNDS-2003248      COMPANY-2003012   \n",
       "1  2030-04-23 11:24:51      PAYMENT-550486   JPMC-CLIENT-550438   \n",
       "2  2039-01-04 05:15:45     PAYMENT-1127038  JPMC-CLIENT-1126759   \n",
       "3  2048-10-26 14:56:47  CASH-CHECK-1780299  JPMC-CLIENT-1780040   \n",
       "4  2034-09-09 12:25:18     EXCHANGE-837930   JPMC-CLIENT-837717   \n",
       "\n",
       "    Sender_Account Sender_Country  Sender_Sector Sender_lob  \\\n",
       "0  ACCOUNT-2003019        GERMANY           59.0        CCB   \n",
       "1   ACCOUNT-550452            USA        21626.0        CCB   \n",
       "2  ACCOUNT-1126774            USA        27531.0        CCB   \n",
       "3  ACCOUNT-1780070           IRAQ         7541.0        CCB   \n",
       "4   ACCOUNT-837727            USA        12315.0        CCB   \n",
       "\n",
       "                Bene_Id     Bene_Account Bene_Country  USD_amount  Label  \\\n",
       "0   JPMC-CLIENT-2003007  ACCOUNT-2003030      LIBERIA     2000.27      0   \n",
       "1   BILL-COMPANY-550487   ACCOUNT-550488       BHUTAN       84.93      0   \n",
       "2  BILL-COMPANY-1127039  ACCOUNT-1127040          USA       13.81      0   \n",
       "3                   NaN              NaN          NaN      797.53      0   \n",
       "4                   NaN              NaN          NaN      225.52      0   \n",
       "\n",
       "  Transaction_Type  \n",
       "0       MOVE-FUNDS  \n",
       "1     MAKE-PAYMENT  \n",
       "2     MAKE-PAYMENT  \n",
       "3         EXCHANGE  \n",
       "4       WITHDRAWAL  "
      ]
     },
     "execution_count": 5,
     "metadata": {},
     "output_type": "execute_result"
    }
   ],
   "source": [
    "df.head()"
   ]
  },
  {
   "cell_type": "code",
   "execution_count": 6,
   "metadata": {},
   "outputs": [
    {
     "name": "stdout",
     "output_type": "stream",
     "text": [
      "<class 'pandas.core.frame.DataFrame'>\n",
      "RangeIndex: 1348359 entries, 0 to 1348358\n",
      "Data columns (total 13 columns):\n",
      " #   Column            Non-Null Count    Dtype  \n",
      "---  ------            --------------    -----  \n",
      " 0   Time_step         1348359 non-null  object \n",
      " 1   Transaction_Id    1348359 non-null  object \n",
      " 2   Sender_Id         1151056 non-null  object \n",
      " 3   Sender_Account    1151056 non-null  object \n",
      " 4   Sender_Country    1151056 non-null  object \n",
      " 5   Sender_Sector     1151056 non-null  float64\n",
      " 6   Sender_lob        1151056 non-null  object \n",
      " 7   Bene_Id           1154089 non-null  object \n",
      " 8   Bene_Account      1154089 non-null  object \n",
      " 9   Bene_Country      1154089 non-null  object \n",
      " 10  USD_amount        1348359 non-null  float64\n",
      " 11  Label             1348359 non-null  int64  \n",
      " 12  Transaction_Type  1348359 non-null  object \n",
      "dtypes: float64(2), int64(1), object(10)\n",
      "memory usage: 133.7+ MB\n"
     ]
    }
   ],
   "source": [
    "df.info()"
   ]
  },
  {
   "cell_type": "code",
   "execution_count": 7,
   "metadata": {},
   "outputs": [
    {
     "data": {
      "text/plain": [
       "Time_step                0\n",
       "Transaction_Id           0\n",
       "Sender_Id           197303\n",
       "Sender_Account      197303\n",
       "Sender_Country      197303\n",
       "Sender_Sector       197303\n",
       "Sender_lob          197303\n",
       "Bene_Id             194270\n",
       "Bene_Account        194270\n",
       "Bene_Country        194270\n",
       "USD_amount               0\n",
       "Label                    0\n",
       "Transaction_Type         0\n",
       "dtype: int64"
      ]
     },
     "execution_count": 7,
     "metadata": {},
     "output_type": "execute_result"
    }
   ],
   "source": [
    "df.isnull().sum()"
   ]
  },
  {
   "cell_type": "code",
   "execution_count": 8,
   "metadata": {},
   "outputs": [],
   "source": [
    "is_fraud = df[df['Label']==1]"
   ]
  },
  {
   "cell_type": "code",
   "execution_count": 9,
   "metadata": {},
   "outputs": [
    {
     "data": {
      "text/plain": [
       "Text(0, 0.5, 'Count')"
      ]
     },
     "execution_count": 9,
     "metadata": {},
     "output_type": "execute_result"
    },
    {
     "data": {
      "image/png": "[encoded data removed]",
      "text/plain": [
       "<Figure size 640x480 with 1 Axes>"
      ]
     },
     "metadata": {},
     "output_type": "display_data"
    }
   ],
   "source": [
    "sns.countplot(data=is_fraud, y='Transaction_Type', color='red')\n",
    "plt.title('Label wrt Transaction Type')\n",
    "plt.xlabel('Transaction Type')\n",
    "plt.ylabel('Count')"
   ]
  },
  {
   "cell_type": "code",
   "execution_count": 10,
   "metadata": {},
   "outputs": [
    {
     "data": {
      "text/plain": [
       "MAKE-PAYMENT     502016\n",
       "QUICK-PAYMENT    195562\n",
       "MOVE-FUNDS       162164\n",
       "DEPOSIT-CHECK     98745\n",
       "DEPOSIT-CASH      98558\n",
       "EXCHANGE          97456\n",
       "PAY-CHECK         97044\n",
       "WITHDRAWAL        96814\n",
       "Name: Transaction_Type, dtype: int64"
      ]
     },
     "execution_count": 10,
     "metadata": {},
     "output_type": "execute_result"
    }
   ],
   "source": [
    "df.Transaction_Type.value_counts()"
   ]
  },
  {
   "cell_type": "markdown",
   "metadata": {},
   "source": [
    "We have noticed there are some null values. But these null values are not because the data is missing due to some error or data entry, rather there is no data present for such scenarios.<br>\n",
    "For example:<br>\n",
    "- Cases where reciever info should be missing:\n",
    "    - WITHDRAWL\n",
    "    - EXCHANGE\n",
    "- Cases where sender info should be missing:\n",
    "    - DEPOSIT-CASH\n",
    "    - DEPOSIT-CHECK\n",
    "- Cases where nothing should be be missing:\n",
    "    - PAY-CHECK\n",
    "    - MOVE-FUNDS\n",
    "    - QUICK-PAYMENT\n",
    "    - MAKE-PAYMENT"
   ]
  },
  {
   "cell_type": "markdown",
   "metadata": {},
   "source": [
    "We will only cater few of the transactions type."
   ]
  },
  {
   "cell_type": "code",
   "execution_count": 11,
   "metadata": {},
   "outputs": [],
   "source": [
    "df = df[df.Transaction_Type.isin(['PAY-CHECK', 'MOVE-FUNDS', 'QUICK-PAYMENT', 'MAKE-PAYMENT'])]"
   ]
  },
  {
   "cell_type": "code",
   "execution_count": 12,
   "metadata": {},
   "outputs": [
    {
     "name": "stdout",
     "output_type": "stream",
     "text": [
      "(765428, 13) (191358, 13)\n"
     ]
    }
   ],
   "source": [
    "train, test = train_test_split(df, test_size=0.2, random_state=42)\n",
    "print(train.shape, test.shape)"
   ]
  },
  {
   "cell_type": "code",
   "execution_count": 13,
   "metadata": {},
   "outputs": [
    {
     "data": {
      "text/plain": [
       "0    749940\n",
       "1     15488\n",
       "Name: Label, dtype: int64"
      ]
     },
     "execution_count": 13,
     "metadata": {},
     "output_type": "execute_result"
    }
   ],
   "source": [
    "train['Label'].value_counts()"
   ]
  },
  {
   "cell_type": "code",
   "execution_count": 14,
   "metadata": {},
   "outputs": [
    {
     "data": {
      "text/plain": [
       "0    187467\n",
       "1      3891\n",
       "Name: Label, dtype: int64"
      ]
     },
     "execution_count": 14,
     "metadata": {},
     "output_type": "execute_result"
    }
   ],
   "source": [
    "test['Label'].value_counts()"
   ]
  },
  {
   "cell_type": "code",
   "execution_count": 15,
   "metadata": {},
   "outputs": [
    {
     "name": "stdout",
     "output_type": "stream",
     "text": [
      "453703 uniques in Time_step column.\n",
      "765428 uniques in Transaction_Id column.\n",
      "50345 uniques in Sender_Id column.\n",
      "65796 uniques in Sender_Account column.\n",
      "252 uniques in Sender_Country column.\n",
      "1 uniques in Sender_lob column.\n",
      "235089 uniques in Bene_Id column.\n",
      "250074 uniques in Bene_Account column.\n",
      "252 uniques in Bene_Country column.\n",
      "4 uniques in Transaction_Type column.\n"
     ]
    }
   ],
   "source": [
    "for each in train.select_dtypes(include=['object']).columns:\n",
    "    print(f\"{train[each].nunique()} uniques in {each} column.\")"
   ]
  },
  {
   "cell_type": "markdown",
   "metadata": {},
   "source": [
    "### Feature Engineering"
   ]
  },
  {
   "cell_type": "markdown",
   "metadata": {},
   "source": [
    "Steps:<br>\n",
    "1. Extract time features and convert them in cyclic notations.\n",
    "2. Create new columns with interaction count and interaction amount mean.\n",
    "3. Apply cube root to amount and amount mean.\n",
    "4. Target encode the categorical variables.\n",
    "5. Drop columns that are not needed.\n",
    "6. One hot encode and scale."
   ]
  },
  {
   "cell_type": "code",
   "execution_count": 16,
   "metadata": {},
   "outputs": [],
   "source": [
    "class TimestampTransformer(BaseEstimator, TransformerMixin):\n",
    "    def __init__(self, columns=None):\n",
    "        self.columns = columns\n",
    "    \n",
    "    def fit(self, X, y=None):\n",
    "        if not isinstance(X, pd.DataFrame):\n",
    "            raise ValueError(f\"{X} must be a pandas DataFrame\")\n",
    "        return self\n",
    "\n",
    "    def transform(self, X):\n",
    "        if not isinstance(X, pd.DataFrame):\n",
    "            raise ValueError(f\"{X} must be a pandas DataFrame\")\n",
    "        \n",
    "        if self.columns is None:\n",
    "            return X\n",
    "        else:\n",
    "            X_ = X.copy()\n",
    "            for each in self.columns:\n",
    "                X_[each] = pd.to_datetime(X[each])\n",
    "                day = X_[each].dt.day\n",
    "                hour = X_[each].dt.hour\n",
    "                day_of_week = X_[each].dt.dayofweek\n",
    "                X_['DaySin'] = np.sin(2 * np.pi * day / 31)\n",
    "                X_['DayCos'] = np.cos(2 * np.pi * day / 31)\n",
    "                X_['HourSin'] = np.sin(2 * np.pi * hour / 24)\n",
    "                X_['HourCos'] = np.cos(2 * np.pi * hour / 24)\n",
    "                X_['DoWSin'] = np.sin(2 * np.pi * day_of_week / 7)\n",
    "                X_['DoWCos'] = np.cos(2 * np.pi * day_of_week / 7)\n",
    "            return X_"
   ]
  },
  {
   "cell_type": "code",
   "execution_count": 17,
   "metadata": {},
   "outputs": [],
   "source": [
    "class InteractionTransformer(BaseEstimator, TransformerMixin):\n",
    "    def __init__(self):\n",
    "        self.grouping_columns = ['Sender_Id', 'Bene_Id']\n",
    "\n",
    "    def fit(self, X, y=None):\n",
    "        if not isinstance(X, pd.DataFrame):\n",
    "            raise ValueError(f\"{X} must be a pandas DataFrame\")\n",
    "\n",
    "        self.interaction_frequency = X.groupby(self.grouping_columns).size().reset_index().rename(columns={0: 'Interaction_Frequency'})\n",
    "        self.interaction_amount = X.groupby(self.grouping_columns)['USD_amount'].mean().reset_index().rename(columns = {'USD_amount':'Amount_Mean'})\n",
    "        return self\n",
    "\n",
    "    def transform(self, X):\n",
    "        if not isinstance(X, pd.DataFrame):\n",
    "            raise ValueError(f\"{X} must be a pandas DataFrame\")\n",
    "            \n",
    "        X_ = X.copy()\n",
    "        X_ = pd.merge(X_, self.interaction_frequency, on=self.grouping_columns, how='left')\n",
    "        X_['Interaction_Frequency'] = X_['Interaction_Frequency'].fillna(0)\n",
    "        X_ = pd.merge(X_, self.interaction_amount, on=self.grouping_columns, how='left')\n",
    "        X_['Amount_Mean'] = X_['Amount_Mean'].fillna(X_['Amount_Mean'].mean())\n",
    "        return X_"
   ]
  },
  {
   "cell_type": "code",
   "execution_count": 18,
   "metadata": {},
   "outputs": [],
   "source": [
    "class CubeRootTransformer(BaseEstimator, TransformerMixin):\n",
    "    def __init__(self, columns=None):\n",
    "        self.columns = columns\n",
    "    \n",
    "    def fit(self, X, y=None):\n",
    "        if not isinstance(X, pd.DataFrame):\n",
    "            raise ValueError(f\"{X} must be a pandas DataFrame\")\n",
    "        return self\n",
    "    \n",
    "    def transform(self, X):\n",
    "        if not isinstance(X, pd.DataFrame):\n",
    "            raise ValueError(f\"{X} must be a pandas DataFrame\")\n",
    "            \n",
    "        if self.columns is None:\n",
    "            return X\n",
    "        else:\n",
    "            X_ = X.copy()\n",
    "            X_[self.columns] = X_[self.columns].apply(lambda x: np.cbrt(x))\n",
    "            return X_"
   ]
  },
  {
   "cell_type": "code",
   "execution_count": 19,
   "metadata": {},
   "outputs": [],
   "source": [
    "class TargetEncoder(BaseEstimator, TransformerMixin):\n",
    "    def __init__(self, columns):\n",
    "        self.columns = columns\n",
    "        self.mapping = {}\n",
    "        self.target = 'Label'\n",
    "    \n",
    "    def fit(self, X, y):\n",
    "        if not isinstance(X, pd.DataFrame):\n",
    "            raise ValueError(f\"{X} must be a pandas DataFrame\")\n",
    "        \n",
    "        y.name = self.target\n",
    "        X_ = pd.concat([X,y], axis=1)\n",
    "        for col in self.columns:\n",
    "            encoding_map = X_.groupby(col)[self.target].mean().to_dict()\n",
    "            self.mapping[col] = encoding_map\n",
    "        return self\n",
    "        \n",
    "    def transform(self, X):\n",
    "        if not isinstance(X, pd.DataFrame):\n",
    "            raise ValueError(f\"{X} must be a pandas DataFrame\")\n",
    "\n",
    "        X_ = X.copy()\n",
    "        for col in self.columns:\n",
    "            X_[col] = X_[col].map(self.mapping[col])\n",
    "            X_[col] = X_[col].fillna(np.array(list(self.mapping[col].values())).mean())\n",
    "        return X_"
   ]
  },
  {
   "cell_type": "code",
   "execution_count": 20,
   "metadata": {},
   "outputs": [],
   "source": [
    "class ColumnDropper(BaseEstimator, TransformerMixin):\n",
    "    def __init__(self, dropping_columns):\n",
    "        self.dropping_columns = dropping_columns\n",
    "    \n",
    "    def fit(self, X, y=None):\n",
    "        return self\n",
    "    \n",
    "    def transform(self, X):\n",
    "        X_ = X.copy()\n",
    "        return X_.drop(self.dropping_columns, axis=1)"
   ]
  },
  {
   "cell_type": "code",
   "execution_count": 21,
   "metadata": {},
   "outputs": [],
   "source": [
    "dropping_columns = ['Transaction_Id', 'Time_step', 'Sender_lob']\n",
    "timestamp_columns = ['Time_step']\n",
    "target_encoding_columns = ['Sender_Id', 'Sender_Account', 'Sender_Country', 'Bene_Id', 'Bene_Account', 'Bene_Country']\n",
    "cube_root = ['USD_amount', 'Amount_Mean']"
   ]
  },
  {
   "cell_type": "code",
   "execution_count": 22,
   "metadata": {},
   "outputs": [],
   "source": [
    "numerical_columns = ['Sender_Id', 'Sender_Account', 'Sender_Country', 'Sender_Sector',\n",
    "       'Bene_Id', 'Bene_Account', 'Bene_Country', 'USD_amount', 'DaySin', 'DayCos', 'HourSin', 'HourCos', 'DoWSin',\n",
    "       'DoWCos', 'Interaction_Frequency', 'Amount_Mean']\n",
    "\n",
    "categorical_columns = ['Transaction_Type']"
   ]
  },
  {
   "cell_type": "code",
   "execution_count": 23,
   "metadata": {},
   "outputs": [],
   "source": [
    "feature_extraction_pipeline = Pipeline(\n",
    "    steps = [\n",
    "        ('target_encoder', TargetEncoder(target_encoding_columns)),\n",
    "        ('time_extractor', TimestampTransformer(timestamp_columns)),\n",
    "        ('interaction', InteractionTransformer()),\n",
    "        ('cube_root', CubeRootTransformer(cube_root)),\n",
    "        ('column_dropper', ColumnDropper(dropping_columns))\n",
    "    ]\n",
    ")"
   ]
  },
  {
   "cell_type": "code",
   "execution_count": 24,
   "metadata": {},
   "outputs": [],
   "source": [
    "# assert all(feature_extraction_pipeline.fit_transform(train).columns == ['Sender_Id', 'Sender_Account', 'Sender_Country', 'Sender_Sector',\n",
    "#        'Bene_Id', 'Bene_Account', 'Bene_Country', 'USD_amount', 'Label',\n",
    "#        'Transaction_Type', 'DaySin', 'DayCos', 'HourSin', 'HourCos', 'DoWSin',\n",
    "#        'DoWCos', 'Interaction_Frequency', 'Amount_Mean'])"
   ]
  },
  {
   "cell_type": "code",
   "execution_count": 25,
   "metadata": {},
   "outputs": [],
   "source": [
    "preprocessor = ColumnTransformer(\n",
    "    [\n",
    "        ('one_hot_encoder', OneHotEncoder(sparse=False, handle_unknown='ignore'), categorical_columns),\n",
    "        ('scaler', StandardScaler(), numerical_columns)\n",
    "    ],\n",
    "    remainder = 'passthrough'\n",
    ")"
   ]
  },
  {
   "cell_type": "code",
   "execution_count": 26,
   "metadata": {},
   "outputs": [],
   "source": [
    "X_train = train.drop('Label', axis=1)\n",
    "y_train = train['Label']\n",
    "\n",
    "X_test = test.drop('Label', axis=1)\n",
    "y_test = test['Label']"
   ]
  },
  {
   "cell_type": "markdown",
   "metadata": {},
   "source": [
    "### Modelling"
   ]
  },
  {
   "cell_type": "code",
   "execution_count": 27,
   "metadata": {},
   "outputs": [],
   "source": [
    "model_pipeline = Pipeline(\n",
    "    steps = [\n",
    "        ('feature_extraction', feature_extraction_pipeline),\n",
    "        ('pre_process', preprocessor),\n",
    "        ('isolation_forest', IsolationForest(contamination=0.25))\n",
    "    ]\n",
    ")"
   ]
  },
  {
   "cell_type": "code",
   "execution_count": 28,
   "metadata": {},
   "outputs": [],
   "source": [
    "# def custom_recall(clf, X, y_true):\n",
    "#     anomaly_score = clf.predict(X)\n",
    "#     y_pred = np.where(anomaly_score==1, 0, 1)\n",
    "#     recall = recall_score(y_true, y_pred)\n",
    "#     return recall"
   ]
  },
  {
   "cell_type": "code",
   "execution_count": 29,
   "metadata": {},
   "outputs": [],
   "source": [
    "# params = {\n",
    "#     'isolation_forest__n_estimators': list(range(100, 800, 100)), \n",
    "#     'isolation_forest__contamination': list(np.linspace(0.1, 0.4, 7))\n",
    "# }"
   ]
  },
  {
   "cell_type": "code",
   "execution_count": 30,
   "metadata": {},
   "outputs": [],
   "source": [
    "# grid = RandomizedSearchCV(model_pipeline, params, cv=3, scoring=custom_recall, verbose=10)\n",
    "# grid.fit(X_train, y_train)"
   ]
  },
  {
   "cell_type": "code",
   "execution_count": 31,
   "metadata": {},
   "outputs": [
    {
     "data": {
      "text/html": [
       "<style>#sk-d21a546a-a3f0-48a6-b615-e28c4781684d {color: black;background-color: white;}#sk-d21a546a-a3f0-48a6-b615-e28c4781684d pre{padding: 0;}#sk-d21a546a-a3f0-48a6-b615-e28c4781684d div.sk-toggleable {background-color: white;}#sk-d21a546a-a3f0-48a6-b615-e28c4781684d label.sk-toggleable__label {cursor: pointer;display: block;width: 100%;margin-bottom: 0;padding: 0.3em;box-sizing: border-box;text-align: center;}#sk-d21a546a-a3f0-48a6-b615-e28c4781684d label.sk-toggleable__label-arrow:before {content: \"▸\";float: left;margin-right: 0.25em;color: #696969;}#sk-d21a546a-a3f0-48a6-b615-e28c4781684d label.sk-toggleable__label-arrow:hover:before {color: black;}#sk-d21a546a-a3f0-48a6-b615-e28c4781684d div.sk-estimator:hover label.sk-toggleable__label-arrow:before {color: black;}#sk-d21a546a-a3f0-48a6-b615-e28c4781684d div.sk-toggleable__content {max-height: 0;max-width: 0;overflow: hidden;text-align: left;background-color: #f0f8ff;}#sk-d21a546a-a3f0-48a6-b615-e28c4781684d div.sk-toggleable__content pre {margin: 0.2em;color: black;border-radius: 0.25em;background-color: #f0f8ff;}#sk-d21a546a-a3f0-48a6-b615-e28c4781684d input.sk-toggleable__control:checked~div.sk-toggleable__content {max-height: 200px;max-width: 100%;overflow: auto;}#sk-d21a546a-a3f0-48a6-b615-e28c4781684d input.sk-toggleable__control:checked~label.sk-toggleable__label-arrow:before {content: \"▾\";}#sk-d21a546a-a3f0-48a6-b615-e28c4781684d div.sk-estimator input.sk-toggleable__control:checked~label.sk-toggleable__label {background-color: #d4ebff;}#sk-d21a546a-a3f0-48a6-b615-e28c4781684d div.sk-label input.sk-toggleable__control:checked~label.sk-toggleable__label {background-color: #d4ebff;}#sk-d21a546a-a3f0-48a6-b615-e28c4781684d input.sk-hidden--visually {border: 0;clip: rect(1px 1px 1px 1px);clip: rect(1px, 1px, 1px, 1px);height: 1px;margin: -1px;overflow: hidden;padding: 0;position: absolute;width: 1px;}#sk-d21a546a-a3f0-48a6-b615-e28c4781684d div.sk-estimator {font-family: monospace;background-color: #f0f8ff;border: 1px dotted black;border-radius: 0.25em;box-sizing: border-box;margin-bottom: 0.5em;}#sk-d21a546a-a3f0-48a6-b615-e28c4781684d div.sk-estimator:hover {background-color: #d4ebff;}#sk-d21a546a-a3f0-48a6-b615-e28c4781684d div.sk-parallel-item::after {content: \"\";width: 100%;border-bottom: 1px solid gray;flex-grow: 1;}#sk-d21a546a-a3f0-48a6-b615-e28c4781684d div.sk-label:hover label.sk-toggleable__label {background-color: #d4ebff;}#sk-d21a546a-a3f0-48a6-b615-e28c4781684d div.sk-serial::before {content: \"\";position: absolute;border-left: 1px solid gray;box-sizing: border-box;top: 2em;bottom: 0;left: 50%;}#sk-d21a546a-a3f0-48a6-b615-e28c4781684d div.sk-serial {display: flex;flex-direction: column;align-items: center;background-color: white;padding-right: 0.2em;padding-left: 0.2em;}#sk-d21a546a-a3f0-48a6-b615-e28c4781684d div.sk-item {z-index: 1;}#sk-d21a546a-a3f0-48a6-b615-e28c4781684d div.sk-parallel {display: flex;align-items: stretch;justify-content: center;background-color: white;}#sk-d21a546a-a3f0-48a6-b615-e28c4781684d div.sk-parallel::before {content: \"\";position: absolute;border-left: 1px solid gray;box-sizing: border-box;top: 2em;bottom: 0;left: 50%;}#sk-d21a546a-a3f0-48a6-b615-e28c4781684d div.sk-parallel-item {display: flex;flex-direction: column;position: relative;background-color: white;}#sk-d21a546a-a3f0-48a6-b615-e28c4781684d div.sk-parallel-item:first-child::after {align-self: flex-end;width: 50%;}#sk-d21a546a-a3f0-48a6-b615-e28c4781684d div.sk-parallel-item:last-child::after {align-self: flex-start;width: 50%;}#sk-d21a546a-a3f0-48a6-b615-e28c4781684d div.sk-parallel-item:only-child::after {width: 0;}#sk-d21a546a-a3f0-48a6-b615-e28c4781684d div.sk-dashed-wrapped {border: 1px dashed gray;margin: 0 0.4em 0.5em 0.4em;box-sizing: border-box;padding-bottom: 0.4em;background-color: white;position: relative;}#sk-d21a546a-a3f0-48a6-b615-e28c4781684d div.sk-label label {font-family: monospace;font-weight: bold;background-color: white;display: inline-block;line-height: 1.2em;}#sk-d21a546a-a3f0-48a6-b615-e28c4781684d div.sk-label-container {position: relative;z-index: 2;text-align: center;}#sk-d21a546a-a3f0-48a6-b615-e28c4781684d div.sk-container {/* jupyter's `normalize.less` sets `[hidden] { display: none; }` but bootstrap.min.css set `[hidden] { display: none !important; }` so we also need the `!important` here to be able to override the default hidden behavior on the sphinx rendered scikit-learn.org. See: https://github.com/scikit-learn/scikit-learn/issues/21755 */display: inline-block !important;position: relative;}#sk-d21a546a-a3f0-48a6-b615-e28c4781684d div.sk-text-repr-fallback {display: none;}</style><div id=\"sk-d21a546a-a3f0-48a6-b615-e28c4781684d\" class=\"sk-top-container\"><div class=\"sk-text-repr-fallback\"><pre>Pipeline(steps=[(&#x27;feature_extraction&#x27;,\n",
       "                 Pipeline(steps=[(&#x27;target_encoder&#x27;,\n",
       "                                  TargetEncoder(columns=[&#x27;Sender_Id&#x27;,\n",
       "                                                         &#x27;Sender_Account&#x27;,\n",
       "                                                         &#x27;Sender_Country&#x27;,\n",
       "                                                         &#x27;Bene_Id&#x27;,\n",
       "                                                         &#x27;Bene_Account&#x27;,\n",
       "                                                         &#x27;Bene_Country&#x27;])),\n",
       "                                 (&#x27;time_extractor&#x27;,\n",
       "                                  TimestampTransformer(columns=[&#x27;Time_step&#x27;])),\n",
       "                                 (&#x27;interaction&#x27;, InteractionTransformer()),\n",
       "                                 (&#x27;cube_root&#x27;,\n",
       "                                  CubeRootTransformer(columns=[&#x27;USD_amount&#x27;,\n",
       "                                                               &#x27;Amount...\n",
       "                                                  OneHotEncoder(handle_unknown=&#x27;ignore&#x27;,\n",
       "                                                                sparse=False),\n",
       "                                                  [&#x27;Transaction_Type&#x27;]),\n",
       "                                                 (&#x27;scaler&#x27;, StandardScaler(),\n",
       "                                                  [&#x27;Sender_Id&#x27;,\n",
       "                                                   &#x27;Sender_Account&#x27;,\n",
       "                                                   &#x27;Sender_Country&#x27;,\n",
       "                                                   &#x27;Sender_Sector&#x27;, &#x27;Bene_Id&#x27;,\n",
       "                                                   &#x27;Bene_Account&#x27;,\n",
       "                                                   &#x27;Bene_Country&#x27;, &#x27;USD_amount&#x27;,\n",
       "                                                   &#x27;DaySin&#x27;, &#x27;DayCos&#x27;,\n",
       "                                                   &#x27;HourSin&#x27;, &#x27;HourCos&#x27;,\n",
       "                                                   &#x27;DoWSin&#x27;, &#x27;DoWCos&#x27;,\n",
       "                                                   &#x27;Interaction_Frequency&#x27;,\n",
       "                                                   &#x27;Amount_Mean&#x27;])])),\n",
       "                (&#x27;isolation_forest&#x27;, IsolationForest(contamination=0.25))])</pre><b>Please rerun this cell to show the HTML repr or trust the notebook.</b></div><div class=\"sk-container\" hidden><div class=\"sk-item sk-dashed-wrapped\"><div class=\"sk-label-container\"><div class=\"sk-label sk-toggleable\"><input class=\"sk-toggleable__control sk-hidden--visually\" id=\"16333501-d46f-46d0-ac9f-8218c716dbb5\" type=\"checkbox\" ><label for=\"16333501-d46f-46d0-ac9f-8218c716dbb5\" class=\"sk-toggleable__label sk-toggleable__label-arrow\">Pipeline</label><div class=\"sk-toggleable__content\"><pre>Pipeline(steps=[(&#x27;feature_extraction&#x27;,\n",
       "                 Pipeline(steps=[(&#x27;target_encoder&#x27;,\n",
       "                                  TargetEncoder(columns=[&#x27;Sender_Id&#x27;,\n",
       "                                                         &#x27;Sender_Account&#x27;,\n",
       "                                                         &#x27;Sender_Country&#x27;,\n",
       "                                                         &#x27;Bene_Id&#x27;,\n",
       "                                                         &#x27;Bene_Account&#x27;,\n",
       "                                                         &#x27;Bene_Country&#x27;])),\n",
       "                                 (&#x27;time_extractor&#x27;,\n",
       "                                  TimestampTransformer(columns=[&#x27;Time_step&#x27;])),\n",
       "                                 (&#x27;interaction&#x27;, InteractionTransformer()),\n",
       "                                 (&#x27;cube_root&#x27;,\n",
       "                                  CubeRootTransformer(columns=[&#x27;USD_amount&#x27;,\n",
       "                                                               &#x27;Amount...\n",
       "                                                  OneHotEncoder(handle_unknown=&#x27;ignore&#x27;,\n",
       "                                                                sparse=False),\n",
       "                                                  [&#x27;Transaction_Type&#x27;]),\n",
       "                                                 (&#x27;scaler&#x27;, StandardScaler(),\n",
       "                                                  [&#x27;Sender_Id&#x27;,\n",
       "                                                   &#x27;Sender_Account&#x27;,\n",
       "                                                   &#x27;Sender_Country&#x27;,\n",
       "                                                   &#x27;Sender_Sector&#x27;, &#x27;Bene_Id&#x27;,\n",
       "                                                   &#x27;Bene_Account&#x27;,\n",
       "                                                   &#x27;Bene_Country&#x27;, &#x27;USD_amount&#x27;,\n",
       "                                                   &#x27;DaySin&#x27;, &#x27;DayCos&#x27;,\n",
       "                                                   &#x27;HourSin&#x27;, &#x27;HourCos&#x27;,\n",
       "                                                   &#x27;DoWSin&#x27;, &#x27;DoWCos&#x27;,\n",
       "                                                   &#x27;Interaction_Frequency&#x27;,\n",
       "                                                   &#x27;Amount_Mean&#x27;])])),\n",
       "                (&#x27;isolation_forest&#x27;, IsolationForest(contamination=0.25))])</pre></div></div></div><div class=\"sk-serial\"><div class=\"sk-item\"><div class=\"sk-label-container\"><div class=\"sk-label sk-toggleable\"><input class=\"sk-toggleable__control sk-hidden--visually\" id=\"438ac169-ae0b-4a3a-a2d5-23c26cee7936\" type=\"checkbox\" ><label for=\"438ac169-ae0b-4a3a-a2d5-23c26cee7936\" class=\"sk-toggleable__label sk-toggleable__label-arrow\">feature_extraction: Pipeline</label><div class=\"sk-toggleable__content\"><pre>Pipeline(steps=[(&#x27;target_encoder&#x27;,\n",
       "                 TargetEncoder(columns=[&#x27;Sender_Id&#x27;, &#x27;Sender_Account&#x27;,\n",
       "                                        &#x27;Sender_Country&#x27;, &#x27;Bene_Id&#x27;,\n",
       "                                        &#x27;Bene_Account&#x27;, &#x27;Bene_Country&#x27;])),\n",
       "                (&#x27;time_extractor&#x27;, TimestampTransformer(columns=[&#x27;Time_step&#x27;])),\n",
       "                (&#x27;interaction&#x27;, InteractionTransformer()),\n",
       "                (&#x27;cube_root&#x27;,\n",
       "                 CubeRootTransformer(columns=[&#x27;USD_amount&#x27;, &#x27;Amount_Mean&#x27;])),\n",
       "                (&#x27;column_dropper&#x27;,\n",
       "                 ColumnDropper(dropping_columns=[&#x27;Transaction_Id&#x27;, &#x27;Time_step&#x27;,\n",
       "                                                 &#x27;Sender_lob&#x27;]))])</pre></div></div></div><div class=\"sk-serial\"><div class=\"sk-item\"><div class=\"sk-estimator sk-toggleable\"><input class=\"sk-toggleable__control sk-hidden--visually\" id=\"db50252e-1103-460b-8b94-e04421660a19\" type=\"checkbox\" ><label for=\"db50252e-1103-460b-8b94-e04421660a19\" class=\"sk-toggleable__label sk-toggleable__label-arrow\">TargetEncoder</label><div class=\"sk-toggleable__content\"><pre>TargetEncoder(columns=[&#x27;Sender_Id&#x27;, &#x27;Sender_Account&#x27;, &#x27;Sender_Country&#x27;,\n",
       "                       &#x27;Bene_Id&#x27;, &#x27;Bene_Account&#x27;, &#x27;Bene_Country&#x27;])</pre></div></div></div><div class=\"sk-item\"><div class=\"sk-estimator sk-toggleable\"><input class=\"sk-toggleable__control sk-hidden--visually\" id=\"3c570330-03c0-44d5-a93d-10714f021569\" type=\"checkbox\" ><label for=\"3c570330-03c0-44d5-a93d-10714f021569\" class=\"sk-toggleable__label sk-toggleable__label-arrow\">TimestampTransformer</label><div class=\"sk-toggleable__content\"><pre>TimestampTransformer(columns=[&#x27;Time_step&#x27;])</pre></div></div></div><div class=\"sk-item\"><div class=\"sk-estimator sk-toggleable\"><input class=\"sk-toggleable__control sk-hidden--visually\" id=\"d59e8f01-9323-440f-92fa-ad2432858fb2\" type=\"checkbox\" ><label for=\"d59e8f01-9323-440f-92fa-ad2432858fb2\" class=\"sk-toggleable__label sk-toggleable__label-arrow\">InteractionTransformer</label><div class=\"sk-toggleable__content\"><pre>InteractionTransformer()</pre></div></div></div><div class=\"sk-item\"><div class=\"sk-estimator sk-toggleable\"><input class=\"sk-toggleable__control sk-hidden--visually\" id=\"ceba0fb5-d079-4e15-acf7-9654bbcca970\" type=\"checkbox\" ><label for=\"ceba0fb5-d079-4e15-acf7-9654bbcca970\" class=\"sk-toggleable__label sk-toggleable__label-arrow\">CubeRootTransformer</label><div class=\"sk-toggleable__content\"><pre>CubeRootTransformer(columns=[&#x27;USD_amount&#x27;, &#x27;Amount_Mean&#x27;])</pre></div></div></div><div class=\"sk-item\"><div class=\"sk-estimator sk-toggleable\"><input class=\"sk-toggleable__control sk-hidden--visually\" id=\"287aa2de-8b6d-4940-af7c-a1d97e81afe2\" type=\"checkbox\" ><label for=\"287aa2de-8b6d-4940-af7c-a1d97e81afe2\" class=\"sk-toggleable__label sk-toggleable__label-arrow\">ColumnDropper</label><div class=\"sk-toggleable__content\"><pre>ColumnDropper(dropping_columns=[&#x27;Transaction_Id&#x27;, &#x27;Time_step&#x27;, &#x27;Sender_lob&#x27;])</pre></div></div></div></div></div><div class=\"sk-item sk-dashed-wrapped\"><div class=\"sk-label-container\"><div class=\"sk-label sk-toggleable\"><input class=\"sk-toggleable__control sk-hidden--visually\" id=\"ea812245-000d-4dea-aa07-2c5a485d36c9\" type=\"checkbox\" ><label for=\"ea812245-000d-4dea-aa07-2c5a485d36c9\" class=\"sk-toggleable__label sk-toggleable__label-arrow\">pre_process: ColumnTransformer</label><div class=\"sk-toggleable__content\"><pre>ColumnTransformer(remainder=&#x27;passthrough&#x27;,\n",
       "                  transformers=[(&#x27;one_hot_encoder&#x27;,\n",
       "                                 OneHotEncoder(handle_unknown=&#x27;ignore&#x27;,\n",
       "                                               sparse=False),\n",
       "                                 [&#x27;Transaction_Type&#x27;]),\n",
       "                                (&#x27;scaler&#x27;, StandardScaler(),\n",
       "                                 [&#x27;Sender_Id&#x27;, &#x27;Sender_Account&#x27;,\n",
       "                                  &#x27;Sender_Country&#x27;, &#x27;Sender_Sector&#x27;, &#x27;Bene_Id&#x27;,\n",
       "                                  &#x27;Bene_Account&#x27;, &#x27;Bene_Country&#x27;, &#x27;USD_amount&#x27;,\n",
       "                                  &#x27;DaySin&#x27;, &#x27;DayCos&#x27;, &#x27;HourSin&#x27;, &#x27;HourCos&#x27;,\n",
       "                                  &#x27;DoWSin&#x27;, &#x27;DoWCos&#x27;, &#x27;Interaction_Frequency&#x27;,\n",
       "                                  &#x27;Amount_Mean&#x27;])])</pre></div></div></div><div class=\"sk-parallel\"><div class=\"sk-parallel-item\"><div class=\"sk-item\"><div class=\"sk-label-container\"><div class=\"sk-label sk-toggleable\"><input class=\"sk-toggleable__control sk-hidden--visually\" id=\"6e86faa8-45fe-4e02-995c-d1f35951a91a\" type=\"checkbox\" ><label for=\"6e86faa8-45fe-4e02-995c-d1f35951a91a\" class=\"sk-toggleable__label sk-toggleable__label-arrow\">one_hot_encoder</label><div class=\"sk-toggleable__content\"><pre>[&#x27;Transaction_Type&#x27;]</pre></div></div></div><div class=\"sk-serial\"><div class=\"sk-item\"><div class=\"sk-estimator sk-toggleable\"><input class=\"sk-toggleable__control sk-hidden--visually\" id=\"5f99def2-3e56-4bc5-b51a-f24a0bb88da4\" type=\"checkbox\" ><label for=\"5f99def2-3e56-4bc5-b51a-f24a0bb88da4\" class=\"sk-toggleable__label sk-toggleable__label-arrow\">OneHotEncoder</label><div class=\"sk-toggleable__content\"><pre>OneHotEncoder(handle_unknown=&#x27;ignore&#x27;, sparse=False)</pre></div></div></div></div></div></div><div class=\"sk-parallel-item\"><div class=\"sk-item\"><div class=\"sk-label-container\"><div class=\"sk-label sk-toggleable\"><input class=\"sk-toggleable__control sk-hidden--visually\" id=\"bb550321-3d4e-4bca-a378-6e733b79f9bf\" type=\"checkbox\" ><label for=\"bb550321-3d4e-4bca-a378-6e733b79f9bf\" class=\"sk-toggleable__label sk-toggleable__label-arrow\">scaler</label><div class=\"sk-toggleable__content\"><pre>[&#x27;Sender_Id&#x27;, &#x27;Sender_Account&#x27;, &#x27;Sender_Country&#x27;, &#x27;Sender_Sector&#x27;, &#x27;Bene_Id&#x27;, &#x27;Bene_Account&#x27;, &#x27;Bene_Country&#x27;, &#x27;USD_amount&#x27;, &#x27;DaySin&#x27;, &#x27;DayCos&#x27;, &#x27;HourSin&#x27;, &#x27;HourCos&#x27;, &#x27;DoWSin&#x27;, &#x27;DoWCos&#x27;, &#x27;Interaction_Frequency&#x27;, &#x27;Amount_Mean&#x27;]</pre></div></div></div><div class=\"sk-serial\"><div class=\"sk-item\"><div class=\"sk-estimator sk-toggleable\"><input class=\"sk-toggleable__control sk-hidden--visually\" id=\"903f0844-b67c-46b0-b9d1-1ba5fbf78806\" type=\"checkbox\" ><label for=\"903f0844-b67c-46b0-b9d1-1ba5fbf78806\" class=\"sk-toggleable__label sk-toggleable__label-arrow\">StandardScaler</label><div class=\"sk-toggleable__content\"><pre>StandardScaler()</pre></div></div></div></div></div></div><div class=\"sk-parallel-item\"><div class=\"sk-item\"><div class=\"sk-label-container\"><div class=\"sk-label sk-toggleable\"><input class=\"sk-toggleable__control sk-hidden--visually\" id=\"3a6baded-24eb-4cff-aef3-f85c266faa1b\" type=\"checkbox\" ><label for=\"3a6baded-24eb-4cff-aef3-f85c266faa1b\" class=\"sk-toggleable__label sk-toggleable__label-arrow\">remainder</label><div class=\"sk-toggleable__content\"><pre>[]</pre></div></div></div><div class=\"sk-serial\"><div class=\"sk-item\"><div class=\"sk-estimator sk-toggleable\"><input class=\"sk-toggleable__control sk-hidden--visually\" id=\"26f9eb7e-972d-420a-b2d4-75bed9ea703a\" type=\"checkbox\" ><label for=\"26f9eb7e-972d-420a-b2d4-75bed9ea703a\" class=\"sk-toggleable__label sk-toggleable__label-arrow\">passthrough</label><div class=\"sk-toggleable__content\"><pre>passthrough</pre></div></div></div></div></div></div></div></div><div class=\"sk-item\"><div class=\"sk-estimator sk-toggleable\"><input class=\"sk-toggleable__control sk-hidden--visually\" id=\"d240fb76-35ac-4a44-9cca-81f232bf59eb\" type=\"checkbox\" ><label for=\"d240fb76-35ac-4a44-9cca-81f232bf59eb\" class=\"sk-toggleable__label sk-toggleable__label-arrow\">IsolationForest</label><div class=\"sk-toggleable__content\"><pre>IsolationForest(contamination=0.25)</pre></div></div></div></div></div></div></div>"
      ],
      "text/plain": [
       "Pipeline(steps=[('feature_extraction',\n",
       "                 Pipeline(steps=[('target_encoder',\n",
       "                                  TargetEncoder(columns=['Sender_Id',\n",
       "                                                         'Sender_Account',\n",
       "                                                         'Sender_Country',\n",
       "                                                         'Bene_Id',\n",
       "                                                         'Bene_Account',\n",
       "                                                         'Bene_Country'])),\n",
       "                                 ('time_extractor',\n",
       "                                  TimestampTransformer(columns=['Time_step'])),\n",
       "                                 ('interaction', InteractionTransformer()),\n",
       "                                 ('cube_root',\n",
       "                                  CubeRootTransformer(columns=['USD_amount',\n",
       "                                                               'Amount...\n",
       "                                                  OneHotEncoder(handle_unknown='ignore',\n",
       "                                                                sparse=False),\n",
       "                                                  ['Transaction_Type']),\n",
       "                                                 ('scaler', StandardScaler(),\n",
       "                                                  ['Sender_Id',\n",
       "                                                   'Sender_Account',\n",
       "                                                   'Sender_Country',\n",
       "                                                   'Sender_Sector', 'Bene_Id',\n",
       "                                                   'Bene_Account',\n",
       "                                                   'Bene_Country', 'USD_amount',\n",
       "                                                   'DaySin', 'DayCos',\n",
       "                                                   'HourSin', 'HourCos',\n",
       "                                                   'DoWSin', 'DoWCos',\n",
       "                                                   'Interaction_Frequency',\n",
       "                                                   'Amount_Mean'])])),\n",
       "                ('isolation_forest', IsolationForest(contamination=0.25))])"
      ]
     },
     "execution_count": 31,
     "metadata": {},
     "output_type": "execute_result"
    }
   ],
   "source": [
    "model_pipeline.fit(X_train, y_train)"
   ]
  },
  {
   "cell_type": "code",
   "execution_count": 32,
   "metadata": {},
   "outputs": [],
   "source": [
    "anomaly_score = model_pipeline.predict(X_test)\n",
    "y_pred = np.where(anomaly_score==1, 0, 1)"
   ]
  },
  {
   "cell_type": "code",
   "execution_count": 33,
   "metadata": {},
   "outputs": [
    {
     "data": {
      "text/plain": [
       "array([[142775,  44692],\n",
       "       [  1891,   2000]], dtype=int64)"
      ]
     },
     "execution_count": 33,
     "metadata": {},
     "output_type": "execute_result"
    }
   ],
   "source": [
    "confusion_matrix(y_test, y_pred)"
   ]
  },
  {
   "cell_type": "code",
   "execution_count": 34,
   "metadata": {},
   "outputs": [
    {
     "name": "stdout",
     "output_type": "stream",
     "text": [
      "              precision    recall  f1-score   support\n",
      "\n",
      "           0       0.99      0.76      0.86    187467\n",
      "           1       0.04      0.51      0.08      3891\n",
      "\n",
      "    accuracy                           0.76    191358\n",
      "   macro avg       0.51      0.64      0.47    191358\n",
      "weighted avg       0.97      0.76      0.84    191358\n",
      "\n"
     ]
    }
   ],
   "source": [
    "print(classification_report(y_test, y_pred))"
   ]
  },
  {
   "cell_type": "code",
   "execution_count": 35,
   "metadata": {},
   "outputs": [],
   "source": [
    "import pickle\n",
    "pickle.dump(model_pipeline, open('artifacts/model_pipeline.pkl','wb'))"
   ]
  },
  {
   "cell_type": "code",
   "execution_count": null,
   "metadata": {},
   "outputs": [],
   "source": []
  }
 ],
 "metadata": {
  "kernelspec": {
   "display_name": "venv",
   "language": "python",
   "name": "python3"
  },
  "language_info": {
   "codemirror_mode": {
    "name": "ipython",
    "version": 3
   },
   "file_extension": ".py",
   "mimetype": "text/x-python",
   "name": "python",
   "nbconvert_exporter": "python",
   "pygments_lexer": "ipython3",
   "version": "3.7.4"
  }
 },
 "nbformat": 4,
 "nbformat_minor": 2
}
