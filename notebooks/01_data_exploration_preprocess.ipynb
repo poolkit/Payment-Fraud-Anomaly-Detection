{
 "cells": [
  {
   "cell_type": "code",
   "execution_count": 1,
   "metadata": {},
   "outputs": [
    {
     "name": "stdout",
     "output_type": "stream",
     "text": [
      "d:\\DataScience\\AnomalyDetection_JPMC\n"
     ]
    }
   ],
   "source": [
    "cd d:\\\\DataScience\\\\AnomalyDetection_JPMC"
   ]
  },
  {
   "cell_type": "code",
   "execution_count": 81,
   "metadata": {},
   "outputs": [],
   "source": [
    "import pandas as pd\n",
    "import numpy as np\n",
    "import matplotlib.pyplot as plt\n",
    "import seaborn as sns\n",
    "from pathlib import Path\n",
    "\n",
    "from sklearn.model_selection import train_test_split\n",
    "from sklearn.base import BaseEstimator, TransformerMixin\n",
    "from sklearn.impute import SimpleImputer\n",
    "from sklearn.compose import ColumnTransformer\n",
    "from sklearn.pipeline import Pipeline\n",
    "from sklearn.preprocessing import OneHotEncoder, StandardScaler\n",
    "from sklearn.decomposition import PCA\n",
    "\n",
    "from sklearn import set_config\n",
    "set_config(display='diagram')\n",
    "\n",
    "%matplotlib inline\n",
    "pd.set_option('display.max_column',None)"
   ]
  },
  {
   "cell_type": "code",
   "execution_count": 3,
   "metadata": {},
   "outputs": [
    {
     "data": {
      "text/plain": [
       "(1348359, 13)"
      ]
     },
     "execution_count": 3,
     "metadata": {},
     "output_type": "execute_result"
    }
   ],
   "source": [
    "filepath = Path(\"data/original/training_data.csv\")\n",
    "\n",
    "df = pd.read_csv(filepath)\n",
    "df.shape"
   ]
  },
  {
   "cell_type": "code",
   "execution_count": 4,
   "metadata": {},
   "outputs": [
    {
     "data": {
      "text/html": [
       "<div>\n",
       "<style scoped>\n",
       "    .dataframe tbody tr th:only-of-type {\n",
       "        vertical-align: middle;\n",
       "    }\n",
       "\n",
       "    .dataframe tbody tr th {\n",
       "        vertical-align: top;\n",
       "    }\n",
       "\n",
       "    .dataframe thead th {\n",
       "        text-align: right;\n",
       "    }\n",
       "</style>\n",
       "<table border=\"1\" class=\"dataframe\">\n",
       "  <thead>\n",
       "    <tr style=\"text-align: right;\">\n",
       "      <th></th>\n",
       "      <th>Time_step</th>\n",
       "      <th>Transaction_Id</th>\n",
       "      <th>Sender_Id</th>\n",
       "      <th>Sender_Account</th>\n",
       "      <th>Sender_Country</th>\n",
       "      <th>Sender_Sector</th>\n",
       "      <th>Sender_lob</th>\n",
       "      <th>Bene_Id</th>\n",
       "      <th>Bene_Account</th>\n",
       "      <th>Bene_Country</th>\n",
       "      <th>USD_amount</th>\n",
       "      <th>Label</th>\n",
       "      <th>Transaction_Type</th>\n",
       "    </tr>\n",
       "  </thead>\n",
       "  <tbody>\n",
       "    <tr>\n",
       "      <th>0</th>\n",
       "      <td>2051-12-30 14:37:07</td>\n",
       "      <td>MOVE-FUNDS-2003248</td>\n",
       "      <td>COMPANY-2003012</td>\n",
       "      <td>ACCOUNT-2003019</td>\n",
       "      <td>GERMANY</td>\n",
       "      <td>59.0</td>\n",
       "      <td>CCB</td>\n",
       "      <td>JPMC-CLIENT-2003007</td>\n",
       "      <td>ACCOUNT-2003030</td>\n",
       "      <td>LIBERIA</td>\n",
       "      <td>2000.27</td>\n",
       "      <td>0</td>\n",
       "      <td>MOVE-FUNDS</td>\n",
       "    </tr>\n",
       "    <tr>\n",
       "      <th>1</th>\n",
       "      <td>2030-04-23 11:24:51</td>\n",
       "      <td>PAYMENT-550486</td>\n",
       "      <td>JPMC-CLIENT-550438</td>\n",
       "      <td>ACCOUNT-550452</td>\n",
       "      <td>USA</td>\n",
       "      <td>21626.0</td>\n",
       "      <td>CCB</td>\n",
       "      <td>BILL-COMPANY-550487</td>\n",
       "      <td>ACCOUNT-550488</td>\n",
       "      <td>BHUTAN</td>\n",
       "      <td>84.93</td>\n",
       "      <td>0</td>\n",
       "      <td>MAKE-PAYMENT</td>\n",
       "    </tr>\n",
       "    <tr>\n",
       "      <th>2</th>\n",
       "      <td>2039-01-04 05:15:45</td>\n",
       "      <td>PAYMENT-1127038</td>\n",
       "      <td>JPMC-CLIENT-1126759</td>\n",
       "      <td>ACCOUNT-1126774</td>\n",
       "      <td>USA</td>\n",
       "      <td>27531.0</td>\n",
       "      <td>CCB</td>\n",
       "      <td>BILL-COMPANY-1127039</td>\n",
       "      <td>ACCOUNT-1127040</td>\n",
       "      <td>USA</td>\n",
       "      <td>13.81</td>\n",
       "      <td>0</td>\n",
       "      <td>MAKE-PAYMENT</td>\n",
       "    </tr>\n",
       "    <tr>\n",
       "      <th>3</th>\n",
       "      <td>2048-10-26 14:56:47</td>\n",
       "      <td>CASH-CHECK-1780299</td>\n",
       "      <td>JPMC-CLIENT-1780040</td>\n",
       "      <td>ACCOUNT-1780070</td>\n",
       "      <td>IRAQ</td>\n",
       "      <td>7541.0</td>\n",
       "      <td>CCB</td>\n",
       "      <td>NaN</td>\n",
       "      <td>NaN</td>\n",
       "      <td>NaN</td>\n",
       "      <td>797.53</td>\n",
       "      <td>0</td>\n",
       "      <td>EXCHANGE</td>\n",
       "    </tr>\n",
       "    <tr>\n",
       "      <th>4</th>\n",
       "      <td>2034-09-09 12:25:18</td>\n",
       "      <td>EXCHANGE-837930</td>\n",
       "      <td>JPMC-CLIENT-837717</td>\n",
       "      <td>ACCOUNT-837727</td>\n",
       "      <td>USA</td>\n",
       "      <td>12315.0</td>\n",
       "      <td>CCB</td>\n",
       "      <td>NaN</td>\n",
       "      <td>NaN</td>\n",
       "      <td>NaN</td>\n",
       "      <td>225.52</td>\n",
       "      <td>0</td>\n",
       "      <td>WITHDRAWAL</td>\n",
       "    </tr>\n",
       "  </tbody>\n",
       "</table>\n",
       "</div>"
      ],
      "text/plain": [
       "             Time_step      Transaction_Id            Sender_Id  \\\n",
       "0  2051-12-30 14:37:07  MOVE-FUNDS-2003248      COMPANY-2003012   \n",
       "1  2030-04-23 11:24:51      PAYMENT-550486   JPMC-CLIENT-550438   \n",
       "2  2039-01-04 05:15:45     PAYMENT-1127038  JPMC-CLIENT-1126759   \n",
       "3  2048-10-26 14:56:47  CASH-CHECK-1780299  JPMC-CLIENT-1780040   \n",
       "4  2034-09-09 12:25:18     EXCHANGE-837930   JPMC-CLIENT-837717   \n",
       "\n",
       "    Sender_Account Sender_Country  Sender_Sector Sender_lob  \\\n",
       "0  ACCOUNT-2003019        GERMANY           59.0        CCB   \n",
       "1   ACCOUNT-550452            USA        21626.0        CCB   \n",
       "2  ACCOUNT-1126774            USA        27531.0        CCB   \n",
       "3  ACCOUNT-1780070           IRAQ         7541.0        CCB   \n",
       "4   ACCOUNT-837727            USA        12315.0        CCB   \n",
       "\n",
       "                Bene_Id     Bene_Account Bene_Country  USD_amount  Label  \\\n",
       "0   JPMC-CLIENT-2003007  ACCOUNT-2003030      LIBERIA     2000.27      0   \n",
       "1   BILL-COMPANY-550487   ACCOUNT-550488       BHUTAN       84.93      0   \n",
       "2  BILL-COMPANY-1127039  ACCOUNT-1127040          USA       13.81      0   \n",
       "3                   NaN              NaN          NaN      797.53      0   \n",
       "4                   NaN              NaN          NaN      225.52      0   \n",
       "\n",
       "  Transaction_Type  \n",
       "0       MOVE-FUNDS  \n",
       "1     MAKE-PAYMENT  \n",
       "2     MAKE-PAYMENT  \n",
       "3         EXCHANGE  \n",
       "4       WITHDRAWAL  "
      ]
     },
     "execution_count": 4,
     "metadata": {},
     "output_type": "execute_result"
    }
   ],
   "source": [
    "df.head()"
   ]
  },
  {
   "cell_type": "code",
   "execution_count": 5,
   "metadata": {},
   "outputs": [
    {
     "name": "stdout",
     "output_type": "stream",
     "text": [
      "<class 'pandas.core.frame.DataFrame'>\n",
      "RangeIndex: 1348359 entries, 0 to 1348358\n",
      "Data columns (total 13 columns):\n",
      " #   Column            Non-Null Count    Dtype  \n",
      "---  ------            --------------    -----  \n",
      " 0   Time_step         1348359 non-null  object \n",
      " 1   Transaction_Id    1348359 non-null  object \n",
      " 2   Sender_Id         1151056 non-null  object \n",
      " 3   Sender_Account    1151056 non-null  object \n",
      " 4   Sender_Country    1151056 non-null  object \n",
      " 5   Sender_Sector     1151056 non-null  float64\n",
      " 6   Sender_lob        1151056 non-null  object \n",
      " 7   Bene_Id           1154089 non-null  object \n",
      " 8   Bene_Account      1154089 non-null  object \n",
      " 9   Bene_Country      1154089 non-null  object \n",
      " 10  USD_amount        1348359 non-null  float64\n",
      " 11  Label             1348359 non-null  int64  \n",
      " 12  Transaction_Type  1348359 non-null  object \n",
      "dtypes: float64(2), int64(1), object(10)\n",
      "memory usage: 133.7+ MB\n"
     ]
    }
   ],
   "source": [
    "df.info()"
   ]
  },
  {
   "cell_type": "code",
   "execution_count": 6,
   "metadata": {},
   "outputs": [
    {
     "data": {
      "text/plain": [
       "Time_step                0\n",
       "Transaction_Id           0\n",
       "Sender_Id           197303\n",
       "Sender_Account      197303\n",
       "Sender_Country      197303\n",
       "Sender_Sector       197303\n",
       "Sender_lob          197303\n",
       "Bene_Id             194270\n",
       "Bene_Account        194270\n",
       "Bene_Country        194270\n",
       "USD_amount               0\n",
       "Label                    0\n",
       "Transaction_Type         0\n",
       "dtype: int64"
      ]
     },
     "execution_count": 6,
     "metadata": {},
     "output_type": "execute_result"
    }
   ],
   "source": [
    "df.isnull().sum()"
   ]
  },
  {
   "cell_type": "code",
   "execution_count": 7,
   "metadata": {},
   "outputs": [
    {
     "name": "stdout",
     "output_type": "stream",
     "text": [
      "(1078687, 13) (269672, 13)\n"
     ]
    }
   ],
   "source": [
    "train, test = train_test_split(df, test_size=0.2, random_state=42)\n",
    "print(train.shape, test.shape)"
   ]
  },
  {
   "cell_type": "code",
   "execution_count": 8,
   "metadata": {},
   "outputs": [
    {
     "data": {
      "text/plain": [
       "0    1056452\n",
       "1      22235\n",
       "Name: Label, dtype: int64"
      ]
     },
     "execution_count": 8,
     "metadata": {},
     "output_type": "execute_result"
    }
   ],
   "source": [
    "train['Label'].value_counts()"
   ]
  },
  {
   "cell_type": "code",
   "execution_count": 9,
   "metadata": {},
   "outputs": [
    {
     "data": {
      "text/plain": [
       "0    264170\n",
       "1      5502\n",
       "Name: Label, dtype: int64"
      ]
     },
     "execution_count": 9,
     "metadata": {},
     "output_type": "execute_result"
    }
   ],
   "source": [
    "test['Label'].value_counts()"
   ]
  },
  {
   "cell_type": "code",
   "execution_count": 10,
   "metadata": {},
   "outputs": [
    {
     "data": {
      "text/plain": [
       "1"
      ]
     },
     "execution_count": 10,
     "metadata": {},
     "output_type": "execute_result"
    }
   ],
   "source": [
    "train['Sender_lob'].nunique()"
   ]
  },
  {
   "cell_type": "code",
   "execution_count": 11,
   "metadata": {},
   "outputs": [
    {
     "name": "stdout",
     "output_type": "stream",
     "text": [
      "549099 uniques in Time_step column.\n",
      "1078687 uniques in Transaction_Id column.\n",
      "51042 uniques in Sender_Id column.\n",
      "66889 uniques in Sender_Account column.\n",
      "252 uniques in Sender_Country column.\n",
      "1 uniques in Sender_lob column.\n",
      "236536 uniques in Bene_Id column.\n",
      "251997 uniques in Bene_Account column.\n",
      "252 uniques in Bene_Country column.\n",
      "8 uniques in Transaction_Type column.\n"
     ]
    }
   ],
   "source": [
    "for each in train.select_dtypes(include=['object']).columns:\n",
    "    print(f\"{train[each].nunique()} uniques in {each} column.\")"
   ]
  },
  {
   "cell_type": "code",
   "execution_count": 12,
   "metadata": {},
   "outputs": [],
   "source": [
    "is_fraud = train[train['Label']==1]"
   ]
  },
  {
   "cell_type": "code",
   "execution_count": 13,
   "metadata": {},
   "outputs": [
    {
     "data": {
      "text/plain": [
       "Text(0, 0.5, 'Count')"
      ]
     },
     "execution_count": 13,
     "metadata": {},
     "output_type": "execute_result"
    },
    {
     "data": {
      "image/png": "[encoded data removed]",
      "text/plain": [
       "<Figure size 640x480 with 1 Axes>"
      ]
     },
     "metadata": {},
     "output_type": "display_data"
    }
   ],
   "source": [
    "sns.countplot(data=is_fraud, y='Sender_lob', color='red')\n",
    "plt.title('Label wrt Sender LOB')\n",
    "plt.xlabel('Line of Business')\n",
    "plt.ylabel('Count')"
   ]
  },
  {
   "cell_type": "code",
   "execution_count": 14,
   "metadata": {},
   "outputs": [
    {
     "data": {
      "text/plain": [
       "Text(0, 0.5, 'Count')"
      ]
     },
     "execution_count": 14,
     "metadata": {},
     "output_type": "execute_result"
    },
    {
     "data": {
      "image/png": "[encoded data removed]",
      "text/plain": [
       "<Figure size 640x480 with 1 Axes>"
      ]
     },
     "metadata": {},
     "output_type": "display_data"
    }
   ],
   "source": [
    "sns.countplot(data=is_fraud, y='Transaction_Type', color='red')\n",
    "plt.title('Label wrt Transaction Type')\n",
    "plt.xlabel('Transaction Type')\n",
    "plt.ylabel('Count')"
   ]
  },
  {
   "cell_type": "code",
   "execution_count": 15,
   "metadata": {},
   "outputs": [
    {
     "data": {
      "text/plain": [
       "MAKE-PAYMENT     401875\n",
       "QUICK-PAYMENT    156805\n",
       "MOVE-FUNDS       129491\n",
       "DEPOSIT-CASH      78947\n",
       "DEPOSIT-CHECK     78805\n",
       "EXCHANGE          77934\n",
       "PAY-CHECK         77579\n",
       "WITHDRAWAL        77251\n",
       "Name: Transaction_Type, dtype: int64"
      ]
     },
     "execution_count": 15,
     "metadata": {},
     "output_type": "execute_result"
    }
   ],
   "source": [
    "train.Transaction_Type.value_counts()"
   ]
  },
  {
   "cell_type": "markdown",
   "metadata": {},
   "source": [
    "We have noticed there are some null values. But these null values are not because the data is missing due to some error or data entry, rather there is no data present for such scenarios.<br>\n",
    "For example:<br>\n",
    "- Cases where reciever info should be missing:\n",
    "    - WITHDRAWL\n",
    "    - EXCHANGE\n",
    "- Cases where sender info should be missing:\n",
    "    - DEPOSIT-CASH\n",
    "    - DEPOSIT-CHECK\n",
    "- Cases where nothing should be be missing:\n",
    "    - PAY-CHECK\n",
    "    - MOVE-FUNDS\n",
    "    - QUICK-PAYMENT\n",
    "    - MAKE-PAYMENT"
   ]
  },
  {
   "cell_type": "markdown",
   "metadata": {},
   "source": [
    "We can see that all the null values are justified, and we don't need to impute it like we impute regular missing values. Instead we will give all the missing values a unique token to separate it from the rest of dataset."
   ]
  },
  {
   "cell_type": "markdown",
   "metadata": {},
   "source": [
    "Alse, we won't need a few columns as those will be user specific and we want to get a generic model here."
   ]
  },
  {
   "cell_type": "code",
   "execution_count": 16,
   "metadata": {},
   "outputs": [
    {
     "name": "stdout",
     "output_type": "stream",
     "text": [
      "(1078687, 6) (269672, 6)\n"
     ]
    }
   ],
   "source": [
    "dropped_columns = ['Transaction_Id', 'Sender_Id', 'Sender_Account', 'Sender_Sector', 'Sender_lob', 'Bene_Id', 'Bene_Account']\n",
    "\n",
    "train = train.drop(dropped_columns, axis=1, errors='ignore').reset_index(drop=True)\n",
    "test = test.drop(dropped_columns, axis=1, errors='ignore').reset_index(drop=True)\n",
    "\n",
    "print(train.shape, test.shape)"
   ]
  },
  {
   "cell_type": "code",
   "execution_count": 17,
   "metadata": {},
   "outputs": [
    {
     "data": {
      "text/html": [
       "<div>\n",
       "<style scoped>\n",
       "    .dataframe tbody tr th:only-of-type {\n",
       "        vertical-align: middle;\n",
       "    }\n",
       "\n",
       "    .dataframe tbody tr th {\n",
       "        vertical-align: top;\n",
       "    }\n",
       "\n",
       "    .dataframe thead th {\n",
       "        text-align: right;\n",
       "    }\n",
       "</style>\n",
       "<table border=\"1\" class=\"dataframe\">\n",
       "  <thead>\n",
       "    <tr style=\"text-align: right;\">\n",
       "      <th></th>\n",
       "      <th>Time_step</th>\n",
       "      <th>Sender_Country</th>\n",
       "      <th>Bene_Country</th>\n",
       "      <th>USD_amount</th>\n",
       "      <th>Label</th>\n",
       "      <th>Transaction_Type</th>\n",
       "    </tr>\n",
       "  </thead>\n",
       "  <tbody>\n",
       "    <tr>\n",
       "      <th>0</th>\n",
       "      <td>2040-11-11 15:15:57</td>\n",
       "      <td>USA</td>\n",
       "      <td>GUERNSEY</td>\n",
       "      <td>84.89</td>\n",
       "      <td>0</td>\n",
       "      <td>MAKE-PAYMENT</td>\n",
       "    </tr>\n",
       "    <tr>\n",
       "      <th>1</th>\n",
       "      <td>2041-01-11 05:05:58</td>\n",
       "      <td>USA</td>\n",
       "      <td>MOZAMBIQUE</td>\n",
       "      <td>778.61</td>\n",
       "      <td>0</td>\n",
       "      <td>MAKE-PAYMENT</td>\n",
       "    </tr>\n",
       "    <tr>\n",
       "      <th>2</th>\n",
       "      <td>2023-03-22 11:14:06</td>\n",
       "      <td>USA</td>\n",
       "      <td>AMERICAN-SAMOA</td>\n",
       "      <td>16.82</td>\n",
       "      <td>0</td>\n",
       "      <td>MAKE-PAYMENT</td>\n",
       "    </tr>\n",
       "    <tr>\n",
       "      <th>3</th>\n",
       "      <td>2027-09-13 20:34:34</td>\n",
       "      <td>USA</td>\n",
       "      <td>USA</td>\n",
       "      <td>755.91</td>\n",
       "      <td>0</td>\n",
       "      <td>MAKE-PAYMENT</td>\n",
       "    </tr>\n",
       "    <tr>\n",
       "      <th>4</th>\n",
       "      <td>2025-03-16 11:44:18</td>\n",
       "      <td>USA</td>\n",
       "      <td>MALI</td>\n",
       "      <td>553.75</td>\n",
       "      <td>0</td>\n",
       "      <td>MAKE-PAYMENT</td>\n",
       "    </tr>\n",
       "  </tbody>\n",
       "</table>\n",
       "</div>"
      ],
      "text/plain": [
       "             Time_step Sender_Country    Bene_Country  USD_amount  Label  \\\n",
       "0  2040-11-11 15:15:57            USA        GUERNSEY       84.89      0   \n",
       "1  2041-01-11 05:05:58            USA      MOZAMBIQUE      778.61      0   \n",
       "2  2023-03-22 11:14:06            USA  AMERICAN-SAMOA       16.82      0   \n",
       "3  2027-09-13 20:34:34            USA             USA      755.91      0   \n",
       "4  2025-03-16 11:44:18            USA            MALI      553.75      0   \n",
       "\n",
       "  Transaction_Type  \n",
       "0     MAKE-PAYMENT  \n",
       "1     MAKE-PAYMENT  \n",
       "2     MAKE-PAYMENT  \n",
       "3     MAKE-PAYMENT  \n",
       "4     MAKE-PAYMENT  "
      ]
     },
     "execution_count": 17,
     "metadata": {},
     "output_type": "execute_result"
    }
   ],
   "source": [
    "train.head()"
   ]
  },
  {
   "cell_type": "markdown",
   "metadata": {},
   "source": [
    "Before applying transformation, we need to bin the countries because of the 80-20 rule."
   ]
  },
  {
   "cell_type": "code",
   "execution_count": 18,
   "metadata": {},
   "outputs": [
    {
     "data": {
      "text/plain": [
       "USA                       718287\n",
       "GERMANY                    52796\n",
       "CANADA                     19745\n",
       "THAILAND                     843\n",
       "FRENCH-GUIANA                816\n",
       "                           ...  \n",
       "ZAMBIA                       307\n",
       "BOSNIA-AND-HERZEGOVINA       295\n",
       "TONGA                        292\n",
       "UNITED-STATES                286\n",
       "GREECE                       285\n",
       "Name: Sender_Country, Length: 252, dtype: int64"
      ]
     },
     "execution_count": 18,
     "metadata": {},
     "output_type": "execute_result"
    }
   ],
   "source": [
    "train.Sender_Country.value_counts()"
   ]
  },
  {
   "cell_type": "code",
   "execution_count": 146,
   "metadata": {},
   "outputs": [],
   "source": [
    "class CountryTransformer(BaseEstimator, TransformerMixin):\n",
    "    def __init__(self, top_countries, country_columns):\n",
    "        self.top_countries = top_countries\n",
    "        self.country_columns = country_columns\n",
    "    \n",
    "    def fit(self, X, y=None):\n",
    "        return self\n",
    "    \n",
    "    def transform(self, X):\n",
    "        for col_idx in self.country_columns:\n",
    "            for row_idx in range(X.shape[0]):\n",
    "                value = X[row_idx, col_idx]\n",
    "                print(value)\n",
    "                if value not in self.top_countries:\n",
    "                    X[row_idx, col_idx] = 'Other'\n",
    "        \n",
    "        return X"
   ]
  },
  {
   "cell_type": "code",
   "execution_count": 20,
   "metadata": {},
   "outputs": [],
   "source": [
    "class TimestampTransformer(BaseEstimator, TransformerMixin):\n",
    "    def __init__(self, timestamp_column):\n",
    "        self.timestamp_column = timestamp_column\n",
    "\n",
    "    def fit(self, X, y=None):\n",
    "        return self\n",
    "\n",
    "    def transform(self, X):\n",
    "        X[self.timestamp_column] = pd.to_datetime(X[self.timestamp_column])\n",
    "        X['Year'] = X[self.timestamp_column].dt.year\n",
    "        X['Month'] = X[self.timestamp_column].dt.month\n",
    "        X['Day'] = X[self.timestamp_column].dt.day\n",
    "        X['Hour'] = X[self.timestamp_column].dt.hour\n",
    "        X['Minute'] = X[self.timestamp_column].dt.minute\n",
    "        X.drop(self.timestamp_column, axis=1, inplace=True)\n",
    "        return X"
   ]
  },
  {
   "cell_type": "code",
   "execution_count": 21,
   "metadata": {},
   "outputs": [],
   "source": [
    "timestamp_column = 'Time_step'\n",
    "country_columns = ['Sender_Country', 'Bene_Country']\n",
    "categorical_columns = ['Sender_Country', 'Bene_Country', 'Transaction_Type']\n",
    "numerical_columns = ['Year','Month','Day','Hour','Minute','USD_amount']"
   ]
  },
  {
   "cell_type": "code",
   "execution_count": 85,
   "metadata": {},
   "outputs": [
    {
     "data": {
      "text/html": [
       "<div>\n",
       "<style scoped>\n",
       "    .dataframe tbody tr th:only-of-type {\n",
       "        vertical-align: middle;\n",
       "    }\n",
       "\n",
       "    .dataframe tbody tr th {\n",
       "        vertical-align: top;\n",
       "    }\n",
       "\n",
       "    .dataframe thead th {\n",
       "        text-align: right;\n",
       "    }\n",
       "</style>\n",
       "<table border=\"1\" class=\"dataframe\">\n",
       "  <thead>\n",
       "    <tr style=\"text-align: right;\">\n",
       "      <th></th>\n",
       "      <th>Time_step</th>\n",
       "      <th>Sender_Country</th>\n",
       "      <th>Bene_Country</th>\n",
       "      <th>USD_amount</th>\n",
       "      <th>Label</th>\n",
       "      <th>Transaction_Type</th>\n",
       "    </tr>\n",
       "  </thead>\n",
       "  <tbody>\n",
       "    <tr>\n",
       "      <th>0</th>\n",
       "      <td>2040-11-11 15:15:57</td>\n",
       "      <td>USA</td>\n",
       "      <td>GUERNSEY</td>\n",
       "      <td>84.89</td>\n",
       "      <td>0</td>\n",
       "      <td>MAKE-PAYMENT</td>\n",
       "    </tr>\n",
       "    <tr>\n",
       "      <th>1</th>\n",
       "      <td>2041-01-11 05:05:58</td>\n",
       "      <td>USA</td>\n",
       "      <td>MOZAMBIQUE</td>\n",
       "      <td>778.61</td>\n",
       "      <td>0</td>\n",
       "      <td>MAKE-PAYMENT</td>\n",
       "    </tr>\n",
       "    <tr>\n",
       "      <th>2</th>\n",
       "      <td>2023-03-22 11:14:06</td>\n",
       "      <td>USA</td>\n",
       "      <td>AMERICAN-SAMOA</td>\n",
       "      <td>16.82</td>\n",
       "      <td>0</td>\n",
       "      <td>MAKE-PAYMENT</td>\n",
       "    </tr>\n",
       "    <tr>\n",
       "      <th>3</th>\n",
       "      <td>2027-09-13 20:34:34</td>\n",
       "      <td>USA</td>\n",
       "      <td>USA</td>\n",
       "      <td>755.91</td>\n",
       "      <td>0</td>\n",
       "      <td>MAKE-PAYMENT</td>\n",
       "    </tr>\n",
       "    <tr>\n",
       "      <th>4</th>\n",
       "      <td>2025-03-16 11:44:18</td>\n",
       "      <td>USA</td>\n",
       "      <td>MALI</td>\n",
       "      <td>553.75</td>\n",
       "      <td>0</td>\n",
       "      <td>MAKE-PAYMENT</td>\n",
       "    </tr>\n",
       "    <tr>\n",
       "      <th>...</th>\n",
       "      <td>...</td>\n",
       "      <td>...</td>\n",
       "      <td>...</td>\n",
       "      <td>...</td>\n",
       "      <td>...</td>\n",
       "      <td>...</td>\n",
       "    </tr>\n",
       "    <tr>\n",
       "      <th>1078682</th>\n",
       "      <td>2049-09-12 20:56:53</td>\n",
       "      <td>NaN</td>\n",
       "      <td>USA</td>\n",
       "      <td>868.61</td>\n",
       "      <td>0</td>\n",
       "      <td>DEPOSIT-CHECK</td>\n",
       "    </tr>\n",
       "    <tr>\n",
       "      <th>1078683</th>\n",
       "      <td>2031-10-16 13:05:00</td>\n",
       "      <td>TOKELAU</td>\n",
       "      <td>USA</td>\n",
       "      <td>559.85</td>\n",
       "      <td>0</td>\n",
       "      <td>MAKE-PAYMENT</td>\n",
       "    </tr>\n",
       "    <tr>\n",
       "      <th>1078684</th>\n",
       "      <td>2051-12-04 19:37:07</td>\n",
       "      <td>USA</td>\n",
       "      <td>NaN</td>\n",
       "      <td>715.58</td>\n",
       "      <td>0</td>\n",
       "      <td>WITHDRAWAL</td>\n",
       "    </tr>\n",
       "    <tr>\n",
       "      <th>1078685</th>\n",
       "      <td>2046-06-07 01:46:32</td>\n",
       "      <td>USA</td>\n",
       "      <td>MONGOLIA</td>\n",
       "      <td>34.46</td>\n",
       "      <td>0</td>\n",
       "      <td>MAKE-PAYMENT</td>\n",
       "    </tr>\n",
       "    <tr>\n",
       "      <th>1078686</th>\n",
       "      <td>2049-04-13 08:16:50</td>\n",
       "      <td>USA</td>\n",
       "      <td>CANADA</td>\n",
       "      <td>953.05</td>\n",
       "      <td>0</td>\n",
       "      <td>MOVE-FUNDS</td>\n",
       "    </tr>\n",
       "  </tbody>\n",
       "</table>\n",
       "<p>1078687 rows × 6 columns</p>\n",
       "</div>"
      ],
      "text/plain": [
       "                   Time_step Sender_Country    Bene_Country  USD_amount  \\\n",
       "0        2040-11-11 15:15:57            USA        GUERNSEY       84.89   \n",
       "1        2041-01-11 05:05:58            USA      MOZAMBIQUE      778.61   \n",
       "2        2023-03-22 11:14:06            USA  AMERICAN-SAMOA       16.82   \n",
       "3        2027-09-13 20:34:34            USA             USA      755.91   \n",
       "4        2025-03-16 11:44:18            USA            MALI      553.75   \n",
       "...                      ...            ...             ...         ...   \n",
       "1078682  2049-09-12 20:56:53            NaN             USA      868.61   \n",
       "1078683  2031-10-16 13:05:00        TOKELAU             USA      559.85   \n",
       "1078684  2051-12-04 19:37:07            USA             NaN      715.58   \n",
       "1078685  2046-06-07 01:46:32            USA        MONGOLIA       34.46   \n",
       "1078686  2049-04-13 08:16:50            USA          CANADA      953.05   \n",
       "\n",
       "         Label Transaction_Type  \n",
       "0            0     MAKE-PAYMENT  \n",
       "1            0     MAKE-PAYMENT  \n",
       "2            0     MAKE-PAYMENT  \n",
       "3            0     MAKE-PAYMENT  \n",
       "4            0     MAKE-PAYMENT  \n",
       "...        ...              ...  \n",
       "1078682      0    DEPOSIT-CHECK  \n",
       "1078683      0     MAKE-PAYMENT  \n",
       "1078684      0       WITHDRAWAL  \n",
       "1078685      0     MAKE-PAYMENT  \n",
       "1078686      0       MOVE-FUNDS  \n",
       "\n",
       "[1078687 rows x 6 columns]"
      ]
     },
     "execution_count": 85,
     "metadata": {},
     "output_type": "execute_result"
    }
   ],
   "source": [
    "y"
   ]
  },
  {
   "cell_type": "code",
   "execution_count": 130,
   "metadata": {},
   "outputs": [],
   "source": [
    "timestamp = ColumnTransformer(\n",
    "    transformers = [\n",
    "        ('timestamp_transformer', TimestampTransformer(timestamp_column='Time_step'), ['Time_step'])\n",
    "    ],\n",
    "    remainder = 'passthrough'\n",
    ")"
   ]
  },
  {
   "cell_type": "code",
   "execution_count": 133,
   "metadata": {},
   "outputs": [],
   "source": [
    "scaler = ColumnTransformer(\n",
    "    transformers = [\n",
    "        ('standard_scaler', StandardScaler(), [0,1,2,3,4,7])\n",
    "    ],\n",
    "    remainder = 'passthrough'\n",
    ")"
   ]
  },
  {
   "cell_type": "code",
   "execution_count": 134,
   "metadata": {},
   "outputs": [
    {
     "data": {
      "text/html": [
       "<style>#sk-50ba8c28-1477-49f2-981c-e62ee0d8a028 {color: black;background-color: white;}#sk-50ba8c28-1477-49f2-981c-e62ee0d8a028 pre{padding: 0;}#sk-50ba8c28-1477-49f2-981c-e62ee0d8a028 div.sk-toggleable {background-color: white;}#sk-50ba8c28-1477-49f2-981c-e62ee0d8a028 label.sk-toggleable__label {cursor: pointer;display: block;width: 100%;margin-bottom: 0;padding: 0.3em;box-sizing: border-box;text-align: center;}#sk-50ba8c28-1477-49f2-981c-e62ee0d8a028 label.sk-toggleable__label-arrow:before {content: \"▸\";float: left;margin-right: 0.25em;color: #696969;}#sk-50ba8c28-1477-49f2-981c-e62ee0d8a028 label.sk-toggleable__label-arrow:hover:before {color: black;}#sk-50ba8c28-1477-49f2-981c-e62ee0d8a028 div.sk-estimator:hover label.sk-toggleable__label-arrow:before {color: black;}#sk-50ba8c28-1477-49f2-981c-e62ee0d8a028 div.sk-toggleable__content {max-height: 0;max-width: 0;overflow: hidden;text-align: left;background-color: #f0f8ff;}#sk-50ba8c28-1477-49f2-981c-e62ee0d8a028 div.sk-toggleable__content pre {margin: 0.2em;color: black;border-radius: 0.25em;background-color: #f0f8ff;}#sk-50ba8c28-1477-49f2-981c-e62ee0d8a028 input.sk-toggleable__control:checked~div.sk-toggleable__content {max-height: 200px;max-width: 100%;overflow: auto;}#sk-50ba8c28-1477-49f2-981c-e62ee0d8a028 input.sk-toggleable__control:checked~label.sk-toggleable__label-arrow:before {content: \"▾\";}#sk-50ba8c28-1477-49f2-981c-e62ee0d8a028 div.sk-estimator input.sk-toggleable__control:checked~label.sk-toggleable__label {background-color: #d4ebff;}#sk-50ba8c28-1477-49f2-981c-e62ee0d8a028 div.sk-label input.sk-toggleable__control:checked~label.sk-toggleable__label {background-color: #d4ebff;}#sk-50ba8c28-1477-49f2-981c-e62ee0d8a028 input.sk-hidden--visually {border: 0;clip: rect(1px 1px 1px 1px);clip: rect(1px, 1px, 1px, 1px);height: 1px;margin: -1px;overflow: hidden;padding: 0;position: absolute;width: 1px;}#sk-50ba8c28-1477-49f2-981c-e62ee0d8a028 div.sk-estimator {font-family: monospace;background-color: #f0f8ff;border: 1px dotted black;border-radius: 0.25em;box-sizing: border-box;margin-bottom: 0.5em;}#sk-50ba8c28-1477-49f2-981c-e62ee0d8a028 div.sk-estimator:hover {background-color: #d4ebff;}#sk-50ba8c28-1477-49f2-981c-e62ee0d8a028 div.sk-parallel-item::after {content: \"\";width: 100%;border-bottom: 1px solid gray;flex-grow: 1;}#sk-50ba8c28-1477-49f2-981c-e62ee0d8a028 div.sk-label:hover label.sk-toggleable__label {background-color: #d4ebff;}#sk-50ba8c28-1477-49f2-981c-e62ee0d8a028 div.sk-serial::before {content: \"\";position: absolute;border-left: 1px solid gray;box-sizing: border-box;top: 2em;bottom: 0;left: 50%;}#sk-50ba8c28-1477-49f2-981c-e62ee0d8a028 div.sk-serial {display: flex;flex-direction: column;align-items: center;background-color: white;padding-right: 0.2em;padding-left: 0.2em;}#sk-50ba8c28-1477-49f2-981c-e62ee0d8a028 div.sk-item {z-index: 1;}#sk-50ba8c28-1477-49f2-981c-e62ee0d8a028 div.sk-parallel {display: flex;align-items: stretch;justify-content: center;background-color: white;}#sk-50ba8c28-1477-49f2-981c-e62ee0d8a028 div.sk-parallel::before {content: \"\";position: absolute;border-left: 1px solid gray;box-sizing: border-box;top: 2em;bottom: 0;left: 50%;}#sk-50ba8c28-1477-49f2-981c-e62ee0d8a028 div.sk-parallel-item {display: flex;flex-direction: column;position: relative;background-color: white;}#sk-50ba8c28-1477-49f2-981c-e62ee0d8a028 div.sk-parallel-item:first-child::after {align-self: flex-end;width: 50%;}#sk-50ba8c28-1477-49f2-981c-e62ee0d8a028 div.sk-parallel-item:last-child::after {align-self: flex-start;width: 50%;}#sk-50ba8c28-1477-49f2-981c-e62ee0d8a028 div.sk-parallel-item:only-child::after {width: 0;}#sk-50ba8c28-1477-49f2-981c-e62ee0d8a028 div.sk-dashed-wrapped {border: 1px dashed gray;margin: 0 0.4em 0.5em 0.4em;box-sizing: border-box;padding-bottom: 0.4em;background-color: white;position: relative;}#sk-50ba8c28-1477-49f2-981c-e62ee0d8a028 div.sk-label label {font-family: monospace;font-weight: bold;background-color: white;display: inline-block;line-height: 1.2em;}#sk-50ba8c28-1477-49f2-981c-e62ee0d8a028 div.sk-label-container {position: relative;z-index: 2;text-align: center;}#sk-50ba8c28-1477-49f2-981c-e62ee0d8a028 div.sk-container {/* jupyter's `normalize.less` sets `[hidden] { display: none; }` but bootstrap.min.css set `[hidden] { display: none !important; }` so we also need the `!important` here to be able to override the default hidden behavior on the sphinx rendered scikit-learn.org. See: https://github.com/scikit-learn/scikit-learn/issues/21755 */display: inline-block !important;position: relative;}#sk-50ba8c28-1477-49f2-981c-e62ee0d8a028 div.sk-text-repr-fallback {display: none;}</style><div id=\"sk-50ba8c28-1477-49f2-981c-e62ee0d8a028\" class=\"sk-top-container\"><div class=\"sk-text-repr-fallback\"><pre>Pipeline(steps=[(&#x27;timestamp&#x27;,\n",
       "                 ColumnTransformer(remainder=&#x27;passthrough&#x27;,\n",
       "                                   transformers=[(&#x27;timestamp_transformer&#x27;,\n",
       "                                                  TimestampTransformer(timestamp_column=&#x27;Time_step&#x27;),\n",
       "                                                  [&#x27;Time_step&#x27;])])),\n",
       "                (&#x27;scaler&#x27;,\n",
       "                 ColumnTransformer(remainder=&#x27;passthrough&#x27;,\n",
       "                                   transformers=[(&#x27;standard_scaler&#x27;,\n",
       "                                                  StandardScaler(),\n",
       "                                                  [0, 1, 2, 3, 4, 7])]))])</pre><b>Please rerun this cell to show the HTML repr or trust the notebook.</b></div><div class=\"sk-container\" hidden><div class=\"sk-item sk-dashed-wrapped\"><div class=\"sk-label-container\"><div class=\"sk-label sk-toggleable\"><input class=\"sk-toggleable__control sk-hidden--visually\" id=\"f167757f-f939-480e-9636-eedc27dc8b7e\" type=\"checkbox\" ><label for=\"f167757f-f939-480e-9636-eedc27dc8b7e\" class=\"sk-toggleable__label sk-toggleable__label-arrow\">Pipeline</label><div class=\"sk-toggleable__content\"><pre>Pipeline(steps=[(&#x27;timestamp&#x27;,\n",
       "                 ColumnTransformer(remainder=&#x27;passthrough&#x27;,\n",
       "                                   transformers=[(&#x27;timestamp_transformer&#x27;,\n",
       "                                                  TimestampTransformer(timestamp_column=&#x27;Time_step&#x27;),\n",
       "                                                  [&#x27;Time_step&#x27;])])),\n",
       "                (&#x27;scaler&#x27;,\n",
       "                 ColumnTransformer(remainder=&#x27;passthrough&#x27;,\n",
       "                                   transformers=[(&#x27;standard_scaler&#x27;,\n",
       "                                                  StandardScaler(),\n",
       "                                                  [0, 1, 2, 3, 4, 7])]))])</pre></div></div></div><div class=\"sk-serial\"><div class=\"sk-item sk-dashed-wrapped\"><div class=\"sk-label-container\"><div class=\"sk-label sk-toggleable\"><input class=\"sk-toggleable__control sk-hidden--visually\" id=\"f9ed4a90-fcbc-4eaf-89d1-8caaa66cf6e6\" type=\"checkbox\" ><label for=\"f9ed4a90-fcbc-4eaf-89d1-8caaa66cf6e6\" class=\"sk-toggleable__label sk-toggleable__label-arrow\">timestamp: ColumnTransformer</label><div class=\"sk-toggleable__content\"><pre>ColumnTransformer(remainder=&#x27;passthrough&#x27;,\n",
       "                  transformers=[(&#x27;timestamp_transformer&#x27;,\n",
       "                                 TimestampTransformer(timestamp_column=&#x27;Time_step&#x27;),\n",
       "                                 [&#x27;Time_step&#x27;])])</pre></div></div></div><div class=\"sk-parallel\"><div class=\"sk-parallel-item\"><div class=\"sk-item\"><div class=\"sk-label-container\"><div class=\"sk-label sk-toggleable\"><input class=\"sk-toggleable__control sk-hidden--visually\" id=\"4310d5d2-e149-45cd-838c-94b822af5f7f\" type=\"checkbox\" ><label for=\"4310d5d2-e149-45cd-838c-94b822af5f7f\" class=\"sk-toggleable__label sk-toggleable__label-arrow\">timestamp_transformer</label><div class=\"sk-toggleable__content\"><pre>[&#x27;Time_step&#x27;]</pre></div></div></div><div class=\"sk-serial\"><div class=\"sk-item\"><div class=\"sk-estimator sk-toggleable\"><input class=\"sk-toggleable__control sk-hidden--visually\" id=\"a3f002bf-5f1b-4106-ab27-f8a1328ce445\" type=\"checkbox\" ><label for=\"a3f002bf-5f1b-4106-ab27-f8a1328ce445\" class=\"sk-toggleable__label sk-toggleable__label-arrow\">TimestampTransformer</label><div class=\"sk-toggleable__content\"><pre>TimestampTransformer(timestamp_column=&#x27;Time_step&#x27;)</pre></div></div></div></div></div></div><div class=\"sk-parallel-item\"><div class=\"sk-item\"><div class=\"sk-label-container\"><div class=\"sk-label sk-toggleable\"><input class=\"sk-toggleable__control sk-hidden--visually\" id=\"745ef4b5-9dc4-47f2-9e60-665bebc755f5\" type=\"checkbox\" ><label for=\"745ef4b5-9dc4-47f2-9e60-665bebc755f5\" class=\"sk-toggleable__label sk-toggleable__label-arrow\">remainder</label><div class=\"sk-toggleable__content\"><pre>[&#x27;Sender_Country&#x27;, &#x27;Bene_Country&#x27;, &#x27;USD_amount&#x27;, &#x27;Transaction_Type&#x27;]</pre></div></div></div><div class=\"sk-serial\"><div class=\"sk-item\"><div class=\"sk-estimator sk-toggleable\"><input class=\"sk-toggleable__control sk-hidden--visually\" id=\"9966e6a9-df43-4ea9-8910-d98fd6ee93b4\" type=\"checkbox\" ><label for=\"9966e6a9-df43-4ea9-8910-d98fd6ee93b4\" class=\"sk-toggleable__label sk-toggleable__label-arrow\">passthrough</label><div class=\"sk-toggleable__content\"><pre>passthrough</pre></div></div></div></div></div></div></div></div><div class=\"sk-item sk-dashed-wrapped\"><div class=\"sk-label-container\"><div class=\"sk-label sk-toggleable\"><input class=\"sk-toggleable__control sk-hidden--visually\" id=\"57718427-1c1c-43b7-8cb5-7b390caf3560\" type=\"checkbox\" ><label for=\"57718427-1c1c-43b7-8cb5-7b390caf3560\" class=\"sk-toggleable__label sk-toggleable__label-arrow\">scaler: ColumnTransformer</label><div class=\"sk-toggleable__content\"><pre>ColumnTransformer(remainder=&#x27;passthrough&#x27;,\n",
       "                  transformers=[(&#x27;standard_scaler&#x27;, StandardScaler(),\n",
       "                                 [0, 1, 2, 3, 4, 7])])</pre></div></div></div><div class=\"sk-parallel\"><div class=\"sk-parallel-item\"><div class=\"sk-item\"><div class=\"sk-label-container\"><div class=\"sk-label sk-toggleable\"><input class=\"sk-toggleable__control sk-hidden--visually\" id=\"fc0cebf0-f657-46af-a8c8-03ac38673394\" type=\"checkbox\" ><label for=\"fc0cebf0-f657-46af-a8c8-03ac38673394\" class=\"sk-toggleable__label sk-toggleable__label-arrow\">standard_scaler</label><div class=\"sk-toggleable__content\"><pre>[0, 1, 2, 3, 4, 7]</pre></div></div></div><div class=\"sk-serial\"><div class=\"sk-item\"><div class=\"sk-estimator sk-toggleable\"><input class=\"sk-toggleable__control sk-hidden--visually\" id=\"cd6440bf-92c0-44fe-8b8f-1159d1dd6f08\" type=\"checkbox\" ><label for=\"cd6440bf-92c0-44fe-8b8f-1159d1dd6f08\" class=\"sk-toggleable__label sk-toggleable__label-arrow\">StandardScaler</label><div class=\"sk-toggleable__content\"><pre>StandardScaler()</pre></div></div></div></div></div></div><div class=\"sk-parallel-item\"><div class=\"sk-item\"><div class=\"sk-label-container\"><div class=\"sk-label sk-toggleable\"><input class=\"sk-toggleable__control sk-hidden--visually\" id=\"2c647ce2-be6a-48b3-86bd-8dc75a1978cd\" type=\"checkbox\" ><label for=\"2c647ce2-be6a-48b3-86bd-8dc75a1978cd\" class=\"sk-toggleable__label sk-toggleable__label-arrow\">remainder</label><div class=\"sk-toggleable__content\"><pre></pre></div></div></div><div class=\"sk-serial\"><div class=\"sk-item\"><div class=\"sk-estimator sk-toggleable\"><input class=\"sk-toggleable__control sk-hidden--visually\" id=\"11865e50-79ba-48e9-8a6e-c4a9d3e78a88\" type=\"checkbox\" ><label for=\"11865e50-79ba-48e9-8a6e-c4a9d3e78a88\" class=\"sk-toggleable__label sk-toggleable__label-arrow\">passthrough</label><div class=\"sk-toggleable__content\"><pre>passthrough</pre></div></div></div></div></div></div></div></div></div></div></div></div>"
      ],
      "text/plain": [
       "Pipeline(steps=[('timestamp',\n",
       "                 ColumnTransformer(remainder='passthrough',\n",
       "                                   transformers=[('timestamp_transformer',\n",
       "                                                  TimestampTransformer(timestamp_column='Time_step'),\n",
       "                                                  ['Time_step'])])),\n",
       "                ('scaler',\n",
       "                 ColumnTransformer(remainder='passthrough',\n",
       "                                   transformers=[('standard_scaler',\n",
       "                                                  StandardScaler(),\n",
       "                                                  [0, 1, 2, 3, 4, 7])]))])"
      ]
     },
     "execution_count": 134,
     "metadata": {},
     "output_type": "execute_result"
    }
   ],
   "source": [
    "numerical_pipeline = Pipeline(\n",
    "    steps = [\n",
    "        ('timestamp', timestamp),\n",
    "        ('scaler',scaler)\n",
    "    ]\n",
    ")\n",
    "\n",
    "numerical_pipeline"
   ]
  },
  {
   "cell_type": "code",
   "execution_count": 145,
   "metadata": {},
   "outputs": [
    {
     "data": {
      "text/plain": [
       "array([0.21730693223107878, 1.3106913223932581, -0.5406883226957558,\n",
       "       0.5096367103722211, -0.8927709948736009, -0.791909564547134, 'USA',\n",
       "       'GUERNSEY', 'MAKE-PAYMENT'], dtype=object)"
      ]
     },
     "execution_count": 145,
     "metadata": {},
     "output_type": "execute_result"
    }
   ],
   "source": [
    "yy = numerical_pipeline.fit_transform(y.drop('Label', axis=1))\n",
    "yy[0]"
   ]
  },
  {
   "cell_type": "code",
   "execution_count": 147,
   "metadata": {},
   "outputs": [],
   "source": [
    "imputer = ColumnTransformer(\n",
    "    transformers = [\n",
    "        ('simple_imputer', SimpleImputer(strategy='constant', fill_value='N/A'), [6,7])\n",
    "    ],\n",
    "    remainder = 'passthrough'\n",
    ")"
   ]
  },
  {
   "cell_type": "code",
   "execution_count": 148,
   "metadata": {},
   "outputs": [],
   "source": [
    "country_transformer = ColumnTransformer(\n",
    "    transformers = [\n",
    "        ('country_mapping', CountryTransformer(top_countries=['USA','GERMANY','CANADA'], country_columns=[6,7]), [6,7])\n",
    "    ],\n",
    "    remainder = 'passthrough'\n",
    ")"
   ]
  },
  {
   "cell_type": "code",
   "execution_count": 149,
   "metadata": {},
   "outputs": [],
   "source": [
    "one_hot = ColumnTransformer(\n",
    "    transformers = [\n",
    "        ('one_hot_encoder', OneHotEncoder(sparse=False, handle_unknown='ignore'), [6,7,8])\n",
    "    ],\n",
    "    remainder = 'passthrough'\n",
    ")"
   ]
  },
  {
   "cell_type": "code",
   "execution_count": 150,
   "metadata": {},
   "outputs": [
    {
     "data": {
      "text/html": [
       "<style>#sk-58ae946a-ed51-4127-85f3-496db9bf87b8 {color: black;background-color: white;}#sk-58ae946a-ed51-4127-85f3-496db9bf87b8 pre{padding: 0;}#sk-58ae946a-ed51-4127-85f3-496db9bf87b8 div.sk-toggleable {background-color: white;}#sk-58ae946a-ed51-4127-85f3-496db9bf87b8 label.sk-toggleable__label {cursor: pointer;display: block;width: 100%;margin-bottom: 0;padding: 0.3em;box-sizing: border-box;text-align: center;}#sk-58ae946a-ed51-4127-85f3-496db9bf87b8 label.sk-toggleable__label-arrow:before {content: \"▸\";float: left;margin-right: 0.25em;color: #696969;}#sk-58ae946a-ed51-4127-85f3-496db9bf87b8 label.sk-toggleable__label-arrow:hover:before {color: black;}#sk-58ae946a-ed51-4127-85f3-496db9bf87b8 div.sk-estimator:hover label.sk-toggleable__label-arrow:before {color: black;}#sk-58ae946a-ed51-4127-85f3-496db9bf87b8 div.sk-toggleable__content {max-height: 0;max-width: 0;overflow: hidden;text-align: left;background-color: #f0f8ff;}#sk-58ae946a-ed51-4127-85f3-496db9bf87b8 div.sk-toggleable__content pre {margin: 0.2em;color: black;border-radius: 0.25em;background-color: #f0f8ff;}#sk-58ae946a-ed51-4127-85f3-496db9bf87b8 input.sk-toggleable__control:checked~div.sk-toggleable__content {max-height: 200px;max-width: 100%;overflow: auto;}#sk-58ae946a-ed51-4127-85f3-496db9bf87b8 input.sk-toggleable__control:checked~label.sk-toggleable__label-arrow:before {content: \"▾\";}#sk-58ae946a-ed51-4127-85f3-496db9bf87b8 div.sk-estimator input.sk-toggleable__control:checked~label.sk-toggleable__label {background-color: #d4ebff;}#sk-58ae946a-ed51-4127-85f3-496db9bf87b8 div.sk-label input.sk-toggleable__control:checked~label.sk-toggleable__label {background-color: #d4ebff;}#sk-58ae946a-ed51-4127-85f3-496db9bf87b8 input.sk-hidden--visually {border: 0;clip: rect(1px 1px 1px 1px);clip: rect(1px, 1px, 1px, 1px);height: 1px;margin: -1px;overflow: hidden;padding: 0;position: absolute;width: 1px;}#sk-58ae946a-ed51-4127-85f3-496db9bf87b8 div.sk-estimator {font-family: monospace;background-color: #f0f8ff;border: 1px dotted black;border-radius: 0.25em;box-sizing: border-box;margin-bottom: 0.5em;}#sk-58ae946a-ed51-4127-85f3-496db9bf87b8 div.sk-estimator:hover {background-color: #d4ebff;}#sk-58ae946a-ed51-4127-85f3-496db9bf87b8 div.sk-parallel-item::after {content: \"\";width: 100%;border-bottom: 1px solid gray;flex-grow: 1;}#sk-58ae946a-ed51-4127-85f3-496db9bf87b8 div.sk-label:hover label.sk-toggleable__label {background-color: #d4ebff;}#sk-58ae946a-ed51-4127-85f3-496db9bf87b8 div.sk-serial::before {content: \"\";position: absolute;border-left: 1px solid gray;box-sizing: border-box;top: 2em;bottom: 0;left: 50%;}#sk-58ae946a-ed51-4127-85f3-496db9bf87b8 div.sk-serial {display: flex;flex-direction: column;align-items: center;background-color: white;padding-right: 0.2em;padding-left: 0.2em;}#sk-58ae946a-ed51-4127-85f3-496db9bf87b8 div.sk-item {z-index: 1;}#sk-58ae946a-ed51-4127-85f3-496db9bf87b8 div.sk-parallel {display: flex;align-items: stretch;justify-content: center;background-color: white;}#sk-58ae946a-ed51-4127-85f3-496db9bf87b8 div.sk-parallel::before {content: \"\";position: absolute;border-left: 1px solid gray;box-sizing: border-box;top: 2em;bottom: 0;left: 50%;}#sk-58ae946a-ed51-4127-85f3-496db9bf87b8 div.sk-parallel-item {display: flex;flex-direction: column;position: relative;background-color: white;}#sk-58ae946a-ed51-4127-85f3-496db9bf87b8 div.sk-parallel-item:first-child::after {align-self: flex-end;width: 50%;}#sk-58ae946a-ed51-4127-85f3-496db9bf87b8 div.sk-parallel-item:last-child::after {align-self: flex-start;width: 50%;}#sk-58ae946a-ed51-4127-85f3-496db9bf87b8 div.sk-parallel-item:only-child::after {width: 0;}#sk-58ae946a-ed51-4127-85f3-496db9bf87b8 div.sk-dashed-wrapped {border: 1px dashed gray;margin: 0 0.4em 0.5em 0.4em;box-sizing: border-box;padding-bottom: 0.4em;background-color: white;position: relative;}#sk-58ae946a-ed51-4127-85f3-496db9bf87b8 div.sk-label label {font-family: monospace;font-weight: bold;background-color: white;display: inline-block;line-height: 1.2em;}#sk-58ae946a-ed51-4127-85f3-496db9bf87b8 div.sk-label-container {position: relative;z-index: 2;text-align: center;}#sk-58ae946a-ed51-4127-85f3-496db9bf87b8 div.sk-container {/* jupyter's `normalize.less` sets `[hidden] { display: none; }` but bootstrap.min.css set `[hidden] { display: none !important; }` so we also need the `!important` here to be able to override the default hidden behavior on the sphinx rendered scikit-learn.org. See: https://github.com/scikit-learn/scikit-learn/issues/21755 */display: inline-block !important;position: relative;}#sk-58ae946a-ed51-4127-85f3-496db9bf87b8 div.sk-text-repr-fallback {display: none;}</style><div id=\"sk-58ae946a-ed51-4127-85f3-496db9bf87b8\" class=\"sk-top-container\"><div class=\"sk-text-repr-fallback\"><pre>Pipeline(steps=[(&#x27;imputer&#x27;,\n",
       "                 ColumnTransformer(remainder=&#x27;passthrough&#x27;,\n",
       "                                   transformers=[(&#x27;simple_imputer&#x27;,\n",
       "                                                  SimpleImputer(fill_value=&#x27;N/A&#x27;,\n",
       "                                                                strategy=&#x27;constant&#x27;),\n",
       "                                                  [6, 7])])),\n",
       "                (&#x27;country_transformer&#x27;,\n",
       "                 ColumnTransformer(remainder=&#x27;passthrough&#x27;,\n",
       "                                   transformers=[(&#x27;country_mapping&#x27;,\n",
       "                                                  CountryTransformer(country_columns=[6,\n",
       "                                                                                      7],\n",
       "                                                                     top_countries=[&#x27;USA&#x27;,\n",
       "                                                                                    &#x27;GERMANY&#x27;,\n",
       "                                                                                    &#x27;CANADA&#x27;]),\n",
       "                                                  [6, 7])])),\n",
       "                (&#x27;one_hot&#x27;,\n",
       "                 ColumnTransformer(remainder=&#x27;passthrough&#x27;,\n",
       "                                   transformers=[(&#x27;one_hot_encoder&#x27;,\n",
       "                                                  OneHotEncoder(handle_unknown=&#x27;ignore&#x27;,\n",
       "                                                                sparse=False),\n",
       "                                                  [6, 7, 8])]))])</pre><b>Please rerun this cell to show the HTML repr or trust the notebook.</b></div><div class=\"sk-container\" hidden><div class=\"sk-item sk-dashed-wrapped\"><div class=\"sk-label-container\"><div class=\"sk-label sk-toggleable\"><input class=\"sk-toggleable__control sk-hidden--visually\" id=\"46963f84-1c73-4dbf-be1e-08a53c7e4023\" type=\"checkbox\" ><label for=\"46963f84-1c73-4dbf-be1e-08a53c7e4023\" class=\"sk-toggleable__label sk-toggleable__label-arrow\">Pipeline</label><div class=\"sk-toggleable__content\"><pre>Pipeline(steps=[(&#x27;imputer&#x27;,\n",
       "                 ColumnTransformer(remainder=&#x27;passthrough&#x27;,\n",
       "                                   transformers=[(&#x27;simple_imputer&#x27;,\n",
       "                                                  SimpleImputer(fill_value=&#x27;N/A&#x27;,\n",
       "                                                                strategy=&#x27;constant&#x27;),\n",
       "                                                  [6, 7])])),\n",
       "                (&#x27;country_transformer&#x27;,\n",
       "                 ColumnTransformer(remainder=&#x27;passthrough&#x27;,\n",
       "                                   transformers=[(&#x27;country_mapping&#x27;,\n",
       "                                                  CountryTransformer(country_columns=[6,\n",
       "                                                                                      7],\n",
       "                                                                     top_countries=[&#x27;USA&#x27;,\n",
       "                                                                                    &#x27;GERMANY&#x27;,\n",
       "                                                                                    &#x27;CANADA&#x27;]),\n",
       "                                                  [6, 7])])),\n",
       "                (&#x27;one_hot&#x27;,\n",
       "                 ColumnTransformer(remainder=&#x27;passthrough&#x27;,\n",
       "                                   transformers=[(&#x27;one_hot_encoder&#x27;,\n",
       "                                                  OneHotEncoder(handle_unknown=&#x27;ignore&#x27;,\n",
       "                                                                sparse=False),\n",
       "                                                  [6, 7, 8])]))])</pre></div></div></div><div class=\"sk-serial\"><div class=\"sk-item sk-dashed-wrapped\"><div class=\"sk-label-container\"><div class=\"sk-label sk-toggleable\"><input class=\"sk-toggleable__control sk-hidden--visually\" id=\"34e7d342-36fa-426e-9818-4d061f55a7ba\" type=\"checkbox\" ><label for=\"34e7d342-36fa-426e-9818-4d061f55a7ba\" class=\"sk-toggleable__label sk-toggleable__label-arrow\">imputer: ColumnTransformer</label><div class=\"sk-toggleable__content\"><pre>ColumnTransformer(remainder=&#x27;passthrough&#x27;,\n",
       "                  transformers=[(&#x27;simple_imputer&#x27;,\n",
       "                                 SimpleImputer(fill_value=&#x27;N/A&#x27;,\n",
       "                                               strategy=&#x27;constant&#x27;),\n",
       "                                 [6, 7])])</pre></div></div></div><div class=\"sk-parallel\"><div class=\"sk-parallel-item\"><div class=\"sk-item\"><div class=\"sk-label-container\"><div class=\"sk-label sk-toggleable\"><input class=\"sk-toggleable__control sk-hidden--visually\" id=\"6407258a-f0cf-4f3d-a699-25ae2f5e7fd6\" type=\"checkbox\" ><label for=\"6407258a-f0cf-4f3d-a699-25ae2f5e7fd6\" class=\"sk-toggleable__label sk-toggleable__label-arrow\">simple_imputer</label><div class=\"sk-toggleable__content\"><pre>[6, 7]</pre></div></div></div><div class=\"sk-serial\"><div class=\"sk-item\"><div class=\"sk-estimator sk-toggleable\"><input class=\"sk-toggleable__control sk-hidden--visually\" id=\"054e0ce8-fa4c-4b4d-b761-1e131de17f5d\" type=\"checkbox\" ><label for=\"054e0ce8-fa4c-4b4d-b761-1e131de17f5d\" class=\"sk-toggleable__label sk-toggleable__label-arrow\">SimpleImputer</label><div class=\"sk-toggleable__content\"><pre>SimpleImputer(fill_value=&#x27;N/A&#x27;, strategy=&#x27;constant&#x27;)</pre></div></div></div></div></div></div><div class=\"sk-parallel-item\"><div class=\"sk-item\"><div class=\"sk-label-container\"><div class=\"sk-label sk-toggleable\"><input class=\"sk-toggleable__control sk-hidden--visually\" id=\"7962f1e9-5fd3-46d4-8748-0e1785e08285\" type=\"checkbox\" ><label for=\"7962f1e9-5fd3-46d4-8748-0e1785e08285\" class=\"sk-toggleable__label sk-toggleable__label-arrow\">remainder</label><div class=\"sk-toggleable__content\"><pre></pre></div></div></div><div class=\"sk-serial\"><div class=\"sk-item\"><div class=\"sk-estimator sk-toggleable\"><input class=\"sk-toggleable__control sk-hidden--visually\" id=\"4b2bb3e1-0c40-45d8-b523-32a8f18c4815\" type=\"checkbox\" ><label for=\"4b2bb3e1-0c40-45d8-b523-32a8f18c4815\" class=\"sk-toggleable__label sk-toggleable__label-arrow\">passthrough</label><div class=\"sk-toggleable__content\"><pre>passthrough</pre></div></div></div></div></div></div></div></div><div class=\"sk-item sk-dashed-wrapped\"><div class=\"sk-label-container\"><div class=\"sk-label sk-toggleable\"><input class=\"sk-toggleable__control sk-hidden--visually\" id=\"f084fcf6-6e6a-4784-836f-e6fd07396827\" type=\"checkbox\" ><label for=\"f084fcf6-6e6a-4784-836f-e6fd07396827\" class=\"sk-toggleable__label sk-toggleable__label-arrow\">country_transformer: ColumnTransformer</label><div class=\"sk-toggleable__content\"><pre>ColumnTransformer(remainder=&#x27;passthrough&#x27;,\n",
       "                  transformers=[(&#x27;country_mapping&#x27;,\n",
       "                                 CountryTransformer(country_columns=[6, 7],\n",
       "                                                    top_countries=[&#x27;USA&#x27;,\n",
       "                                                                   &#x27;GERMANY&#x27;,\n",
       "                                                                   &#x27;CANADA&#x27;]),\n",
       "                                 [6, 7])])</pre></div></div></div><div class=\"sk-parallel\"><div class=\"sk-parallel-item\"><div class=\"sk-item\"><div class=\"sk-label-container\"><div class=\"sk-label sk-toggleable\"><input class=\"sk-toggleable__control sk-hidden--visually\" id=\"f7ab9b36-44b3-4058-ab8e-94936db2bb1a\" type=\"checkbox\" ><label for=\"f7ab9b36-44b3-4058-ab8e-94936db2bb1a\" class=\"sk-toggleable__label sk-toggleable__label-arrow\">country_mapping</label><div class=\"sk-toggleable__content\"><pre>[6, 7]</pre></div></div></div><div class=\"sk-serial\"><div class=\"sk-item\"><div class=\"sk-estimator sk-toggleable\"><input class=\"sk-toggleable__control sk-hidden--visually\" id=\"110cc160-43dc-402c-b040-906207cf4d5e\" type=\"checkbox\" ><label for=\"110cc160-43dc-402c-b040-906207cf4d5e\" class=\"sk-toggleable__label sk-toggleable__label-arrow\">CountryTransformer</label><div class=\"sk-toggleable__content\"><pre>CountryTransformer(country_columns=[6, 7],\n",
       "                   top_countries=[&#x27;USA&#x27;, &#x27;GERMANY&#x27;, &#x27;CANADA&#x27;])</pre></div></div></div></div></div></div><div class=\"sk-parallel-item\"><div class=\"sk-item\"><div class=\"sk-label-container\"><div class=\"sk-label sk-toggleable\"><input class=\"sk-toggleable__control sk-hidden--visually\" id=\"883298bf-edde-4eae-b365-4b9574359697\" type=\"checkbox\" ><label for=\"883298bf-edde-4eae-b365-4b9574359697\" class=\"sk-toggleable__label sk-toggleable__label-arrow\">remainder</label><div class=\"sk-toggleable__content\"><pre></pre></div></div></div><div class=\"sk-serial\"><div class=\"sk-item\"><div class=\"sk-estimator sk-toggleable\"><input class=\"sk-toggleable__control sk-hidden--visually\" id=\"24bc4485-addf-4f54-9191-8c81c687c6f9\" type=\"checkbox\" ><label for=\"24bc4485-addf-4f54-9191-8c81c687c6f9\" class=\"sk-toggleable__label sk-toggleable__label-arrow\">passthrough</label><div class=\"sk-toggleable__content\"><pre>passthrough</pre></div></div></div></div></div></div></div></div><div class=\"sk-item sk-dashed-wrapped\"><div class=\"sk-label-container\"><div class=\"sk-label sk-toggleable\"><input class=\"sk-toggleable__control sk-hidden--visually\" id=\"089d5d29-12c3-41fa-aa50-d5ce1a03013f\" type=\"checkbox\" ><label for=\"089d5d29-12c3-41fa-aa50-d5ce1a03013f\" class=\"sk-toggleable__label sk-toggleable__label-arrow\">one_hot: ColumnTransformer</label><div class=\"sk-toggleable__content\"><pre>ColumnTransformer(remainder=&#x27;passthrough&#x27;,\n",
       "                  transformers=[(&#x27;one_hot_encoder&#x27;,\n",
       "                                 OneHotEncoder(handle_unknown=&#x27;ignore&#x27;,\n",
       "                                               sparse=False),\n",
       "                                 [6, 7, 8])])</pre></div></div></div><div class=\"sk-parallel\"><div class=\"sk-parallel-item\"><div class=\"sk-item\"><div class=\"sk-label-container\"><div class=\"sk-label sk-toggleable\"><input class=\"sk-toggleable__control sk-hidden--visually\" id=\"881a79e4-a478-404a-9eea-7dd381e2d94a\" type=\"checkbox\" ><label for=\"881a79e4-a478-404a-9eea-7dd381e2d94a\" class=\"sk-toggleable__label sk-toggleable__label-arrow\">one_hot_encoder</label><div class=\"sk-toggleable__content\"><pre>[6, 7, 8]</pre></div></div></div><div class=\"sk-serial\"><div class=\"sk-item\"><div class=\"sk-estimator sk-toggleable\"><input class=\"sk-toggleable__control sk-hidden--visually\" id=\"a1f3ad4b-6e05-48d0-ada7-57bafa896d1e\" type=\"checkbox\" ><label for=\"a1f3ad4b-6e05-48d0-ada7-57bafa896d1e\" class=\"sk-toggleable__label sk-toggleable__label-arrow\">OneHotEncoder</label><div class=\"sk-toggleable__content\"><pre>OneHotEncoder(handle_unknown=&#x27;ignore&#x27;, sparse=False)</pre></div></div></div></div></div></div><div class=\"sk-parallel-item\"><div class=\"sk-item\"><div class=\"sk-label-container\"><div class=\"sk-label sk-toggleable\"><input class=\"sk-toggleable__control sk-hidden--visually\" id=\"7ec1d266-2553-45a9-8125-d50ae456ce5f\" type=\"checkbox\" ><label for=\"7ec1d266-2553-45a9-8125-d50ae456ce5f\" class=\"sk-toggleable__label sk-toggleable__label-arrow\">remainder</label><div class=\"sk-toggleable__content\"><pre></pre></div></div></div><div class=\"sk-serial\"><div class=\"sk-item\"><div class=\"sk-estimator sk-toggleable\"><input class=\"sk-toggleable__control sk-hidden--visually\" id=\"79ca637d-beb4-49f5-a998-a45dc21bd0a9\" type=\"checkbox\" ><label for=\"79ca637d-beb4-49f5-a998-a45dc21bd0a9\" class=\"sk-toggleable__label sk-toggleable__label-arrow\">passthrough</label><div class=\"sk-toggleable__content\"><pre>passthrough</pre></div></div></div></div></div></div></div></div></div></div></div></div>"
      ],
      "text/plain": [
       "Pipeline(steps=[('imputer',\n",
       "                 ColumnTransformer(remainder='passthrough',\n",
       "                                   transformers=[('simple_imputer',\n",
       "                                                  SimpleImputer(fill_value='N/A',\n",
       "                                                                strategy='constant'),\n",
       "                                                  [6, 7])])),\n",
       "                ('country_transformer',\n",
       "                 ColumnTransformer(remainder='passthrough',\n",
       "                                   transformers=[('country_mapping',\n",
       "                                                  CountryTransformer(country_columns=[6,\n",
       "                                                                                      7],\n",
       "                                                                     top_countries=['USA',\n",
       "                                                                                    'GERMANY',\n",
       "                                                                                    'CANADA']),\n",
       "                                                  [6, 7])])),\n",
       "                ('one_hot',\n",
       "                 ColumnTransformer(remainder='passthrough',\n",
       "                                   transformers=[('one_hot_encoder',\n",
       "                                                  OneHotEncoder(handle_unknown='ignore',\n",
       "                                                                sparse=False),\n",
       "                                                  [6, 7, 8])]))])"
      ]
     },
     "execution_count": 150,
     "metadata": {},
     "output_type": "execute_result"
    }
   ],
   "source": [
    "categorical_pipeline = Pipeline(\n",
    "    steps = [\n",
    "        ('imputer', imputer),\n",
    "        ('country_transformer', country_transformer),\n",
    "        ('one_hot', one_hot)\n",
    "    ]\n",
    ")\n",
    "\n",
    "categorical_pipeline"
   ]
  },
  {
   "cell_type": "code",
   "execution_count": 143,
   "metadata": {},
   "outputs": [
    {
     "data": {
      "text/html": [
       "<style>#sk-09c77bc1-1ff3-410d-a036-dc26d59a46ad {color: black;background-color: white;}#sk-09c77bc1-1ff3-410d-a036-dc26d59a46ad pre{padding: 0;}#sk-09c77bc1-1ff3-410d-a036-dc26d59a46ad div.sk-toggleable {background-color: white;}#sk-09c77bc1-1ff3-410d-a036-dc26d59a46ad label.sk-toggleable__label {cursor: pointer;display: block;width: 100%;margin-bottom: 0;padding: 0.3em;box-sizing: border-box;text-align: center;}#sk-09c77bc1-1ff3-410d-a036-dc26d59a46ad label.sk-toggleable__label-arrow:before {content: \"▸\";float: left;margin-right: 0.25em;color: #696969;}#sk-09c77bc1-1ff3-410d-a036-dc26d59a46ad label.sk-toggleable__label-arrow:hover:before {color: black;}#sk-09c77bc1-1ff3-410d-a036-dc26d59a46ad div.sk-estimator:hover label.sk-toggleable__label-arrow:before {color: black;}#sk-09c77bc1-1ff3-410d-a036-dc26d59a46ad div.sk-toggleable__content {max-height: 0;max-width: 0;overflow: hidden;text-align: left;background-color: #f0f8ff;}#sk-09c77bc1-1ff3-410d-a036-dc26d59a46ad div.sk-toggleable__content pre {margin: 0.2em;color: black;border-radius: 0.25em;background-color: #f0f8ff;}#sk-09c77bc1-1ff3-410d-a036-dc26d59a46ad input.sk-toggleable__control:checked~div.sk-toggleable__content {max-height: 200px;max-width: 100%;overflow: auto;}#sk-09c77bc1-1ff3-410d-a036-dc26d59a46ad input.sk-toggleable__control:checked~label.sk-toggleable__label-arrow:before {content: \"▾\";}#sk-09c77bc1-1ff3-410d-a036-dc26d59a46ad div.sk-estimator input.sk-toggleable__control:checked~label.sk-toggleable__label {background-color: #d4ebff;}#sk-09c77bc1-1ff3-410d-a036-dc26d59a46ad div.sk-label input.sk-toggleable__control:checked~label.sk-toggleable__label {background-color: #d4ebff;}#sk-09c77bc1-1ff3-410d-a036-dc26d59a46ad input.sk-hidden--visually {border: 0;clip: rect(1px 1px 1px 1px);clip: rect(1px, 1px, 1px, 1px);height: 1px;margin: -1px;overflow: hidden;padding: 0;position: absolute;width: 1px;}#sk-09c77bc1-1ff3-410d-a036-dc26d59a46ad div.sk-estimator {font-family: monospace;background-color: #f0f8ff;border: 1px dotted black;border-radius: 0.25em;box-sizing: border-box;margin-bottom: 0.5em;}#sk-09c77bc1-1ff3-410d-a036-dc26d59a46ad div.sk-estimator:hover {background-color: #d4ebff;}#sk-09c77bc1-1ff3-410d-a036-dc26d59a46ad div.sk-parallel-item::after {content: \"\";width: 100%;border-bottom: 1px solid gray;flex-grow: 1;}#sk-09c77bc1-1ff3-410d-a036-dc26d59a46ad div.sk-label:hover label.sk-toggleable__label {background-color: #d4ebff;}#sk-09c77bc1-1ff3-410d-a036-dc26d59a46ad div.sk-serial::before {content: \"\";position: absolute;border-left: 1px solid gray;box-sizing: border-box;top: 2em;bottom: 0;left: 50%;}#sk-09c77bc1-1ff3-410d-a036-dc26d59a46ad div.sk-serial {display: flex;flex-direction: column;align-items: center;background-color: white;padding-right: 0.2em;padding-left: 0.2em;}#sk-09c77bc1-1ff3-410d-a036-dc26d59a46ad div.sk-item {z-index: 1;}#sk-09c77bc1-1ff3-410d-a036-dc26d59a46ad div.sk-parallel {display: flex;align-items: stretch;justify-content: center;background-color: white;}#sk-09c77bc1-1ff3-410d-a036-dc26d59a46ad div.sk-parallel::before {content: \"\";position: absolute;border-left: 1px solid gray;box-sizing: border-box;top: 2em;bottom: 0;left: 50%;}#sk-09c77bc1-1ff3-410d-a036-dc26d59a46ad div.sk-parallel-item {display: flex;flex-direction: column;position: relative;background-color: white;}#sk-09c77bc1-1ff3-410d-a036-dc26d59a46ad div.sk-parallel-item:first-child::after {align-self: flex-end;width: 50%;}#sk-09c77bc1-1ff3-410d-a036-dc26d59a46ad div.sk-parallel-item:last-child::after {align-self: flex-start;width: 50%;}#sk-09c77bc1-1ff3-410d-a036-dc26d59a46ad div.sk-parallel-item:only-child::after {width: 0;}#sk-09c77bc1-1ff3-410d-a036-dc26d59a46ad div.sk-dashed-wrapped {border: 1px dashed gray;margin: 0 0.4em 0.5em 0.4em;box-sizing: border-box;padding-bottom: 0.4em;background-color: white;position: relative;}#sk-09c77bc1-1ff3-410d-a036-dc26d59a46ad div.sk-label label {font-family: monospace;font-weight: bold;background-color: white;display: inline-block;line-height: 1.2em;}#sk-09c77bc1-1ff3-410d-a036-dc26d59a46ad div.sk-label-container {position: relative;z-index: 2;text-align: center;}#sk-09c77bc1-1ff3-410d-a036-dc26d59a46ad div.sk-container {/* jupyter's `normalize.less` sets `[hidden] { display: none; }` but bootstrap.min.css set `[hidden] { display: none !important; }` so we also need the `!important` here to be able to override the default hidden behavior on the sphinx rendered scikit-learn.org. See: https://github.com/scikit-learn/scikit-learn/issues/21755 */display: inline-block !important;position: relative;}#sk-09c77bc1-1ff3-410d-a036-dc26d59a46ad div.sk-text-repr-fallback {display: none;}</style><div id=\"sk-09c77bc1-1ff3-410d-a036-dc26d59a46ad\" class=\"sk-top-container\"><div class=\"sk-text-repr-fallback\"><pre>Pipeline(steps=[(&#x27;numerical&#x27;,\n",
       "                 Pipeline(steps=[(&#x27;timestamp&#x27;,\n",
       "                                  ColumnTransformer(remainder=&#x27;passthrough&#x27;,\n",
       "                                                    transformers=[(&#x27;timestamp_transformer&#x27;,\n",
       "                                                                   TimestampTransformer(timestamp_column=&#x27;Time_step&#x27;),\n",
       "                                                                   [&#x27;Time_step&#x27;])])),\n",
       "                                 (&#x27;scaler&#x27;,\n",
       "                                  ColumnTransformer(remainder=&#x27;passthrough&#x27;,\n",
       "                                                    transformers=[(&#x27;standard_scaler&#x27;,\n",
       "                                                                   StandardScaler(),\n",
       "                                                                   [0, 1, 2, 3,\n",
       "                                                                    4,\n",
       "                                                                    7])]))])),\n",
       "                (&#x27;categorical&#x27;,\n",
       "                 Pipe...\n",
       "                                                                   [6, 7])])),\n",
       "                                 (&#x27;country_transformer&#x27;,\n",
       "                                  ColumnTransformer(remainder=&#x27;passthrough&#x27;,\n",
       "                                                    transformers=[(&#x27;country_mapping&#x27;,\n",
       "                                                                   CountryTransformer(country_columns=[6,\n",
       "                                                                                                       7],\n",
       "                                                                                      top_countries=[&#x27;USA&#x27;,\n",
       "                                                                                                     &#x27;GERMANY&#x27;,\n",
       "                                                                                                     &#x27;CANADA&#x27;]),\n",
       "                                                                   [6, 7])])),\n",
       "                                 (&#x27;one_hot&#x27;,\n",
       "                                  ColumnTransformer(remainder=&#x27;passthrough&#x27;,\n",
       "                                                    transformers=[(&#x27;one_hot_encoder&#x27;,\n",
       "                                                                   OneHotEncoder(handle_unknown=&#x27;ignore&#x27;,\n",
       "                                                                                 sparse=False),\n",
       "                                                                   [6, 7,\n",
       "                                                                    8])]))]))])</pre><b>Please rerun this cell to show the HTML repr or trust the notebook.</b></div><div class=\"sk-container\" hidden><div class=\"sk-item sk-dashed-wrapped\"><div class=\"sk-label-container\"><div class=\"sk-label sk-toggleable\"><input class=\"sk-toggleable__control sk-hidden--visually\" id=\"e8edee91-5220-4d4c-aad1-575fa0125a47\" type=\"checkbox\" ><label for=\"e8edee91-5220-4d4c-aad1-575fa0125a47\" class=\"sk-toggleable__label sk-toggleable__label-arrow\">Pipeline</label><div class=\"sk-toggleable__content\"><pre>Pipeline(steps=[(&#x27;numerical&#x27;,\n",
       "                 Pipeline(steps=[(&#x27;timestamp&#x27;,\n",
       "                                  ColumnTransformer(remainder=&#x27;passthrough&#x27;,\n",
       "                                                    transformers=[(&#x27;timestamp_transformer&#x27;,\n",
       "                                                                   TimestampTransformer(timestamp_column=&#x27;Time_step&#x27;),\n",
       "                                                                   [&#x27;Time_step&#x27;])])),\n",
       "                                 (&#x27;scaler&#x27;,\n",
       "                                  ColumnTransformer(remainder=&#x27;passthrough&#x27;,\n",
       "                                                    transformers=[(&#x27;standard_scaler&#x27;,\n",
       "                                                                   StandardScaler(),\n",
       "                                                                   [0, 1, 2, 3,\n",
       "                                                                    4,\n",
       "                                                                    7])]))])),\n",
       "                (&#x27;categorical&#x27;,\n",
       "                 Pipe...\n",
       "                                                                   [6, 7])])),\n",
       "                                 (&#x27;country_transformer&#x27;,\n",
       "                                  ColumnTransformer(remainder=&#x27;passthrough&#x27;,\n",
       "                                                    transformers=[(&#x27;country_mapping&#x27;,\n",
       "                                                                   CountryTransformer(country_columns=[6,\n",
       "                                                                                                       7],\n",
       "                                                                                      top_countries=[&#x27;USA&#x27;,\n",
       "                                                                                                     &#x27;GERMANY&#x27;,\n",
       "                                                                                                     &#x27;CANADA&#x27;]),\n",
       "                                                                   [6, 7])])),\n",
       "                                 (&#x27;one_hot&#x27;,\n",
       "                                  ColumnTransformer(remainder=&#x27;passthrough&#x27;,\n",
       "                                                    transformers=[(&#x27;one_hot_encoder&#x27;,\n",
       "                                                                   OneHotEncoder(handle_unknown=&#x27;ignore&#x27;,\n",
       "                                                                                 sparse=False),\n",
       "                                                                   [6, 7,\n",
       "                                                                    8])]))]))])</pre></div></div></div><div class=\"sk-serial\"><div class=\"sk-item\"><div class=\"sk-label-container\"><div class=\"sk-label sk-toggleable\"><input class=\"sk-toggleable__control sk-hidden--visually\" id=\"7d452609-f5c3-407e-b27b-546b10a2691e\" type=\"checkbox\" ><label for=\"7d452609-f5c3-407e-b27b-546b10a2691e\" class=\"sk-toggleable__label sk-toggleable__label-arrow\">numerical: Pipeline</label><div class=\"sk-toggleable__content\"><pre>Pipeline(steps=[(&#x27;timestamp&#x27;,\n",
       "                 ColumnTransformer(remainder=&#x27;passthrough&#x27;,\n",
       "                                   transformers=[(&#x27;timestamp_transformer&#x27;,\n",
       "                                                  TimestampTransformer(timestamp_column=&#x27;Time_step&#x27;),\n",
       "                                                  [&#x27;Time_step&#x27;])])),\n",
       "                (&#x27;scaler&#x27;,\n",
       "                 ColumnTransformer(remainder=&#x27;passthrough&#x27;,\n",
       "                                   transformers=[(&#x27;standard_scaler&#x27;,\n",
       "                                                  StandardScaler(),\n",
       "                                                  [0, 1, 2, 3, 4, 7])]))])</pre></div></div></div><div class=\"sk-serial\"><div class=\"sk-item sk-dashed-wrapped\"><div class=\"sk-label-container\"><div class=\"sk-label sk-toggleable\"><input class=\"sk-toggleable__control sk-hidden--visually\" id=\"aea7bbcc-1b84-450b-b782-357864bdb216\" type=\"checkbox\" ><label for=\"aea7bbcc-1b84-450b-b782-357864bdb216\" class=\"sk-toggleable__label sk-toggleable__label-arrow\">timestamp: ColumnTransformer</label><div class=\"sk-toggleable__content\"><pre>ColumnTransformer(remainder=&#x27;passthrough&#x27;,\n",
       "                  transformers=[(&#x27;timestamp_transformer&#x27;,\n",
       "                                 TimestampTransformer(timestamp_column=&#x27;Time_step&#x27;),\n",
       "                                 [&#x27;Time_step&#x27;])])</pre></div></div></div><div class=\"sk-parallel\"><div class=\"sk-parallel-item\"><div class=\"sk-item\"><div class=\"sk-label-container\"><div class=\"sk-label sk-toggleable\"><input class=\"sk-toggleable__control sk-hidden--visually\" id=\"c8bc3c64-904b-4226-86a9-2a94c40b9c5b\" type=\"checkbox\" ><label for=\"c8bc3c64-904b-4226-86a9-2a94c40b9c5b\" class=\"sk-toggleable__label sk-toggleable__label-arrow\">timestamp_transformer</label><div class=\"sk-toggleable__content\"><pre>[&#x27;Time_step&#x27;]</pre></div></div></div><div class=\"sk-serial\"><div class=\"sk-item\"><div class=\"sk-estimator sk-toggleable\"><input class=\"sk-toggleable__control sk-hidden--visually\" id=\"bb980f04-7043-4a2a-bf20-5377f9be54e7\" type=\"checkbox\" ><label for=\"bb980f04-7043-4a2a-bf20-5377f9be54e7\" class=\"sk-toggleable__label sk-toggleable__label-arrow\">TimestampTransformer</label><div class=\"sk-toggleable__content\"><pre>TimestampTransformer(timestamp_column=&#x27;Time_step&#x27;)</pre></div></div></div></div></div></div><div class=\"sk-parallel-item\"><div class=\"sk-item\"><div class=\"sk-label-container\"><div class=\"sk-label sk-toggleable\"><input class=\"sk-toggleable__control sk-hidden--visually\" id=\"5a4b667c-0435-4e57-b7ed-f0163c8efc62\" type=\"checkbox\" ><label for=\"5a4b667c-0435-4e57-b7ed-f0163c8efc62\" class=\"sk-toggleable__label sk-toggleable__label-arrow\">remainder</label><div class=\"sk-toggleable__content\"><pre>[&#x27;Sender_Country&#x27;, &#x27;Bene_Country&#x27;, &#x27;USD_amount&#x27;, &#x27;Transaction_Type&#x27;]</pre></div></div></div><div class=\"sk-serial\"><div class=\"sk-item\"><div class=\"sk-estimator sk-toggleable\"><input class=\"sk-toggleable__control sk-hidden--visually\" id=\"6737600a-b4a4-42fd-ac54-d00d14d82b64\" type=\"checkbox\" ><label for=\"6737600a-b4a4-42fd-ac54-d00d14d82b64\" class=\"sk-toggleable__label sk-toggleable__label-arrow\">passthrough</label><div class=\"sk-toggleable__content\"><pre>passthrough</pre></div></div></div></div></div></div></div></div><div class=\"sk-item sk-dashed-wrapped\"><div class=\"sk-label-container\"><div class=\"sk-label sk-toggleable\"><input class=\"sk-toggleable__control sk-hidden--visually\" id=\"99e63992-d48a-4ca6-bb24-dc2375eb23cf\" type=\"checkbox\" ><label for=\"99e63992-d48a-4ca6-bb24-dc2375eb23cf\" class=\"sk-toggleable__label sk-toggleable__label-arrow\">scaler: ColumnTransformer</label><div class=\"sk-toggleable__content\"><pre>ColumnTransformer(remainder=&#x27;passthrough&#x27;,\n",
       "                  transformers=[(&#x27;standard_scaler&#x27;, StandardScaler(),\n",
       "                                 [0, 1, 2, 3, 4, 7])])</pre></div></div></div><div class=\"sk-parallel\"><div class=\"sk-parallel-item\"><div class=\"sk-item\"><div class=\"sk-label-container\"><div class=\"sk-label sk-toggleable\"><input class=\"sk-toggleable__control sk-hidden--visually\" id=\"17c00bce-f17b-4a84-828b-797b2c84921f\" type=\"checkbox\" ><label for=\"17c00bce-f17b-4a84-828b-797b2c84921f\" class=\"sk-toggleable__label sk-toggleable__label-arrow\">standard_scaler</label><div class=\"sk-toggleable__content\"><pre>[0, 1, 2, 3, 4, 7]</pre></div></div></div><div class=\"sk-serial\"><div class=\"sk-item\"><div class=\"sk-estimator sk-toggleable\"><input class=\"sk-toggleable__control sk-hidden--visually\" id=\"b9523300-d74d-4df8-a10c-b49f2dd68f8b\" type=\"checkbox\" ><label for=\"b9523300-d74d-4df8-a10c-b49f2dd68f8b\" class=\"sk-toggleable__label sk-toggleable__label-arrow\">StandardScaler</label><div class=\"sk-toggleable__content\"><pre>StandardScaler()</pre></div></div></div></div></div></div><div class=\"sk-parallel-item\"><div class=\"sk-item\"><div class=\"sk-label-container\"><div class=\"sk-label sk-toggleable\"><input class=\"sk-toggleable__control sk-hidden--visually\" id=\"39ef66f7-5187-4606-a1e8-8a5ed200c1d7\" type=\"checkbox\" ><label for=\"39ef66f7-5187-4606-a1e8-8a5ed200c1d7\" class=\"sk-toggleable__label sk-toggleable__label-arrow\">remainder</label><div class=\"sk-toggleable__content\"><pre>[5, 6, 8]</pre></div></div></div><div class=\"sk-serial\"><div class=\"sk-item\"><div class=\"sk-estimator sk-toggleable\"><input class=\"sk-toggleable__control sk-hidden--visually\" id=\"b500d636-4879-4346-84c3-1c1d1fcc4a70\" type=\"checkbox\" ><label for=\"b500d636-4879-4346-84c3-1c1d1fcc4a70\" class=\"sk-toggleable__label sk-toggleable__label-arrow\">passthrough</label><div class=\"sk-toggleable__content\"><pre>passthrough</pre></div></div></div></div></div></div></div></div></div></div><div class=\"sk-item\"><div class=\"sk-label-container\"><div class=\"sk-label sk-toggleable\"><input class=\"sk-toggleable__control sk-hidden--visually\" id=\"f4af0d7d-9f90-4dfb-a6c8-c2647fe2c763\" type=\"checkbox\" ><label for=\"f4af0d7d-9f90-4dfb-a6c8-c2647fe2c763\" class=\"sk-toggleable__label sk-toggleable__label-arrow\">categorical: Pipeline</label><div class=\"sk-toggleable__content\"><pre>Pipeline(steps=[(&#x27;imputer&#x27;,\n",
       "                 ColumnTransformer(remainder=&#x27;passthrough&#x27;,\n",
       "                                   transformers=[(&#x27;simple_imputer&#x27;,\n",
       "                                                  SimpleImputer(fill_value=&#x27;N/A&#x27;,\n",
       "                                                                strategy=&#x27;constant&#x27;),\n",
       "                                                  [6, 7])])),\n",
       "                (&#x27;country_transformer&#x27;,\n",
       "                 ColumnTransformer(remainder=&#x27;passthrough&#x27;,\n",
       "                                   transformers=[(&#x27;country_mapping&#x27;,\n",
       "                                                  CountryTransformer(country_columns=[6,\n",
       "                                                                                      7],\n",
       "                                                                     top_countries=[&#x27;USA&#x27;,\n",
       "                                                                                    &#x27;GERMANY&#x27;,\n",
       "                                                                                    &#x27;CANADA&#x27;]),\n",
       "                                                  [6, 7])])),\n",
       "                (&#x27;one_hot&#x27;,\n",
       "                 ColumnTransformer(remainder=&#x27;passthrough&#x27;,\n",
       "                                   transformers=[(&#x27;one_hot_encoder&#x27;,\n",
       "                                                  OneHotEncoder(handle_unknown=&#x27;ignore&#x27;,\n",
       "                                                                sparse=False),\n",
       "                                                  [6, 7, 8])]))])</pre></div></div></div><div class=\"sk-serial\"><div class=\"sk-item sk-dashed-wrapped\"><div class=\"sk-label-container\"><div class=\"sk-label sk-toggleable\"><input class=\"sk-toggleable__control sk-hidden--visually\" id=\"065050d8-a3ed-452f-a3aa-a8daae7c96a9\" type=\"checkbox\" ><label for=\"065050d8-a3ed-452f-a3aa-a8daae7c96a9\" class=\"sk-toggleable__label sk-toggleable__label-arrow\">imputer: ColumnTransformer</label><div class=\"sk-toggleable__content\"><pre>ColumnTransformer(remainder=&#x27;passthrough&#x27;,\n",
       "                  transformers=[(&#x27;simple_imputer&#x27;,\n",
       "                                 SimpleImputer(fill_value=&#x27;N/A&#x27;,\n",
       "                                               strategy=&#x27;constant&#x27;),\n",
       "                                 [6, 7])])</pre></div></div></div><div class=\"sk-parallel\"><div class=\"sk-parallel-item\"><div class=\"sk-item\"><div class=\"sk-label-container\"><div class=\"sk-label sk-toggleable\"><input class=\"sk-toggleable__control sk-hidden--visually\" id=\"3ee1d6bd-aad0-434f-84f9-103f3188d39e\" type=\"checkbox\" ><label for=\"3ee1d6bd-aad0-434f-84f9-103f3188d39e\" class=\"sk-toggleable__label sk-toggleable__label-arrow\">simple_imputer</label><div class=\"sk-toggleable__content\"><pre>[6, 7]</pre></div></div></div><div class=\"sk-serial\"><div class=\"sk-item\"><div class=\"sk-estimator sk-toggleable\"><input class=\"sk-toggleable__control sk-hidden--visually\" id=\"8fc73ea0-a3e7-448c-8ca6-752cca3116b9\" type=\"checkbox\" ><label for=\"8fc73ea0-a3e7-448c-8ca6-752cca3116b9\" class=\"sk-toggleable__label sk-toggleable__label-arrow\">SimpleImputer</label><div class=\"sk-toggleable__content\"><pre>SimpleImputer(fill_value=&#x27;N/A&#x27;, strategy=&#x27;constant&#x27;)</pre></div></div></div></div></div></div><div class=\"sk-parallel-item\"><div class=\"sk-item\"><div class=\"sk-label-container\"><div class=\"sk-label sk-toggleable\"><input class=\"sk-toggleable__control sk-hidden--visually\" id=\"768f2f0f-8fbe-4d6f-ac10-eddbf0276ec9\" type=\"checkbox\" ><label for=\"768f2f0f-8fbe-4d6f-ac10-eddbf0276ec9\" class=\"sk-toggleable__label sk-toggleable__label-arrow\">remainder</label><div class=\"sk-toggleable__content\"><pre></pre></div></div></div><div class=\"sk-serial\"><div class=\"sk-item\"><div class=\"sk-estimator sk-toggleable\"><input class=\"sk-toggleable__control sk-hidden--visually\" id=\"9791a7e1-75f4-4c20-8172-fc38f1c37bb3\" type=\"checkbox\" ><label for=\"9791a7e1-75f4-4c20-8172-fc38f1c37bb3\" class=\"sk-toggleable__label sk-toggleable__label-arrow\">passthrough</label><div class=\"sk-toggleable__content\"><pre>passthrough</pre></div></div></div></div></div></div></div></div><div class=\"sk-item sk-dashed-wrapped\"><div class=\"sk-label-container\"><div class=\"sk-label sk-toggleable\"><input class=\"sk-toggleable__control sk-hidden--visually\" id=\"1b8b7900-45f1-4a6b-80fb-ab6fad46b0f4\" type=\"checkbox\" ><label for=\"1b8b7900-45f1-4a6b-80fb-ab6fad46b0f4\" class=\"sk-toggleable__label sk-toggleable__label-arrow\">country_transformer: ColumnTransformer</label><div class=\"sk-toggleable__content\"><pre>ColumnTransformer(remainder=&#x27;passthrough&#x27;,\n",
       "                  transformers=[(&#x27;country_mapping&#x27;,\n",
       "                                 CountryTransformer(country_columns=[6, 7],\n",
       "                                                    top_countries=[&#x27;USA&#x27;,\n",
       "                                                                   &#x27;GERMANY&#x27;,\n",
       "                                                                   &#x27;CANADA&#x27;]),\n",
       "                                 [6, 7])])</pre></div></div></div><div class=\"sk-parallel\"><div class=\"sk-parallel-item\"><div class=\"sk-item\"><div class=\"sk-label-container\"><div class=\"sk-label sk-toggleable\"><input class=\"sk-toggleable__control sk-hidden--visually\" id=\"a76bf85b-9920-4642-a8bf-0b90f88b67ca\" type=\"checkbox\" ><label for=\"a76bf85b-9920-4642-a8bf-0b90f88b67ca\" class=\"sk-toggleable__label sk-toggleable__label-arrow\">country_mapping</label><div class=\"sk-toggleable__content\"><pre>[6, 7]</pre></div></div></div><div class=\"sk-serial\"><div class=\"sk-item\"><div class=\"sk-estimator sk-toggleable\"><input class=\"sk-toggleable__control sk-hidden--visually\" id=\"08588e72-0d2d-4825-a678-52cf3f8b4bec\" type=\"checkbox\" ><label for=\"08588e72-0d2d-4825-a678-52cf3f8b4bec\" class=\"sk-toggleable__label sk-toggleable__label-arrow\">CountryTransformer</label><div class=\"sk-toggleable__content\"><pre>CountryTransformer(country_columns=[6, 7],\n",
       "                   top_countries=[&#x27;USA&#x27;, &#x27;GERMANY&#x27;, &#x27;CANADA&#x27;])</pre></div></div></div></div></div></div><div class=\"sk-parallel-item\"><div class=\"sk-item\"><div class=\"sk-label-container\"><div class=\"sk-label sk-toggleable\"><input class=\"sk-toggleable__control sk-hidden--visually\" id=\"380ed122-87ec-43ba-a113-2bad9bd58a46\" type=\"checkbox\" ><label for=\"380ed122-87ec-43ba-a113-2bad9bd58a46\" class=\"sk-toggleable__label sk-toggleable__label-arrow\">remainder</label><div class=\"sk-toggleable__content\"><pre></pre></div></div></div><div class=\"sk-serial\"><div class=\"sk-item\"><div class=\"sk-estimator sk-toggleable\"><input class=\"sk-toggleable__control sk-hidden--visually\" id=\"9beb517f-41fa-41a4-b506-7f77d8848a46\" type=\"checkbox\" ><label for=\"9beb517f-41fa-41a4-b506-7f77d8848a46\" class=\"sk-toggleable__label sk-toggleable__label-arrow\">passthrough</label><div class=\"sk-toggleable__content\"><pre>passthrough</pre></div></div></div></div></div></div></div></div><div class=\"sk-item sk-dashed-wrapped\"><div class=\"sk-label-container\"><div class=\"sk-label sk-toggleable\"><input class=\"sk-toggleable__control sk-hidden--visually\" id=\"d97a3707-9b3c-4ba4-a9cf-5cdf1b16edb7\" type=\"checkbox\" ><label for=\"d97a3707-9b3c-4ba4-a9cf-5cdf1b16edb7\" class=\"sk-toggleable__label sk-toggleable__label-arrow\">one_hot: ColumnTransformer</label><div class=\"sk-toggleable__content\"><pre>ColumnTransformer(remainder=&#x27;passthrough&#x27;,\n",
       "                  transformers=[(&#x27;one_hot_encoder&#x27;,\n",
       "                                 OneHotEncoder(handle_unknown=&#x27;ignore&#x27;,\n",
       "                                               sparse=False),\n",
       "                                 [6, 7, 8])])</pre></div></div></div><div class=\"sk-parallel\"><div class=\"sk-parallel-item\"><div class=\"sk-item\"><div class=\"sk-label-container\"><div class=\"sk-label sk-toggleable\"><input class=\"sk-toggleable__control sk-hidden--visually\" id=\"a4926a18-4fa6-43ea-8ded-376cc23eee34\" type=\"checkbox\" ><label for=\"a4926a18-4fa6-43ea-8ded-376cc23eee34\" class=\"sk-toggleable__label sk-toggleable__label-arrow\">one_hot_encoder</label><div class=\"sk-toggleable__content\"><pre>[6, 7, 8]</pre></div></div></div><div class=\"sk-serial\"><div class=\"sk-item\"><div class=\"sk-estimator sk-toggleable\"><input class=\"sk-toggleable__control sk-hidden--visually\" id=\"df915812-fc74-4c16-9e01-aeb7f3a1c8f8\" type=\"checkbox\" ><label for=\"df915812-fc74-4c16-9e01-aeb7f3a1c8f8\" class=\"sk-toggleable__label sk-toggleable__label-arrow\">OneHotEncoder</label><div class=\"sk-toggleable__content\"><pre>OneHotEncoder(handle_unknown=&#x27;ignore&#x27;, sparse=False)</pre></div></div></div></div></div></div><div class=\"sk-parallel-item\"><div class=\"sk-item\"><div class=\"sk-label-container\"><div class=\"sk-label sk-toggleable\"><input class=\"sk-toggleable__control sk-hidden--visually\" id=\"2769b61d-ad18-4c0e-9e27-c9730b21cca1\" type=\"checkbox\" ><label for=\"2769b61d-ad18-4c0e-9e27-c9730b21cca1\" class=\"sk-toggleable__label sk-toggleable__label-arrow\">remainder</label><div class=\"sk-toggleable__content\"><pre></pre></div></div></div><div class=\"sk-serial\"><div class=\"sk-item\"><div class=\"sk-estimator sk-toggleable\"><input class=\"sk-toggleable__control sk-hidden--visually\" id=\"603d115e-e462-48bf-9ca3-fa98ed04808d\" type=\"checkbox\" ><label for=\"603d115e-e462-48bf-9ca3-fa98ed04808d\" class=\"sk-toggleable__label sk-toggleable__label-arrow\">passthrough</label><div class=\"sk-toggleable__content\"><pre>passthrough</pre></div></div></div></div></div></div></div></div></div></div></div></div></div></div>"
      ],
      "text/plain": [
       "Pipeline(steps=[('numerical',\n",
       "                 Pipeline(steps=[('timestamp',\n",
       "                                  ColumnTransformer(remainder='passthrough',\n",
       "                                                    transformers=[('timestamp_transformer',\n",
       "                                                                   TimestampTransformer(timestamp_column='Time_step'),\n",
       "                                                                   ['Time_step'])])),\n",
       "                                 ('scaler',\n",
       "                                  ColumnTransformer(remainder='passthrough',\n",
       "                                                    transformers=[('standard_scaler',\n",
       "                                                                   StandardScaler(),\n",
       "                                                                   [0, 1, 2, 3,\n",
       "                                                                    4,\n",
       "                                                                    7])]))])),\n",
       "                ('categorical',\n",
       "                 Pipe...\n",
       "                                                                   [6, 7])])),\n",
       "                                 ('country_transformer',\n",
       "                                  ColumnTransformer(remainder='passthrough',\n",
       "                                                    transformers=[('country_mapping',\n",
       "                                                                   CountryTransformer(country_columns=[6,\n",
       "                                                                                                       7],\n",
       "                                                                                      top_countries=['USA',\n",
       "                                                                                                     'GERMANY',\n",
       "                                                                                                     'CANADA']),\n",
       "                                                                   [6, 7])])),\n",
       "                                 ('one_hot',\n",
       "                                  ColumnTransformer(remainder='passthrough',\n",
       "                                                    transformers=[('one_hot_encoder',\n",
       "                                                                   OneHotEncoder(handle_unknown='ignore',\n",
       "                                                                                 sparse=False),\n",
       "                                                                   [6, 7,\n",
       "                                                                    8])]))]))])"
      ]
     },
     "execution_count": 143,
     "metadata": {},
     "output_type": "execute_result"
    }
   ],
   "source": [
    "preprocess_pipeline = Pipeline(\n",
    "    [\n",
    "        ('numerical', numerical_pipeline),\n",
    "        ('categorical', categorical_pipeline)\n",
    "    ]\n",
    ")\n",
    "\n",
    "preprocess_pipeline"
   ]
  },
  {
   "cell_type": "code",
   "execution_count": 151,
   "metadata": {},
   "outputs": [
    {
     "ename": "IndexError",
     "evalue": "index 6 is out of bounds for axis 1 with size 2",
     "output_type": "error",
     "traceback": [
      "\u001b[1;31m---------------------------------------------------------------------------\u001b[0m",
      "\u001b[1;31mIndexError\u001b[0m                                Traceback (most recent call last)",
      "\u001b[1;32m~\\AppData\\Local\\Temp\\ipykernel_10864\\3253867490.py\u001b[0m in \u001b[0;36m<module>\u001b[1;34m\u001b[0m\n\u001b[1;32m----> 1\u001b[1;33m \u001b[0myy\u001b[0m \u001b[1;33m=\u001b[0m \u001b[0mpreprocess_pipeline\u001b[0m\u001b[1;33m.\u001b[0m\u001b[0mfit_transform\u001b[0m\u001b[1;33m(\u001b[0m\u001b[0my\u001b[0m\u001b[1;33m.\u001b[0m\u001b[0mdrop\u001b[0m\u001b[1;33m(\u001b[0m\u001b[1;34m'Label'\u001b[0m\u001b[1;33m,\u001b[0m \u001b[0maxis\u001b[0m\u001b[1;33m=\u001b[0m\u001b[1;36m1\u001b[0m\u001b[1;33m)\u001b[0m\u001b[1;33m)\u001b[0m\u001b[1;33m\u001b[0m\u001b[1;33m\u001b[0m\u001b[0m\n\u001b[0m\u001b[0;32m      2\u001b[0m \u001b[0myy\u001b[0m\u001b[1;33m[\u001b[0m\u001b[1;36m0\u001b[0m\u001b[1;33m]\u001b[0m\u001b[1;33m\u001b[0m\u001b[1;33m\u001b[0m\u001b[0m\n",
      "\u001b[1;32md:\\DataScience\\AnomalyDetection_JPMC\\venv\\lib\\site-packages\\sklearn\\pipeline.py\u001b[0m in \u001b[0;36mfit_transform\u001b[1;34m(self, X, y, **fit_params)\u001b[0m\n\u001b[0;32m    432\u001b[0m             \u001b[0mfit_params_last_step\u001b[0m \u001b[1;33m=\u001b[0m \u001b[0mfit_params_steps\u001b[0m\u001b[1;33m[\u001b[0m\u001b[0mself\u001b[0m\u001b[1;33m.\u001b[0m\u001b[0msteps\u001b[0m\u001b[1;33m[\u001b[0m\u001b[1;33m-\u001b[0m\u001b[1;36m1\u001b[0m\u001b[1;33m]\u001b[0m\u001b[1;33m[\u001b[0m\u001b[1;36m0\u001b[0m\u001b[1;33m]\u001b[0m\u001b[1;33m]\u001b[0m\u001b[1;33m\u001b[0m\u001b[1;33m\u001b[0m\u001b[0m\n\u001b[0;32m    433\u001b[0m             \u001b[1;32mif\u001b[0m \u001b[0mhasattr\u001b[0m\u001b[1;33m(\u001b[0m\u001b[0mlast_step\u001b[0m\u001b[1;33m,\u001b[0m \u001b[1;34m\"fit_transform\"\u001b[0m\u001b[1;33m)\u001b[0m\u001b[1;33m:\u001b[0m\u001b[1;33m\u001b[0m\u001b[1;33m\u001b[0m\u001b[0m\n\u001b[1;32m--> 434\u001b[1;33m                 \u001b[1;32mreturn\u001b[0m \u001b[0mlast_step\u001b[0m\u001b[1;33m.\u001b[0m\u001b[0mfit_transform\u001b[0m\u001b[1;33m(\u001b[0m\u001b[0mXt\u001b[0m\u001b[1;33m,\u001b[0m \u001b[0my\u001b[0m\u001b[1;33m,\u001b[0m \u001b[1;33m**\u001b[0m\u001b[0mfit_params_last_step\u001b[0m\u001b[1;33m)\u001b[0m\u001b[1;33m\u001b[0m\u001b[1;33m\u001b[0m\u001b[0m\n\u001b[0m\u001b[0;32m    435\u001b[0m             \u001b[1;32melse\u001b[0m\u001b[1;33m:\u001b[0m\u001b[1;33m\u001b[0m\u001b[1;33m\u001b[0m\u001b[0m\n\u001b[0;32m    436\u001b[0m                 \u001b[1;32mreturn\u001b[0m \u001b[0mlast_step\u001b[0m\u001b[1;33m.\u001b[0m\u001b[0mfit\u001b[0m\u001b[1;33m(\u001b[0m\u001b[0mXt\u001b[0m\u001b[1;33m,\u001b[0m \u001b[0my\u001b[0m\u001b[1;33m,\u001b[0m \u001b[1;33m**\u001b[0m\u001b[0mfit_params_last_step\u001b[0m\u001b[1;33m)\u001b[0m\u001b[1;33m.\u001b[0m\u001b[0mtransform\u001b[0m\u001b[1;33m(\u001b[0m\u001b[0mXt\u001b[0m\u001b[1;33m)\u001b[0m\u001b[1;33m\u001b[0m\u001b[1;33m\u001b[0m\u001b[0m\n",
      "\u001b[1;32md:\\DataScience\\AnomalyDetection_JPMC\\venv\\lib\\site-packages\\sklearn\\pipeline.py\u001b[0m in \u001b[0;36mfit_transform\u001b[1;34m(self, X, y, **fit_params)\u001b[0m\n\u001b[0;32m    424\u001b[0m         \"\"\"\n\u001b[0;32m    425\u001b[0m         \u001b[0mfit_params_steps\u001b[0m \u001b[1;33m=\u001b[0m \u001b[0mself\u001b[0m\u001b[1;33m.\u001b[0m\u001b[0m_check_fit_params\u001b[0m\u001b[1;33m(\u001b[0m\u001b[1;33m**\u001b[0m\u001b[0mfit_params\u001b[0m\u001b[1;33m)\u001b[0m\u001b[1;33m\u001b[0m\u001b[1;33m\u001b[0m\u001b[0m\n\u001b[1;32m--> 426\u001b[1;33m         \u001b[0mXt\u001b[0m \u001b[1;33m=\u001b[0m \u001b[0mself\u001b[0m\u001b[1;33m.\u001b[0m\u001b[0m_fit\u001b[0m\u001b[1;33m(\u001b[0m\u001b[0mX\u001b[0m\u001b[1;33m,\u001b[0m \u001b[0my\u001b[0m\u001b[1;33m,\u001b[0m \u001b[1;33m**\u001b[0m\u001b[0mfit_params_steps\u001b[0m\u001b[1;33m)\u001b[0m\u001b[1;33m\u001b[0m\u001b[1;33m\u001b[0m\u001b[0m\n\u001b[0m\u001b[0;32m    427\u001b[0m \u001b[1;33m\u001b[0m\u001b[0m\n\u001b[0;32m    428\u001b[0m         \u001b[0mlast_step\u001b[0m \u001b[1;33m=\u001b[0m \u001b[0mself\u001b[0m\u001b[1;33m.\u001b[0m\u001b[0m_final_estimator\u001b[0m\u001b[1;33m\u001b[0m\u001b[1;33m\u001b[0m\u001b[0m\n",
      "\u001b[1;32md:\\DataScience\\AnomalyDetection_JPMC\\venv\\lib\\site-packages\\sklearn\\pipeline.py\u001b[0m in \u001b[0;36m_fit\u001b[1;34m(self, X, y, **fit_params_steps)\u001b[0m\n\u001b[0;32m    353\u001b[0m                 \u001b[0mmessage_clsname\u001b[0m\u001b[1;33m=\u001b[0m\u001b[1;34m\"Pipeline\"\u001b[0m\u001b[1;33m,\u001b[0m\u001b[1;33m\u001b[0m\u001b[1;33m\u001b[0m\u001b[0m\n\u001b[0;32m    354\u001b[0m                 \u001b[0mmessage\u001b[0m\u001b[1;33m=\u001b[0m\u001b[0mself\u001b[0m\u001b[1;33m.\u001b[0m\u001b[0m_log_message\u001b[0m\u001b[1;33m(\u001b[0m\u001b[0mstep_idx\u001b[0m\u001b[1;33m)\u001b[0m\u001b[1;33m,\u001b[0m\u001b[1;33m\u001b[0m\u001b[1;33m\u001b[0m\u001b[0m\n\u001b[1;32m--> 355\u001b[1;33m                 \u001b[1;33m**\u001b[0m\u001b[0mfit_params_steps\u001b[0m\u001b[1;33m[\u001b[0m\u001b[0mname\u001b[0m\u001b[1;33m]\u001b[0m\u001b[1;33m,\u001b[0m\u001b[1;33m\u001b[0m\u001b[1;33m\u001b[0m\u001b[0m\n\u001b[0m\u001b[0;32m    356\u001b[0m             )\n\u001b[0;32m    357\u001b[0m             \u001b[1;31m# Replace the transformer of the step with the fitted\u001b[0m\u001b[1;33m\u001b[0m\u001b[1;33m\u001b[0m\u001b[1;33m\u001b[0m\u001b[0m\n",
      "\u001b[1;32md:\\DataScience\\AnomalyDetection_JPMC\\venv\\lib\\site-packages\\joblib\\memory.py\u001b[0m in \u001b[0;36m__call__\u001b[1;34m(self, *args, **kwargs)\u001b[0m\n\u001b[0;32m    351\u001b[0m \u001b[1;33m\u001b[0m\u001b[0m\n\u001b[0;32m    352\u001b[0m     \u001b[1;32mdef\u001b[0m \u001b[0m__call__\u001b[0m\u001b[1;33m(\u001b[0m\u001b[0mself\u001b[0m\u001b[1;33m,\u001b[0m \u001b[1;33m*\u001b[0m\u001b[0margs\u001b[0m\u001b[1;33m,\u001b[0m \u001b[1;33m**\u001b[0m\u001b[0mkwargs\u001b[0m\u001b[1;33m)\u001b[0m\u001b[1;33m:\u001b[0m\u001b[1;33m\u001b[0m\u001b[1;33m\u001b[0m\u001b[0m\n\u001b[1;32m--> 353\u001b[1;33m         \u001b[1;32mreturn\u001b[0m \u001b[0mself\u001b[0m\u001b[1;33m.\u001b[0m\u001b[0mfunc\u001b[0m\u001b[1;33m(\u001b[0m\u001b[1;33m*\u001b[0m\u001b[0margs\u001b[0m\u001b[1;33m,\u001b[0m \u001b[1;33m**\u001b[0m\u001b[0mkwargs\u001b[0m\u001b[1;33m)\u001b[0m\u001b[1;33m\u001b[0m\u001b[1;33m\u001b[0m\u001b[0m\n\u001b[0m\u001b[0;32m    354\u001b[0m \u001b[1;33m\u001b[0m\u001b[0m\n\u001b[0;32m    355\u001b[0m     \u001b[1;32mdef\u001b[0m \u001b[0mcall_and_shelve\u001b[0m\u001b[1;33m(\u001b[0m\u001b[0mself\u001b[0m\u001b[1;33m,\u001b[0m \u001b[1;33m*\u001b[0m\u001b[0margs\u001b[0m\u001b[1;33m,\u001b[0m \u001b[1;33m**\u001b[0m\u001b[0mkwargs\u001b[0m\u001b[1;33m)\u001b[0m\u001b[1;33m:\u001b[0m\u001b[1;33m\u001b[0m\u001b[1;33m\u001b[0m\u001b[0m\n",
      "\u001b[1;32md:\\DataScience\\AnomalyDetection_JPMC\\venv\\lib\\site-packages\\sklearn\\pipeline.py\u001b[0m in \u001b[0;36m_fit_transform_one\u001b[1;34m(transformer, X, y, weight, message_clsname, message, **fit_params)\u001b[0m\n\u001b[0;32m    891\u001b[0m     \u001b[1;32mwith\u001b[0m \u001b[0m_print_elapsed_time\u001b[0m\u001b[1;33m(\u001b[0m\u001b[0mmessage_clsname\u001b[0m\u001b[1;33m,\u001b[0m \u001b[0mmessage\u001b[0m\u001b[1;33m)\u001b[0m\u001b[1;33m:\u001b[0m\u001b[1;33m\u001b[0m\u001b[1;33m\u001b[0m\u001b[0m\n\u001b[0;32m    892\u001b[0m         \u001b[1;32mif\u001b[0m \u001b[0mhasattr\u001b[0m\u001b[1;33m(\u001b[0m\u001b[0mtransformer\u001b[0m\u001b[1;33m,\u001b[0m \u001b[1;34m\"fit_transform\"\u001b[0m\u001b[1;33m)\u001b[0m\u001b[1;33m:\u001b[0m\u001b[1;33m\u001b[0m\u001b[1;33m\u001b[0m\u001b[0m\n\u001b[1;32m--> 893\u001b[1;33m             \u001b[0mres\u001b[0m \u001b[1;33m=\u001b[0m \u001b[0mtransformer\u001b[0m\u001b[1;33m.\u001b[0m\u001b[0mfit_transform\u001b[0m\u001b[1;33m(\u001b[0m\u001b[0mX\u001b[0m\u001b[1;33m,\u001b[0m \u001b[0my\u001b[0m\u001b[1;33m,\u001b[0m \u001b[1;33m**\u001b[0m\u001b[0mfit_params\u001b[0m\u001b[1;33m)\u001b[0m\u001b[1;33m\u001b[0m\u001b[1;33m\u001b[0m\u001b[0m\n\u001b[0m\u001b[0;32m    894\u001b[0m         \u001b[1;32melse\u001b[0m\u001b[1;33m:\u001b[0m\u001b[1;33m\u001b[0m\u001b[1;33m\u001b[0m\u001b[0m\n\u001b[0;32m    895\u001b[0m             \u001b[0mres\u001b[0m \u001b[1;33m=\u001b[0m \u001b[0mtransformer\u001b[0m\u001b[1;33m.\u001b[0m\u001b[0mfit\u001b[0m\u001b[1;33m(\u001b[0m\u001b[0mX\u001b[0m\u001b[1;33m,\u001b[0m \u001b[0my\u001b[0m\u001b[1;33m,\u001b[0m \u001b[1;33m**\u001b[0m\u001b[0mfit_params\u001b[0m\u001b[1;33m)\u001b[0m\u001b[1;33m.\u001b[0m\u001b[0mtransform\u001b[0m\u001b[1;33m(\u001b[0m\u001b[0mX\u001b[0m\u001b[1;33m)\u001b[0m\u001b[1;33m\u001b[0m\u001b[1;33m\u001b[0m\u001b[0m\n",
      "\u001b[1;32md:\\DataScience\\AnomalyDetection_JPMC\\venv\\lib\\site-packages\\sklearn\\compose\\_column_transformer.py\u001b[0m in \u001b[0;36mfit_transform\u001b[1;34m(self, X, y)\u001b[0m\n\u001b[0;32m    673\u001b[0m         \u001b[0mself\u001b[0m\u001b[1;33m.\u001b[0m\u001b[0m_validate_remainder\u001b[0m\u001b[1;33m(\u001b[0m\u001b[0mX\u001b[0m\u001b[1;33m)\u001b[0m\u001b[1;33m\u001b[0m\u001b[1;33m\u001b[0m\u001b[0m\n\u001b[0;32m    674\u001b[0m \u001b[1;33m\u001b[0m\u001b[0m\n\u001b[1;32m--> 675\u001b[1;33m         \u001b[0mresult\u001b[0m \u001b[1;33m=\u001b[0m \u001b[0mself\u001b[0m\u001b[1;33m.\u001b[0m\u001b[0m_fit_transform\u001b[0m\u001b[1;33m(\u001b[0m\u001b[0mX\u001b[0m\u001b[1;33m,\u001b[0m \u001b[0my\u001b[0m\u001b[1;33m,\u001b[0m \u001b[0m_fit_transform_one\u001b[0m\u001b[1;33m)\u001b[0m\u001b[1;33m\u001b[0m\u001b[1;33m\u001b[0m\u001b[0m\n\u001b[0m\u001b[0;32m    676\u001b[0m \u001b[1;33m\u001b[0m\u001b[0m\n\u001b[0;32m    677\u001b[0m         \u001b[1;32mif\u001b[0m \u001b[1;32mnot\u001b[0m \u001b[0mresult\u001b[0m\u001b[1;33m:\u001b[0m\u001b[1;33m\u001b[0m\u001b[1;33m\u001b[0m\u001b[0m\n",
      "\u001b[1;32md:\\DataScience\\AnomalyDetection_JPMC\\venv\\lib\\site-packages\\sklearn\\compose\\_column_transformer.py\u001b[0m in \u001b[0;36m_fit_transform\u001b[1;34m(self, X, y, func, fitted, column_as_strings)\u001b[0m\n\u001b[0;32m    613\u001b[0m                     \u001b[0mmessage\u001b[0m\u001b[1;33m=\u001b[0m\u001b[0mself\u001b[0m\u001b[1;33m.\u001b[0m\u001b[0m_log_message\u001b[0m\u001b[1;33m(\u001b[0m\u001b[0mname\u001b[0m\u001b[1;33m,\u001b[0m \u001b[0midx\u001b[0m\u001b[1;33m,\u001b[0m \u001b[0mlen\u001b[0m\u001b[1;33m(\u001b[0m\u001b[0mtransformers\u001b[0m\u001b[1;33m)\u001b[0m\u001b[1;33m)\u001b[0m\u001b[1;33m,\u001b[0m\u001b[1;33m\u001b[0m\u001b[1;33m\u001b[0m\u001b[0m\n\u001b[0;32m    614\u001b[0m                 )\n\u001b[1;32m--> 615\u001b[1;33m                 \u001b[1;32mfor\u001b[0m \u001b[0midx\u001b[0m\u001b[1;33m,\u001b[0m \u001b[1;33m(\u001b[0m\u001b[0mname\u001b[0m\u001b[1;33m,\u001b[0m \u001b[0mtrans\u001b[0m\u001b[1;33m,\u001b[0m \u001b[0mcolumn\u001b[0m\u001b[1;33m,\u001b[0m \u001b[0mweight\u001b[0m\u001b[1;33m)\u001b[0m \u001b[1;32min\u001b[0m \u001b[0menumerate\u001b[0m\u001b[1;33m(\u001b[0m\u001b[0mtransformers\u001b[0m\u001b[1;33m,\u001b[0m \u001b[1;36m1\u001b[0m\u001b[1;33m)\u001b[0m\u001b[1;33m\u001b[0m\u001b[1;33m\u001b[0m\u001b[0m\n\u001b[0m\u001b[0;32m    616\u001b[0m             )\n\u001b[0;32m    617\u001b[0m         \u001b[1;32mexcept\u001b[0m \u001b[0mValueError\u001b[0m \u001b[1;32mas\u001b[0m \u001b[0me\u001b[0m\u001b[1;33m:\u001b[0m\u001b[1;33m\u001b[0m\u001b[1;33m\u001b[0m\u001b[0m\n",
      "\u001b[1;32md:\\DataScience\\AnomalyDetection_JPMC\\venv\\lib\\site-packages\\joblib\\parallel.py\u001b[0m in \u001b[0;36m__call__\u001b[1;34m(self, iterable)\u001b[0m\n\u001b[0;32m   1861\u001b[0m             \u001b[0moutput\u001b[0m \u001b[1;33m=\u001b[0m \u001b[0mself\u001b[0m\u001b[1;33m.\u001b[0m\u001b[0m_get_sequential_output\u001b[0m\u001b[1;33m(\u001b[0m\u001b[0miterable\u001b[0m\u001b[1;33m)\u001b[0m\u001b[1;33m\u001b[0m\u001b[1;33m\u001b[0m\u001b[0m\n\u001b[0;32m   1862\u001b[0m             \u001b[0mnext\u001b[0m\u001b[1;33m(\u001b[0m\u001b[0moutput\u001b[0m\u001b[1;33m)\u001b[0m\u001b[1;33m\u001b[0m\u001b[1;33m\u001b[0m\u001b[0m\n\u001b[1;32m-> 1863\u001b[1;33m             \u001b[1;32mreturn\u001b[0m \u001b[0moutput\u001b[0m \u001b[1;32mif\u001b[0m \u001b[0mself\u001b[0m\u001b[1;33m.\u001b[0m\u001b[0mreturn_generator\u001b[0m \u001b[1;32melse\u001b[0m \u001b[0mlist\u001b[0m\u001b[1;33m(\u001b[0m\u001b[0moutput\u001b[0m\u001b[1;33m)\u001b[0m\u001b[1;33m\u001b[0m\u001b[1;33m\u001b[0m\u001b[0m\n\u001b[0m\u001b[0;32m   1864\u001b[0m \u001b[1;33m\u001b[0m\u001b[0m\n\u001b[0;32m   1865\u001b[0m         \u001b[1;31m# Let's create an ID that uniquely identifies the current call. If the\u001b[0m\u001b[1;33m\u001b[0m\u001b[1;33m\u001b[0m\u001b[1;33m\u001b[0m\u001b[0m\n",
      "\u001b[1;32md:\\DataScience\\AnomalyDetection_JPMC\\venv\\lib\\site-packages\\joblib\\parallel.py\u001b[0m in \u001b[0;36m_get_sequential_output\u001b[1;34m(self, iterable)\u001b[0m\n\u001b[0;32m   1790\u001b[0m                 \u001b[0mself\u001b[0m\u001b[1;33m.\u001b[0m\u001b[0mn_dispatched_batches\u001b[0m \u001b[1;33m+=\u001b[0m \u001b[1;36m1\u001b[0m\u001b[1;33m\u001b[0m\u001b[1;33m\u001b[0m\u001b[0m\n\u001b[0;32m   1791\u001b[0m                 \u001b[0mself\u001b[0m\u001b[1;33m.\u001b[0m\u001b[0mn_dispatched_tasks\u001b[0m \u001b[1;33m+=\u001b[0m \u001b[1;36m1\u001b[0m\u001b[1;33m\u001b[0m\u001b[1;33m\u001b[0m\u001b[0m\n\u001b[1;32m-> 1792\u001b[1;33m                 \u001b[0mres\u001b[0m \u001b[1;33m=\u001b[0m \u001b[0mfunc\u001b[0m\u001b[1;33m(\u001b[0m\u001b[1;33m*\u001b[0m\u001b[0margs\u001b[0m\u001b[1;33m,\u001b[0m \u001b[1;33m**\u001b[0m\u001b[0mkwargs\u001b[0m\u001b[1;33m)\u001b[0m\u001b[1;33m\u001b[0m\u001b[1;33m\u001b[0m\u001b[0m\n\u001b[0m\u001b[0;32m   1793\u001b[0m                 \u001b[0mself\u001b[0m\u001b[1;33m.\u001b[0m\u001b[0mn_completed_tasks\u001b[0m \u001b[1;33m+=\u001b[0m \u001b[1;36m1\u001b[0m\u001b[1;33m\u001b[0m\u001b[1;33m\u001b[0m\u001b[0m\n\u001b[0;32m   1794\u001b[0m                 \u001b[0mself\u001b[0m\u001b[1;33m.\u001b[0m\u001b[0mprint_progress\u001b[0m\u001b[1;33m(\u001b[0m\u001b[1;33m)\u001b[0m\u001b[1;33m\u001b[0m\u001b[1;33m\u001b[0m\u001b[0m\n",
      "\u001b[1;32md:\\DataScience\\AnomalyDetection_JPMC\\venv\\lib\\site-packages\\sklearn\\utils\\fixes.py\u001b[0m in \u001b[0;36m__call__\u001b[1;34m(self, *args, **kwargs)\u001b[0m\n\u001b[0;32m    214\u001b[0m     \u001b[1;32mdef\u001b[0m \u001b[0m__call__\u001b[0m\u001b[1;33m(\u001b[0m\u001b[0mself\u001b[0m\u001b[1;33m,\u001b[0m \u001b[1;33m*\u001b[0m\u001b[0margs\u001b[0m\u001b[1;33m,\u001b[0m \u001b[1;33m**\u001b[0m\u001b[0mkwargs\u001b[0m\u001b[1;33m)\u001b[0m\u001b[1;33m:\u001b[0m\u001b[1;33m\u001b[0m\u001b[1;33m\u001b[0m\u001b[0m\n\u001b[0;32m    215\u001b[0m         \u001b[1;32mwith\u001b[0m \u001b[0mconfig_context\u001b[0m\u001b[1;33m(\u001b[0m\u001b[1;33m**\u001b[0m\u001b[0mself\u001b[0m\u001b[1;33m.\u001b[0m\u001b[0mconfig\u001b[0m\u001b[1;33m)\u001b[0m\u001b[1;33m:\u001b[0m\u001b[1;33m\u001b[0m\u001b[1;33m\u001b[0m\u001b[0m\n\u001b[1;32m--> 216\u001b[1;33m             \u001b[1;32mreturn\u001b[0m \u001b[0mself\u001b[0m\u001b[1;33m.\u001b[0m\u001b[0mfunction\u001b[0m\u001b[1;33m(\u001b[0m\u001b[1;33m*\u001b[0m\u001b[0margs\u001b[0m\u001b[1;33m,\u001b[0m \u001b[1;33m**\u001b[0m\u001b[0mkwargs\u001b[0m\u001b[1;33m)\u001b[0m\u001b[1;33m\u001b[0m\u001b[1;33m\u001b[0m\u001b[0m\n\u001b[0m\u001b[0;32m    217\u001b[0m \u001b[1;33m\u001b[0m\u001b[0m\n\u001b[0;32m    218\u001b[0m \u001b[1;33m\u001b[0m\u001b[0m\n",
      "\u001b[1;32md:\\DataScience\\AnomalyDetection_JPMC\\venv\\lib\\site-packages\\sklearn\\pipeline.py\u001b[0m in \u001b[0;36m_fit_transform_one\u001b[1;34m(transformer, X, y, weight, message_clsname, message, **fit_params)\u001b[0m\n\u001b[0;32m    891\u001b[0m     \u001b[1;32mwith\u001b[0m \u001b[0m_print_elapsed_time\u001b[0m\u001b[1;33m(\u001b[0m\u001b[0mmessage_clsname\u001b[0m\u001b[1;33m,\u001b[0m \u001b[0mmessage\u001b[0m\u001b[1;33m)\u001b[0m\u001b[1;33m:\u001b[0m\u001b[1;33m\u001b[0m\u001b[1;33m\u001b[0m\u001b[0m\n\u001b[0;32m    892\u001b[0m         \u001b[1;32mif\u001b[0m \u001b[0mhasattr\u001b[0m\u001b[1;33m(\u001b[0m\u001b[0mtransformer\u001b[0m\u001b[1;33m,\u001b[0m \u001b[1;34m\"fit_transform\"\u001b[0m\u001b[1;33m)\u001b[0m\u001b[1;33m:\u001b[0m\u001b[1;33m\u001b[0m\u001b[1;33m\u001b[0m\u001b[0m\n\u001b[1;32m--> 893\u001b[1;33m             \u001b[0mres\u001b[0m \u001b[1;33m=\u001b[0m \u001b[0mtransformer\u001b[0m\u001b[1;33m.\u001b[0m\u001b[0mfit_transform\u001b[0m\u001b[1;33m(\u001b[0m\u001b[0mX\u001b[0m\u001b[1;33m,\u001b[0m \u001b[0my\u001b[0m\u001b[1;33m,\u001b[0m \u001b[1;33m**\u001b[0m\u001b[0mfit_params\u001b[0m\u001b[1;33m)\u001b[0m\u001b[1;33m\u001b[0m\u001b[1;33m\u001b[0m\u001b[0m\n\u001b[0m\u001b[0;32m    894\u001b[0m         \u001b[1;32melse\u001b[0m\u001b[1;33m:\u001b[0m\u001b[1;33m\u001b[0m\u001b[1;33m\u001b[0m\u001b[0m\n\u001b[0;32m    895\u001b[0m             \u001b[0mres\u001b[0m \u001b[1;33m=\u001b[0m \u001b[0mtransformer\u001b[0m\u001b[1;33m.\u001b[0m\u001b[0mfit\u001b[0m\u001b[1;33m(\u001b[0m\u001b[0mX\u001b[0m\u001b[1;33m,\u001b[0m \u001b[0my\u001b[0m\u001b[1;33m,\u001b[0m \u001b[1;33m**\u001b[0m\u001b[0mfit_params\u001b[0m\u001b[1;33m)\u001b[0m\u001b[1;33m.\u001b[0m\u001b[0mtransform\u001b[0m\u001b[1;33m(\u001b[0m\u001b[0mX\u001b[0m\u001b[1;33m)\u001b[0m\u001b[1;33m\u001b[0m\u001b[1;33m\u001b[0m\u001b[0m\n",
      "\u001b[1;32md:\\DataScience\\AnomalyDetection_JPMC\\venv\\lib\\site-packages\\sklearn\\base.py\u001b[0m in \u001b[0;36mfit_transform\u001b[1;34m(self, X, y, **fit_params)\u001b[0m\n\u001b[0;32m    850\u001b[0m         \u001b[1;32mif\u001b[0m \u001b[0my\u001b[0m \u001b[1;32mis\u001b[0m \u001b[1;32mNone\u001b[0m\u001b[1;33m:\u001b[0m\u001b[1;33m\u001b[0m\u001b[1;33m\u001b[0m\u001b[0m\n\u001b[0;32m    851\u001b[0m             \u001b[1;31m# fit method of arity 1 (unsupervised transformation)\u001b[0m\u001b[1;33m\u001b[0m\u001b[1;33m\u001b[0m\u001b[1;33m\u001b[0m\u001b[0m\n\u001b[1;32m--> 852\u001b[1;33m             \u001b[1;32mreturn\u001b[0m \u001b[0mself\u001b[0m\u001b[1;33m.\u001b[0m\u001b[0mfit\u001b[0m\u001b[1;33m(\u001b[0m\u001b[0mX\u001b[0m\u001b[1;33m,\u001b[0m \u001b[1;33m**\u001b[0m\u001b[0mfit_params\u001b[0m\u001b[1;33m)\u001b[0m\u001b[1;33m.\u001b[0m\u001b[0mtransform\u001b[0m\u001b[1;33m(\u001b[0m\u001b[0mX\u001b[0m\u001b[1;33m)\u001b[0m\u001b[1;33m\u001b[0m\u001b[1;33m\u001b[0m\u001b[0m\n\u001b[0m\u001b[0;32m    853\u001b[0m         \u001b[1;32melse\u001b[0m\u001b[1;33m:\u001b[0m\u001b[1;33m\u001b[0m\u001b[1;33m\u001b[0m\u001b[0m\n\u001b[0;32m    854\u001b[0m             \u001b[1;31m# fit method of arity 2 (supervised transformation)\u001b[0m\u001b[1;33m\u001b[0m\u001b[1;33m\u001b[0m\u001b[1;33m\u001b[0m\u001b[0m\n",
      "\u001b[1;32m~\\AppData\\Local\\Temp\\ipykernel_10864\\1586165710.py\u001b[0m in \u001b[0;36mtransform\u001b[1;34m(self, X)\u001b[0m\n\u001b[0;32m     10\u001b[0m         \u001b[1;32mfor\u001b[0m \u001b[0mcol_idx\u001b[0m \u001b[1;32min\u001b[0m \u001b[0mself\u001b[0m\u001b[1;33m.\u001b[0m\u001b[0mcountry_columns\u001b[0m\u001b[1;33m:\u001b[0m\u001b[1;33m\u001b[0m\u001b[1;33m\u001b[0m\u001b[0m\n\u001b[0;32m     11\u001b[0m             \u001b[1;32mfor\u001b[0m \u001b[0mrow_idx\u001b[0m \u001b[1;32min\u001b[0m \u001b[0mrange\u001b[0m\u001b[1;33m(\u001b[0m\u001b[0mX\u001b[0m\u001b[1;33m.\u001b[0m\u001b[0mshape\u001b[0m\u001b[1;33m[\u001b[0m\u001b[1;36m0\u001b[0m\u001b[1;33m]\u001b[0m\u001b[1;33m)\u001b[0m\u001b[1;33m:\u001b[0m\u001b[1;33m\u001b[0m\u001b[1;33m\u001b[0m\u001b[0m\n\u001b[1;32m---> 12\u001b[1;33m                 \u001b[0mvalue\u001b[0m \u001b[1;33m=\u001b[0m \u001b[0mX\u001b[0m\u001b[1;33m[\u001b[0m\u001b[0mrow_idx\u001b[0m\u001b[1;33m,\u001b[0m \u001b[0mcol_idx\u001b[0m\u001b[1;33m]\u001b[0m\u001b[1;33m\u001b[0m\u001b[1;33m\u001b[0m\u001b[0m\n\u001b[0m\u001b[0;32m     13\u001b[0m                 \u001b[1;32mif\u001b[0m \u001b[0mvalue\u001b[0m \u001b[1;32mnot\u001b[0m \u001b[1;32min\u001b[0m \u001b[0mself\u001b[0m\u001b[1;33m.\u001b[0m\u001b[0mtop_countries\u001b[0m\u001b[1;33m:\u001b[0m\u001b[1;33m\u001b[0m\u001b[1;33m\u001b[0m\u001b[0m\n\u001b[0;32m     14\u001b[0m                     \u001b[0mX\u001b[0m\u001b[1;33m[\u001b[0m\u001b[0mrow_idx\u001b[0m\u001b[1;33m,\u001b[0m \u001b[0mcol_idx\u001b[0m\u001b[1;33m]\u001b[0m \u001b[1;33m=\u001b[0m \u001b[1;34m'Other'\u001b[0m\u001b[1;33m\u001b[0m\u001b[1;33m\u001b[0m\u001b[0m\n",
      "\u001b[1;31mIndexError\u001b[0m: index 6 is out of bounds for axis 1 with size 2"
     ]
    }
   ],
   "source": [
    "yy = preprocess_pipeline.fit_transform(y.drop('Label', axis=1))\n",
    "yy[0]"
   ]
  },
  {
   "cell_type": "code",
   "execution_count": 72,
   "metadata": {},
   "outputs": [],
   "source": [
    "y = train.copy()\n",
    "\n",
    "preprocess = ColumnTransformer(\n",
    "    transformers = [\n",
    "        ('simple_imputer', SimpleImputer(strategy='constant', fill_value='N/A'), country_columns),\n",
    "        ('country_mapping', CountryTransformer(top_countries=['USA','GERMANY','CANADA'], country_columns=country_columns), country_columns),\n",
    "        # ('one_hot_encoder', OneHotEncoder(sparse=False, handle_unknown='ignore'), categorical_columns),\n",
    "        ('timestamp_transformer', TimestampTransformer(timestamp_column=timestamp_column), [timestamp_column]),\n",
    "        # ('standard_scaler', StandardScaler(), numerical_columns)\n",
    "        \n",
    "    ],\n",
    "    remainder = 'drop'\n",
    ")\n",
    "\n",
    "zz = preprocess.fit_transform(y.drop('Label', axis=1))"
   ]
  },
  {
   "cell_type": "code",
   "execution_count": 82,
   "metadata": {},
   "outputs": [
    {
     "ename": "ValueError",
     "evalue": "too many values to unpack (expected 2)",
     "output_type": "error",
     "traceback": [
      "\u001b[1;31m---------------------------------------------------------------------------\u001b[0m",
      "\u001b[1;31mValueError\u001b[0m                                Traceback (most recent call last)",
      "\u001b[1;32m~\\AppData\\Local\\Temp\\ipykernel_10864\\764735156.py\u001b[0m in \u001b[0;36m<module>\u001b[1;34m\u001b[0m\n\u001b[0;32m      2\u001b[0m     steps = [\n\u001b[0;32m      3\u001b[0m         \u001b[1;33m(\u001b[0m\u001b[1;34m'simple_imputer'\u001b[0m\u001b[1;33m,\u001b[0m \u001b[0mSimpleImputer\u001b[0m\u001b[1;33m(\u001b[0m\u001b[0mstrategy\u001b[0m\u001b[1;33m=\u001b[0m\u001b[1;34m'constant'\u001b[0m\u001b[1;33m,\u001b[0m \u001b[0mfill_value\u001b[0m\u001b[1;33m=\u001b[0m\u001b[1;34m'N/A'\u001b[0m\u001b[1;33m)\u001b[0m\u001b[1;33m,\u001b[0m \u001b[0mcountry_columns\u001b[0m\u001b[1;33m)\u001b[0m\u001b[1;33m,\u001b[0m\u001b[1;33m\u001b[0m\u001b[1;33m\u001b[0m\u001b[0m\n\u001b[1;32m----> 4\u001b[1;33m         \u001b[1;33m(\u001b[0m\u001b[1;34m'country_mapping'\u001b[0m\u001b[1;33m,\u001b[0m \u001b[0mCountryTransformer\u001b[0m\u001b[1;33m(\u001b[0m\u001b[0mtop_countries\u001b[0m\u001b[1;33m=\u001b[0m\u001b[1;33m[\u001b[0m\u001b[1;34m'USA'\u001b[0m\u001b[1;33m,\u001b[0m\u001b[1;34m'GERMANY'\u001b[0m\u001b[1;33m,\u001b[0m\u001b[1;34m'CANADA'\u001b[0m\u001b[1;33m]\u001b[0m\u001b[1;33m,\u001b[0m \u001b[0mcountry_columns\u001b[0m\u001b[1;33m=\u001b[0m\u001b[0mcountry_columns\u001b[0m\u001b[1;33m)\u001b[0m\u001b[1;33m,\u001b[0m \u001b[0mcountry_columns\u001b[0m\u001b[1;33m)\u001b[0m\u001b[1;33m\u001b[0m\u001b[1;33m\u001b[0m\u001b[0m\n\u001b[0m\u001b[0;32m      5\u001b[0m     ]\n\u001b[0;32m      6\u001b[0m )\n",
      "\u001b[1;32md:\\DataScience\\AnomalyDetection_JPMC\\venv\\lib\\site-packages\\sklearn\\pipeline.py\u001b[0m in \u001b[0;36m__init__\u001b[1;34m(self, steps, memory, verbose)\u001b[0m\n\u001b[0;32m    146\u001b[0m         \u001b[0mself\u001b[0m\u001b[1;33m.\u001b[0m\u001b[0mmemory\u001b[0m \u001b[1;33m=\u001b[0m \u001b[0mmemory\u001b[0m\u001b[1;33m\u001b[0m\u001b[1;33m\u001b[0m\u001b[0m\n\u001b[0;32m    147\u001b[0m         \u001b[0mself\u001b[0m\u001b[1;33m.\u001b[0m\u001b[0mverbose\u001b[0m \u001b[1;33m=\u001b[0m \u001b[0mverbose\u001b[0m\u001b[1;33m\u001b[0m\u001b[1;33m\u001b[0m\u001b[0m\n\u001b[1;32m--> 148\u001b[1;33m         \u001b[0mself\u001b[0m\u001b[1;33m.\u001b[0m\u001b[0m_validate_steps\u001b[0m\u001b[1;33m(\u001b[0m\u001b[1;33m)\u001b[0m\u001b[1;33m\u001b[0m\u001b[1;33m\u001b[0m\u001b[0m\n\u001b[0m\u001b[0;32m    149\u001b[0m \u001b[1;33m\u001b[0m\u001b[0m\n\u001b[0;32m    150\u001b[0m     \u001b[1;32mdef\u001b[0m \u001b[0mget_params\u001b[0m\u001b[1;33m(\u001b[0m\u001b[0mself\u001b[0m\u001b[1;33m,\u001b[0m \u001b[0mdeep\u001b[0m\u001b[1;33m=\u001b[0m\u001b[1;32mTrue\u001b[0m\u001b[1;33m)\u001b[0m\u001b[1;33m:\u001b[0m\u001b[1;33m\u001b[0m\u001b[1;33m\u001b[0m\u001b[0m\n",
      "\u001b[1;32md:\\DataScience\\AnomalyDetection_JPMC\\venv\\lib\\site-packages\\sklearn\\pipeline.py\u001b[0m in \u001b[0;36m_validate_steps\u001b[1;34m(self)\u001b[0m\n\u001b[0;32m    190\u001b[0m \u001b[1;33m\u001b[0m\u001b[0m\n\u001b[0;32m    191\u001b[0m     \u001b[1;32mdef\u001b[0m \u001b[0m_validate_steps\u001b[0m\u001b[1;33m(\u001b[0m\u001b[0mself\u001b[0m\u001b[1;33m)\u001b[0m\u001b[1;33m:\u001b[0m\u001b[1;33m\u001b[0m\u001b[1;33m\u001b[0m\u001b[0m\n\u001b[1;32m--> 192\u001b[1;33m         \u001b[0mnames\u001b[0m\u001b[1;33m,\u001b[0m \u001b[0mestimators\u001b[0m \u001b[1;33m=\u001b[0m \u001b[0mzip\u001b[0m\u001b[1;33m(\u001b[0m\u001b[1;33m*\u001b[0m\u001b[0mself\u001b[0m\u001b[1;33m.\u001b[0m\u001b[0msteps\u001b[0m\u001b[1;33m)\u001b[0m\u001b[1;33m\u001b[0m\u001b[1;33m\u001b[0m\u001b[0m\n\u001b[0m\u001b[0;32m    193\u001b[0m \u001b[1;33m\u001b[0m\u001b[0m\n\u001b[0;32m    194\u001b[0m         \u001b[1;31m# validate names\u001b[0m\u001b[1;33m\u001b[0m\u001b[1;33m\u001b[0m\u001b[1;33m\u001b[0m\u001b[0m\n",
      "\u001b[1;31mValueError\u001b[0m: too many values to unpack (expected 2)"
     ]
    }
   ],
   "source": [
    "categorical_preprocess = Pipeline(\n",
    "    steps = [\n",
    "        ('simple_imputer', SimpleImputer(strategy='constant', fill_value='N/A'), country_columns),\n",
    "        ('country_mapping', CountryTransformer(top_countries=['USA','GERMANY','CANADA'], country_columns=country_columns), country_columns)\n",
    "    ]\n",
    ")\n",
    "categorical_preprocess"
   ]
  },
  {
   "cell_type": "code",
   "execution_count": 74,
   "metadata": {},
   "outputs": [
    {
     "data": {
      "text/plain": [
       "ColumnTransformer(transformers=[('simple_imputer',\n",
       "                                 SimpleImputer(fill_value='N/A',\n",
       "                                               strategy='constant'),\n",
       "                                 ['Sender_Country', 'Bene_Country']),\n",
       "                                ('country_mapping',\n",
       "                                 CountryTransformer(country_columns=['Sender_Country',\n",
       "                                                                     'Bene_Country'],\n",
       "                                                    top_countries=['USA',\n",
       "                                                                   'GERMANY',\n",
       "                                                                   'CANADA']),\n",
       "                                 ['Sender_Country', 'Bene_Country']),\n",
       "                                ('timestamp_transformer',\n",
       "                                 TimestampTransformer(timestamp_column='Time_step'),\n",
       "                                 ['Time_step'])])"
      ]
     },
     "execution_count": 74,
     "metadata": {},
     "output_type": "execute_result"
    }
   ],
   "source": [
    "preprocess"
   ]
  },
  {
   "cell_type": "code",
   "execution_count": 73,
   "metadata": {},
   "outputs": [
    {
     "data": {
      "text/plain": [
       "array(['USA', 'GUERNSEY', 'USA', 'Other', 2040, 11, 11, 15, 15],\n",
       "      dtype=object)"
      ]
     },
     "execution_count": 73,
     "metadata": {},
     "output_type": "execute_result"
    }
   ],
   "source": [
    "zz[0]"
   ]
  },
  {
   "cell_type": "code",
   "execution_count": null,
   "metadata": {},
   "outputs": [],
   "source": []
  },
  {
   "cell_type": "code",
   "execution_count": 16,
   "metadata": {},
   "outputs": [],
   "source": [
    "\n",
    "ct = ColumnTransformer([\n",
    "    # ('simple_imputer', SimpleImputer(strategy='constant', fill_value='N/A'), col),\n",
    "    ('one_hot_encoder', OneHotEncoder(sparse=False, handle_unknown='ignore'), ['Sender_Country'])\n",
    "    ],\n",
    "    remainder='passthrough'\n",
    ")\n",
    "ct.fit_transform(y)\n",
    "# pd.DataFrame(ct.fit_transform(y), columns=ct.get_feature_names_out())"
   ]
  },
  {
   "cell_type": "code",
   "execution_count": null,
   "metadata": {},
   "outputs": [],
   "source": []
  },
  {
   "cell_type": "code",
   "execution_count": 15,
   "metadata": {},
   "outputs": [],
   "source": [
    "train = train.fillna('N/A')\n",
    "train['Sender_Sector'] = train['Sender_Sector'].apply(lambda x: str(int(x)) if x!='N/A' else x)\n",
    "\n",
    "test = test.fillna('N/A')\n",
    "test['Sender_Sector'] = test['Sender_Sector'].apply(lambda x: str(int(x)) if x!='N/A' else x)"
   ]
  },
  {
   "cell_type": "code",
   "execution_count": 16,
   "metadata": {},
   "outputs": [],
   "source": [
    "features_to_drop = ['Transaction_Id', 'Sender_lob']\n",
    "\n",
    "train = train.drop(features_to_drop, axis=1)\n",
    "test = test.drop(features_to_drop, axis=1)"
   ]
  },
  {
   "cell_type": "markdown",
   "metadata": {},
   "source": [
    "We will derive the extra features from timestamp that will help us."
   ]
  },
  {
   "cell_type": "code",
   "execution_count": 17,
   "metadata": {},
   "outputs": [],
   "source": []
  },
  {
   "cell_type": "code",
   "execution_count": 27,
   "metadata": {},
   "outputs": [],
   "source": [
    "y = train.copy()\n",
    "# y = TimestampTransformer('Time_step').fit_transform(y)"
   ]
  },
  {
   "cell_type": "code",
   "execution_count": 19,
   "metadata": {},
   "outputs": [
    {
     "data": {
      "text/plain": [
       "Index(['Time_step', 'Sender_Id', 'Sender_Account', 'Sender_Country',\n",
       "       'Sender_Sector', 'Bene_Id', 'Bene_Account', 'Bene_Country',\n",
       "       'USD_amount', 'Label', 'Transaction_Type'],\n",
       "      dtype='object')"
      ]
     },
     "execution_count": 19,
     "metadata": {},
     "output_type": "execute_result"
    }
   ],
   "source": [
    "train.columns"
   ]
  },
  {
   "cell_type": "code",
   "execution_count": 40,
   "metadata": {},
   "outputs": [],
   "source": [
    "preprocess = ColumnTransformer(\n",
    "    transformers = [\n",
    "        ('timestamp_transformer', TimestampTransformer(timestamp_column=timestamp_column), [timestamp_column]),\n",
    "        # ('one_hot_encoder', OneHotEncoder(), categorical_columns),\n",
    "        # ('standard_scaler', StandardScaler(), numerical_columns),\n",
    "    ],\n",
    "    remainder = 'passthrough'\n",
    ")\n",
    "\n",
    "zz = preprocess.fit_transform(y.drop('Label', axis=1))"
   ]
  },
  {
   "cell_type": "code",
   "execution_count": 41,
   "metadata": {},
   "outputs": [
    {
     "data": {
      "text/plain": [
       "array([[2040, 11, 11, ..., 'GUERNSEY', 84.89, 'MAKE-PAYMENT'],\n",
       "       [2041, 1, 11, ..., 'MOZAMBIQUE', 778.61, 'MAKE-PAYMENT'],\n",
       "       [2023, 3, 22, ..., 'AMERICAN-SAMOA', 16.82, 'MAKE-PAYMENT'],\n",
       "       ...,\n",
       "       [2051, 12, 4, ..., 'N/A', 715.58, 'WITHDRAWAL'],\n",
       "       [2046, 6, 7, ..., 'MONGOLIA', 34.46, 'MAKE-PAYMENT'],\n",
       "       [2049, 4, 13, ..., 'CANADA', 953.05, 'MOVE-FUNDS']], dtype=object)"
      ]
     },
     "execution_count": 41,
     "metadata": {},
     "output_type": "execute_result"
    }
   ],
   "source": [
    "zz"
   ]
  },
  {
   "cell_type": "code",
   "execution_count": 36,
   "metadata": {},
   "outputs": [
    {
     "data": {
      "text/html": [
       "<div>\n",
       "<style scoped>\n",
       "    .dataframe tbody tr th:only-of-type {\n",
       "        vertical-align: middle;\n",
       "    }\n",
       "\n",
       "    .dataframe tbody tr th {\n",
       "        vertical-align: top;\n",
       "    }\n",
       "\n",
       "    .dataframe thead th {\n",
       "        text-align: right;\n",
       "    }\n",
       "</style>\n",
       "<table border=\"1\" class=\"dataframe\">\n",
       "  <thead>\n",
       "    <tr style=\"text-align: right;\">\n",
       "      <th></th>\n",
       "      <th>Time_step</th>\n",
       "      <th>Sender_Id</th>\n",
       "      <th>Sender_Account</th>\n",
       "      <th>Sender_Country</th>\n",
       "      <th>Sender_Sector</th>\n",
       "      <th>Bene_Id</th>\n",
       "      <th>Bene_Account</th>\n",
       "      <th>Bene_Country</th>\n",
       "      <th>USD_amount</th>\n",
       "      <th>Label</th>\n",
       "      <th>Transaction_Type</th>\n",
       "    </tr>\n",
       "  </thead>\n",
       "  <tbody>\n",
       "    <tr>\n",
       "      <th>0</th>\n",
       "      <td>2051-12-30 14:37:07</td>\n",
       "      <td>COMPANY-2003012</td>\n",
       "      <td>ACCOUNT-2003019</td>\n",
       "      <td>GERMANY</td>\n",
       "      <td>59</td>\n",
       "      <td>JPMC-CLIENT-2003007</td>\n",
       "      <td>ACCOUNT-2003030</td>\n",
       "      <td>LIBERIA</td>\n",
       "      <td>2000.27</td>\n",
       "      <td>0</td>\n",
       "      <td>MOVE-FUNDS</td>\n",
       "    </tr>\n",
       "    <tr>\n",
       "      <th>1</th>\n",
       "      <td>2030-04-23 11:24:51</td>\n",
       "      <td>JPMC-CLIENT-550438</td>\n",
       "      <td>ACCOUNT-550452</td>\n",
       "      <td>USA</td>\n",
       "      <td>21626</td>\n",
       "      <td>BILL-COMPANY-550487</td>\n",
       "      <td>ACCOUNT-550488</td>\n",
       "      <td>BHUTAN</td>\n",
       "      <td>84.93</td>\n",
       "      <td>0</td>\n",
       "      <td>MAKE-PAYMENT</td>\n",
       "    </tr>\n",
       "    <tr>\n",
       "      <th>2</th>\n",
       "      <td>2039-01-04 05:15:45</td>\n",
       "      <td>JPMC-CLIENT-1126759</td>\n",
       "      <td>ACCOUNT-1126774</td>\n",
       "      <td>USA</td>\n",
       "      <td>27531</td>\n",
       "      <td>BILL-COMPANY-1127039</td>\n",
       "      <td>ACCOUNT-1127040</td>\n",
       "      <td>USA</td>\n",
       "      <td>13.81</td>\n",
       "      <td>0</td>\n",
       "      <td>MAKE-PAYMENT</td>\n",
       "    </tr>\n",
       "    <tr>\n",
       "      <th>3</th>\n",
       "      <td>2048-10-26 14:56:47</td>\n",
       "      <td>JPMC-CLIENT-1780040</td>\n",
       "      <td>ACCOUNT-1780070</td>\n",
       "      <td>IRAQ</td>\n",
       "      <td>7541</td>\n",
       "      <td>N/A</td>\n",
       "      <td>N/A</td>\n",
       "      <td>N/A</td>\n",
       "      <td>797.53</td>\n",
       "      <td>0</td>\n",
       "      <td>EXCHANGE</td>\n",
       "    </tr>\n",
       "    <tr>\n",
       "      <th>4</th>\n",
       "      <td>2034-09-09 12:25:18</td>\n",
       "      <td>JPMC-CLIENT-837717</td>\n",
       "      <td>ACCOUNT-837727</td>\n",
       "      <td>USA</td>\n",
       "      <td>12315</td>\n",
       "      <td>N/A</td>\n",
       "      <td>N/A</td>\n",
       "      <td>N/A</td>\n",
       "      <td>225.52</td>\n",
       "      <td>0</td>\n",
       "      <td>WITHDRAWAL</td>\n",
       "    </tr>\n",
       "    <tr>\n",
       "      <th>...</th>\n",
       "      <td>...</td>\n",
       "      <td>...</td>\n",
       "      <td>...</td>\n",
       "      <td>...</td>\n",
       "      <td>...</td>\n",
       "      <td>...</td>\n",
       "      <td>...</td>\n",
       "      <td>...</td>\n",
       "      <td>...</td>\n",
       "      <td>...</td>\n",
       "      <td>...</td>\n",
       "    </tr>\n",
       "    <tr>\n",
       "      <th>1348354</th>\n",
       "      <td>2022-03-15 10:24:00</td>\n",
       "      <td>COMPANY-2778</td>\n",
       "      <td>ACCOUNT-2788</td>\n",
       "      <td>ROMANIA</td>\n",
       "      <td>32716</td>\n",
       "      <td>JPMC-CLIENT-2774</td>\n",
       "      <td>ACCOUNT-2785</td>\n",
       "      <td>USA</td>\n",
       "      <td>100.96</td>\n",
       "      <td>0</td>\n",
       "      <td>MAKE-PAYMENT</td>\n",
       "    </tr>\n",
       "    <tr>\n",
       "      <th>1348355</th>\n",
       "      <td>2042-02-02 13:26:05</td>\n",
       "      <td>N/A</td>\n",
       "      <td>N/A</td>\n",
       "      <td>N/A</td>\n",
       "      <td>N/A</td>\n",
       "      <td>JPMC-CLIENT-1333528</td>\n",
       "      <td>ACCOUNT-1333543</td>\n",
       "      <td>USA</td>\n",
       "      <td>408.09</td>\n",
       "      <td>0</td>\n",
       "      <td>DEPOSIT-CASH</td>\n",
       "    </tr>\n",
       "    <tr>\n",
       "      <th>1348356</th>\n",
       "      <td>2025-05-21 11:34:19</td>\n",
       "      <td>JPMC-CLIENT-208193</td>\n",
       "      <td>ACCOUNT-208431</td>\n",
       "      <td>USA</td>\n",
       "      <td>38856</td>\n",
       "      <td>JPMC-COMPANY-208200</td>\n",
       "      <td>ACCOUNT-208212</td>\n",
       "      <td>CABO-VERDE</td>\n",
       "      <td>100.22</td>\n",
       "      <td>0</td>\n",
       "      <td>MAKE-PAYMENT</td>\n",
       "    </tr>\n",
       "    <tr>\n",
       "      <th>1348357</th>\n",
       "      <td>2045-08-31 20:16:28</td>\n",
       "      <td>JPMC-CLIENT-1575503</td>\n",
       "      <td>ACCOUNT-1575514</td>\n",
       "      <td>USA</td>\n",
       "      <td>22795</td>\n",
       "      <td>BILL-COMPANY-1575574</td>\n",
       "      <td>ACCOUNT-1575575</td>\n",
       "      <td>AFGHANISTAN</td>\n",
       "      <td>81.74</td>\n",
       "      <td>0</td>\n",
       "      <td>MAKE-PAYMENT</td>\n",
       "    </tr>\n",
       "    <tr>\n",
       "      <th>1348358</th>\n",
       "      <td>2036-10-05 09:35:31</td>\n",
       "      <td>JPMC-CLIENT-974131</td>\n",
       "      <td>ACCOUNT-974142</td>\n",
       "      <td>USA</td>\n",
       "      <td>10008</td>\n",
       "      <td>BILL-COMPANY-974322</td>\n",
       "      <td>ACCOUNT-974323</td>\n",
       "      <td>NETHERLANDS</td>\n",
       "      <td>13.43</td>\n",
       "      <td>0</td>\n",
       "      <td>MAKE-PAYMENT</td>\n",
       "    </tr>\n",
       "  </tbody>\n",
       "</table>\n",
       "<p>1348359 rows × 11 columns</p>\n",
       "</div>"
      ],
      "text/plain": [
       "                   Time_step            Sender_Id   Sender_Account  \\\n",
       "0        2051-12-30 14:37:07      COMPANY-2003012  ACCOUNT-2003019   \n",
       "1        2030-04-23 11:24:51   JPMC-CLIENT-550438   ACCOUNT-550452   \n",
       "2        2039-01-04 05:15:45  JPMC-CLIENT-1126759  ACCOUNT-1126774   \n",
       "3        2048-10-26 14:56:47  JPMC-CLIENT-1780040  ACCOUNT-1780070   \n",
       "4        2034-09-09 12:25:18   JPMC-CLIENT-837717   ACCOUNT-837727   \n",
       "...                      ...                  ...              ...   \n",
       "1348354  2022-03-15 10:24:00         COMPANY-2778     ACCOUNT-2788   \n",
       "1348355  2042-02-02 13:26:05                  N/A              N/A   \n",
       "1348356  2025-05-21 11:34:19   JPMC-CLIENT-208193   ACCOUNT-208431   \n",
       "1348357  2045-08-31 20:16:28  JPMC-CLIENT-1575503  ACCOUNT-1575514   \n",
       "1348358  2036-10-05 09:35:31   JPMC-CLIENT-974131   ACCOUNT-974142   \n",
       "\n",
       "        Sender_Country Sender_Sector               Bene_Id     Bene_Account  \\\n",
       "0              GERMANY            59   JPMC-CLIENT-2003007  ACCOUNT-2003030   \n",
       "1                  USA         21626   BILL-COMPANY-550487   ACCOUNT-550488   \n",
       "2                  USA         27531  BILL-COMPANY-1127039  ACCOUNT-1127040   \n",
       "3                 IRAQ          7541                   N/A              N/A   \n",
       "4                  USA         12315                   N/A              N/A   \n",
       "...                ...           ...                   ...              ...   \n",
       "1348354        ROMANIA         32716      JPMC-CLIENT-2774     ACCOUNT-2785   \n",
       "1348355            N/A           N/A   JPMC-CLIENT-1333528  ACCOUNT-1333543   \n",
       "1348356            USA         38856   JPMC-COMPANY-208200   ACCOUNT-208212   \n",
       "1348357            USA         22795  BILL-COMPANY-1575574  ACCOUNT-1575575   \n",
       "1348358            USA         10008   BILL-COMPANY-974322   ACCOUNT-974323   \n",
       "\n",
       "        Bene_Country  USD_amount  Label Transaction_Type  \n",
       "0            LIBERIA     2000.27      0       MOVE-FUNDS  \n",
       "1             BHUTAN       84.93      0     MAKE-PAYMENT  \n",
       "2                USA       13.81      0     MAKE-PAYMENT  \n",
       "3                N/A      797.53      0         EXCHANGE  \n",
       "4                N/A      225.52      0       WITHDRAWAL  \n",
       "...              ...         ...    ...              ...  \n",
       "1348354          USA      100.96      0     MAKE-PAYMENT  \n",
       "1348355          USA      408.09      0     DEPOSIT-CASH  \n",
       "1348356   CABO-VERDE      100.22      0     MAKE-PAYMENT  \n",
       "1348357  AFGHANISTAN       81.74      0     MAKE-PAYMENT  \n",
       "1348358  NETHERLANDS       13.43      0     MAKE-PAYMENT  \n",
       "\n",
       "[1348359 rows x 11 columns]"
      ]
     },
     "execution_count": 36,
     "metadata": {},
     "output_type": "execute_result"
    }
   ],
   "source": [
    "y"
   ]
  },
  {
   "cell_type": "code",
   "execution_count": null,
   "metadata": {},
   "outputs": [],
   "source": []
  }
 ],
 "metadata": {
  "kernelspec": {
   "display_name": "venv",
   "language": "python",
   "name": "python3"
  },
  "language_info": {
   "codemirror_mode": {
    "name": "ipython",
    "version": 3
   },
   "file_extension": ".py",
   "mimetype": "text/x-python",
   "name": "python",
   "nbconvert_exporter": "python",
   "pygments_lexer": "ipython3",
   "version": "3.7.4"
  }
 },
 "nbformat": 4,
 "nbformat_minor": 2
}
