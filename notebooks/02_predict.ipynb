{
 "cells": [
  {
   "cell_type": "code",
   "execution_count": 1,
   "metadata": {},
   "outputs": [
    {
     "name": "stdout",
     "output_type": "stream",
     "text": [
      "d:\\DataScience\\AnomalyDetection_JPMC\n"
     ]
    }
   ],
   "source": [
    "cd d:\\\\DataScience\\\\AnomalyDetection_JPMC"
   ]
  },
  {
   "cell_type": "code",
   "execution_count": 29,
   "metadata": {},
   "outputs": [],
   "source": [
    "import pandas as pd\n",
    "import pickle\n",
    "import numpy as np\n",
    "from pathlib import Path\n",
    "\n",
    "from sklearn import set_config\n",
    "set_config(display='diagram')\n",
    "\n",
    "from sklearn.base import BaseEstimator, TransformerMixin"
   ]
  },
  {
   "cell_type": "code",
   "execution_count": 4,
   "metadata": {},
   "outputs": [
    {
     "data": {
      "text/plain": [
       "(149818, 13)"
      ]
     },
     "execution_count": 4,
     "metadata": {},
     "output_type": "execute_result"
    }
   ],
   "source": [
    "filepath = Path(\"data/original/inference_data.csv\")\n",
    "\n",
    "df = pd.read_csv(filepath)\n",
    "df.shape"
   ]
  },
  {
   "cell_type": "code",
   "execution_count": 17,
   "metadata": {},
   "outputs": [],
   "source": [
    "df = df[df.Transaction_Type.isin(['PAY-CHECK', 'MOVE-FUNDS', 'QUICK-PAYMENT', 'MAKE-PAYMENT'])]"
   ]
  },
  {
   "cell_type": "code",
   "execution_count": 9,
   "metadata": {},
   "outputs": [],
   "source": [
    "class TimestampTransformer(BaseEstimator, TransformerMixin):\n",
    "    def __init__(self, columns=None):\n",
    "        self.columns = columns\n",
    "    \n",
    "    def fit(self, X, y=None):\n",
    "        if not isinstance(X, pd.DataFrame):\n",
    "            raise ValueError(f\"{X} must be a pandas DataFrame\")\n",
    "        return self\n",
    "\n",
    "    def transform(self, X):\n",
    "        if not isinstance(X, pd.DataFrame):\n",
    "            raise ValueError(f\"{X} must be a pandas DataFrame\")\n",
    "        \n",
    "        if self.columns is None:\n",
    "            return X\n",
    "        else:\n",
    "            X_ = X.copy()\n",
    "            for each in self.columns:\n",
    "                X_[each] = pd.to_datetime(X[each])\n",
    "                day = X_[each].dt.day\n",
    "                hour = X_[each].dt.hour\n",
    "                day_of_week = X_[each].dt.dayofweek\n",
    "                X_['DaySin'] = np.sin(2 * np.pi * day / 31)\n",
    "                X_['DayCos'] = np.cos(2 * np.pi * day / 31)\n",
    "                X_['HourSin'] = np.sin(2 * np.pi * hour / 24)\n",
    "                X_['HourCos'] = np.cos(2 * np.pi * hour / 24)\n",
    "                X_['DoWSin'] = np.sin(2 * np.pi * day_of_week / 7)\n",
    "                X_['DoWCos'] = np.cos(2 * np.pi * day_of_week / 7)\n",
    "            return X_"
   ]
  },
  {
   "cell_type": "code",
   "execution_count": 10,
   "metadata": {},
   "outputs": [],
   "source": [
    "class InteractionTransformer(BaseEstimator, TransformerMixin):\n",
    "    def __init__(self):\n",
    "        self.grouping_columns = ['Sender_Id', 'Bene_Id']\n",
    "\n",
    "    def fit(self, X, y=None):\n",
    "        if not isinstance(X, pd.DataFrame):\n",
    "            raise ValueError(f\"{X} must be a pandas DataFrame\")\n",
    "\n",
    "        self.interaction_frequency = X.groupby(self.grouping_columns).size().reset_index().rename(columns={0: 'Interaction_Frequency'})\n",
    "        self.interaction_amount = X.groupby(self.grouping_columns)['USD_amount'].mean().reset_index().rename(columns = {'USD_amount':'Amount_Mean'})\n",
    "        return self\n",
    "\n",
    "    def transform(self, X):\n",
    "        if not isinstance(X, pd.DataFrame):\n",
    "            raise ValueError(f\"{X} must be a pandas DataFrame\")\n",
    "            \n",
    "        X_ = X.copy()\n",
    "        X_ = pd.merge(X_, self.interaction_frequency, on=self.grouping_columns, how='left')\n",
    "        X_['Interaction_Frequency'] = X_['Interaction_Frequency'].fillna(0)\n",
    "        X_ = pd.merge(X_, self.interaction_amount, on=self.grouping_columns, how='left')\n",
    "        X_['Amount_Mean'] = X_['Amount_Mean'].fillna(X_['Amount_Mean'].mean())\n",
    "        return X_"
   ]
  },
  {
   "cell_type": "code",
   "execution_count": 11,
   "metadata": {},
   "outputs": [],
   "source": [
    "class CubeRootTransformer(BaseEstimator, TransformerMixin):\n",
    "    def __init__(self, columns=None):\n",
    "        self.columns = columns\n",
    "    \n",
    "    def fit(self, X, y=None):\n",
    "        if not isinstance(X, pd.DataFrame):\n",
    "            raise ValueError(f\"{X} must be a pandas DataFrame\")\n",
    "        return self\n",
    "    \n",
    "    def transform(self, X):\n",
    "        if not isinstance(X, pd.DataFrame):\n",
    "            raise ValueError(f\"{X} must be a pandas DataFrame\")\n",
    "            \n",
    "        if self.columns is None:\n",
    "            return X\n",
    "        else:\n",
    "            X_ = X.copy()\n",
    "            X_[self.columns] = X_[self.columns].apply(lambda x: np.cbrt(x))\n",
    "            return X_"
   ]
  },
  {
   "cell_type": "code",
   "execution_count": 12,
   "metadata": {},
   "outputs": [],
   "source": [
    "class TargetEncoder(BaseEstimator, TransformerMixin):\n",
    "    def __init__(self, columns):\n",
    "        self.columns = columns\n",
    "        self.mapping = {}\n",
    "        self.target = 'Label'\n",
    "    \n",
    "    def fit(self, X, y):\n",
    "        if not isinstance(X, pd.DataFrame):\n",
    "            raise ValueError(f\"{X} must be a pandas DataFrame\")\n",
    "        \n",
    "        y.name = self.target\n",
    "        X_ = pd.concat([X,y], axis=1)\n",
    "        for col in self.columns:\n",
    "            encoding_map = X_.groupby(col)[self.target].mean().to_dict()\n",
    "            self.mapping[col] = encoding_map\n",
    "        return self\n",
    "        \n",
    "    def transform(self, X):\n",
    "        if not isinstance(X, pd.DataFrame):\n",
    "            raise ValueError(f\"{X} must be a pandas DataFrame\")\n",
    "\n",
    "        X_ = X.copy()\n",
    "        for col in self.columns:\n",
    "            X_[col] = X_[col].map(self.mapping[col])\n",
    "            X_[col] = X_[col].fillna(np.array(list(self.mapping[col].values())).mean())\n",
    "        return X_"
   ]
  },
  {
   "cell_type": "code",
   "execution_count": 13,
   "metadata": {},
   "outputs": [],
   "source": [
    "class ColumnDropper(BaseEstimator, TransformerMixin):\n",
    "    def __init__(self, dropping_columns):\n",
    "        self.dropping_columns = dropping_columns\n",
    "    \n",
    "    def fit(self, X, y=None):\n",
    "        return self\n",
    "    \n",
    "    def transform(self, X):\n",
    "        X_ = X.copy()\n",
    "        return X_.drop(self.dropping_columns, axis=1)"
   ]
  },
  {
   "cell_type": "code",
   "execution_count": 14,
   "metadata": {},
   "outputs": [],
   "source": [
    "model_pipeline = pickle.load(open('artifacts/model_pipeline.pkl','rb'))"
   ]
  },
  {
   "cell_type": "code",
   "execution_count": 30,
   "metadata": {},
   "outputs": [
    {
     "data": {
      "text/html": [
       "<style>#sk-51f81c05-f149-4786-9a9c-44e6aa72ad84 {color: black;background-color: white;}#sk-51f81c05-f149-4786-9a9c-44e6aa72ad84 pre{padding: 0;}#sk-51f81c05-f149-4786-9a9c-44e6aa72ad84 div.sk-toggleable {background-color: white;}#sk-51f81c05-f149-4786-9a9c-44e6aa72ad84 label.sk-toggleable__label {cursor: pointer;display: block;width: 100%;margin-bottom: 0;padding: 0.3em;box-sizing: border-box;text-align: center;}#sk-51f81c05-f149-4786-9a9c-44e6aa72ad84 label.sk-toggleable__label-arrow:before {content: \"▸\";float: left;margin-right: 0.25em;color: #696969;}#sk-51f81c05-f149-4786-9a9c-44e6aa72ad84 label.sk-toggleable__label-arrow:hover:before {color: black;}#sk-51f81c05-f149-4786-9a9c-44e6aa72ad84 div.sk-estimator:hover label.sk-toggleable__label-arrow:before {color: black;}#sk-51f81c05-f149-4786-9a9c-44e6aa72ad84 div.sk-toggleable__content {max-height: 0;max-width: 0;overflow: hidden;text-align: left;background-color: #f0f8ff;}#sk-51f81c05-f149-4786-9a9c-44e6aa72ad84 div.sk-toggleable__content pre {margin: 0.2em;color: black;border-radius: 0.25em;background-color: #f0f8ff;}#sk-51f81c05-f149-4786-9a9c-44e6aa72ad84 input.sk-toggleable__control:checked~div.sk-toggleable__content {max-height: 200px;max-width: 100%;overflow: auto;}#sk-51f81c05-f149-4786-9a9c-44e6aa72ad84 input.sk-toggleable__control:checked~label.sk-toggleable__label-arrow:before {content: \"▾\";}#sk-51f81c05-f149-4786-9a9c-44e6aa72ad84 div.sk-estimator input.sk-toggleable__control:checked~label.sk-toggleable__label {background-color: #d4ebff;}#sk-51f81c05-f149-4786-9a9c-44e6aa72ad84 div.sk-label input.sk-toggleable__control:checked~label.sk-toggleable__label {background-color: #d4ebff;}#sk-51f81c05-f149-4786-9a9c-44e6aa72ad84 input.sk-hidden--visually {border: 0;clip: rect(1px 1px 1px 1px);clip: rect(1px, 1px, 1px, 1px);height: 1px;margin: -1px;overflow: hidden;padding: 0;position: absolute;width: 1px;}#sk-51f81c05-f149-4786-9a9c-44e6aa72ad84 div.sk-estimator {font-family: monospace;background-color: #f0f8ff;border: 1px dotted black;border-radius: 0.25em;box-sizing: border-box;margin-bottom: 0.5em;}#sk-51f81c05-f149-4786-9a9c-44e6aa72ad84 div.sk-estimator:hover {background-color: #d4ebff;}#sk-51f81c05-f149-4786-9a9c-44e6aa72ad84 div.sk-parallel-item::after {content: \"\";width: 100%;border-bottom: 1px solid gray;flex-grow: 1;}#sk-51f81c05-f149-4786-9a9c-44e6aa72ad84 div.sk-label:hover label.sk-toggleable__label {background-color: #d4ebff;}#sk-51f81c05-f149-4786-9a9c-44e6aa72ad84 div.sk-serial::before {content: \"\";position: absolute;border-left: 1px solid gray;box-sizing: border-box;top: 2em;bottom: 0;left: 50%;}#sk-51f81c05-f149-4786-9a9c-44e6aa72ad84 div.sk-serial {display: flex;flex-direction: column;align-items: center;background-color: white;padding-right: 0.2em;padding-left: 0.2em;}#sk-51f81c05-f149-4786-9a9c-44e6aa72ad84 div.sk-item {z-index: 1;}#sk-51f81c05-f149-4786-9a9c-44e6aa72ad84 div.sk-parallel {display: flex;align-items: stretch;justify-content: center;background-color: white;}#sk-51f81c05-f149-4786-9a9c-44e6aa72ad84 div.sk-parallel::before {content: \"\";position: absolute;border-left: 1px solid gray;box-sizing: border-box;top: 2em;bottom: 0;left: 50%;}#sk-51f81c05-f149-4786-9a9c-44e6aa72ad84 div.sk-parallel-item {display: flex;flex-direction: column;position: relative;background-color: white;}#sk-51f81c05-f149-4786-9a9c-44e6aa72ad84 div.sk-parallel-item:first-child::after {align-self: flex-end;width: 50%;}#sk-51f81c05-f149-4786-9a9c-44e6aa72ad84 div.sk-parallel-item:last-child::after {align-self: flex-start;width: 50%;}#sk-51f81c05-f149-4786-9a9c-44e6aa72ad84 div.sk-parallel-item:only-child::after {width: 0;}#sk-51f81c05-f149-4786-9a9c-44e6aa72ad84 div.sk-dashed-wrapped {border: 1px dashed gray;margin: 0 0.4em 0.5em 0.4em;box-sizing: border-box;padding-bottom: 0.4em;background-color: white;position: relative;}#sk-51f81c05-f149-4786-9a9c-44e6aa72ad84 div.sk-label label {font-family: monospace;font-weight: bold;background-color: white;display: inline-block;line-height: 1.2em;}#sk-51f81c05-f149-4786-9a9c-44e6aa72ad84 div.sk-label-container {position: relative;z-index: 2;text-align: center;}#sk-51f81c05-f149-4786-9a9c-44e6aa72ad84 div.sk-container {/* jupyter's `normalize.less` sets `[hidden] { display: none; }` but bootstrap.min.css set `[hidden] { display: none !important; }` so we also need the `!important` here to be able to override the default hidden behavior on the sphinx rendered scikit-learn.org. See: https://github.com/scikit-learn/scikit-learn/issues/21755 */display: inline-block !important;position: relative;}#sk-51f81c05-f149-4786-9a9c-44e6aa72ad84 div.sk-text-repr-fallback {display: none;}</style><div id=\"sk-51f81c05-f149-4786-9a9c-44e6aa72ad84\" class=\"sk-top-container\"><div class=\"sk-text-repr-fallback\"><pre>Pipeline(steps=[(&#x27;feature_extraction&#x27;,\n",
       "                 Pipeline(steps=[(&#x27;target_encoder&#x27;,\n",
       "                                  TargetEncoder(columns=[&#x27;Sender_Id&#x27;,\n",
       "                                                         &#x27;Sender_Account&#x27;,\n",
       "                                                         &#x27;Sender_Country&#x27;,\n",
       "                                                         &#x27;Bene_Id&#x27;,\n",
       "                                                         &#x27;Bene_Account&#x27;,\n",
       "                                                         &#x27;Bene_Country&#x27;])),\n",
       "                                 (&#x27;time_extractor&#x27;,\n",
       "                                  TimestampTransformer(columns=[&#x27;Time_step&#x27;])),\n",
       "                                 (&#x27;interaction&#x27;, InteractionTransformer()),\n",
       "                                 (&#x27;cube_root&#x27;,\n",
       "                                  CubeRootTransformer(columns=[&#x27;USD_amount&#x27;,\n",
       "                                                               &#x27;Amount...\n",
       "                                                  OneHotEncoder(handle_unknown=&#x27;ignore&#x27;,\n",
       "                                                                sparse=False),\n",
       "                                                  [&#x27;Transaction_Type&#x27;]),\n",
       "                                                 (&#x27;scaler&#x27;, StandardScaler(),\n",
       "                                                  [&#x27;Sender_Id&#x27;,\n",
       "                                                   &#x27;Sender_Account&#x27;,\n",
       "                                                   &#x27;Sender_Country&#x27;,\n",
       "                                                   &#x27;Sender_Sector&#x27;, &#x27;Bene_Id&#x27;,\n",
       "                                                   &#x27;Bene_Account&#x27;,\n",
       "                                                   &#x27;Bene_Country&#x27;, &#x27;USD_amount&#x27;,\n",
       "                                                   &#x27;DaySin&#x27;, &#x27;DayCos&#x27;,\n",
       "                                                   &#x27;HourSin&#x27;, &#x27;HourCos&#x27;,\n",
       "                                                   &#x27;DoWSin&#x27;, &#x27;DoWCos&#x27;,\n",
       "                                                   &#x27;Interaction_Frequency&#x27;,\n",
       "                                                   &#x27;Amount_Mean&#x27;])])),\n",
       "                (&#x27;isolation_forest&#x27;, IsolationForest(contamination=0.25))])</pre><b>Please rerun this cell to show the HTML repr or trust the notebook.</b></div><div class=\"sk-container\" hidden><div class=\"sk-item sk-dashed-wrapped\"><div class=\"sk-label-container\"><div class=\"sk-label sk-toggleable\"><input class=\"sk-toggleable__control sk-hidden--visually\" id=\"2692e0e1-6338-4dfb-9d60-ebc87c012d0b\" type=\"checkbox\" ><label for=\"2692e0e1-6338-4dfb-9d60-ebc87c012d0b\" class=\"sk-toggleable__label sk-toggleable__label-arrow\">Pipeline</label><div class=\"sk-toggleable__content\"><pre>Pipeline(steps=[(&#x27;feature_extraction&#x27;,\n",
       "                 Pipeline(steps=[(&#x27;target_encoder&#x27;,\n",
       "                                  TargetEncoder(columns=[&#x27;Sender_Id&#x27;,\n",
       "                                                         &#x27;Sender_Account&#x27;,\n",
       "                                                         &#x27;Sender_Country&#x27;,\n",
       "                                                         &#x27;Bene_Id&#x27;,\n",
       "                                                         &#x27;Bene_Account&#x27;,\n",
       "                                                         &#x27;Bene_Country&#x27;])),\n",
       "                                 (&#x27;time_extractor&#x27;,\n",
       "                                  TimestampTransformer(columns=[&#x27;Time_step&#x27;])),\n",
       "                                 (&#x27;interaction&#x27;, InteractionTransformer()),\n",
       "                                 (&#x27;cube_root&#x27;,\n",
       "                                  CubeRootTransformer(columns=[&#x27;USD_amount&#x27;,\n",
       "                                                               &#x27;Amount...\n",
       "                                                  OneHotEncoder(handle_unknown=&#x27;ignore&#x27;,\n",
       "                                                                sparse=False),\n",
       "                                                  [&#x27;Transaction_Type&#x27;]),\n",
       "                                                 (&#x27;scaler&#x27;, StandardScaler(),\n",
       "                                                  [&#x27;Sender_Id&#x27;,\n",
       "                                                   &#x27;Sender_Account&#x27;,\n",
       "                                                   &#x27;Sender_Country&#x27;,\n",
       "                                                   &#x27;Sender_Sector&#x27;, &#x27;Bene_Id&#x27;,\n",
       "                                                   &#x27;Bene_Account&#x27;,\n",
       "                                                   &#x27;Bene_Country&#x27;, &#x27;USD_amount&#x27;,\n",
       "                                                   &#x27;DaySin&#x27;, &#x27;DayCos&#x27;,\n",
       "                                                   &#x27;HourSin&#x27;, &#x27;HourCos&#x27;,\n",
       "                                                   &#x27;DoWSin&#x27;, &#x27;DoWCos&#x27;,\n",
       "                                                   &#x27;Interaction_Frequency&#x27;,\n",
       "                                                   &#x27;Amount_Mean&#x27;])])),\n",
       "                (&#x27;isolation_forest&#x27;, IsolationForest(contamination=0.25))])</pre></div></div></div><div class=\"sk-serial\"><div class=\"sk-item\"><div class=\"sk-label-container\"><div class=\"sk-label sk-toggleable\"><input class=\"sk-toggleable__control sk-hidden--visually\" id=\"3ef9555b-600f-4fde-8138-e36b52491c23\" type=\"checkbox\" ><label for=\"3ef9555b-600f-4fde-8138-e36b52491c23\" class=\"sk-toggleable__label sk-toggleable__label-arrow\">feature_extraction: Pipeline</label><div class=\"sk-toggleable__content\"><pre>Pipeline(steps=[(&#x27;target_encoder&#x27;,\n",
       "                 TargetEncoder(columns=[&#x27;Sender_Id&#x27;, &#x27;Sender_Account&#x27;,\n",
       "                                        &#x27;Sender_Country&#x27;, &#x27;Bene_Id&#x27;,\n",
       "                                        &#x27;Bene_Account&#x27;, &#x27;Bene_Country&#x27;])),\n",
       "                (&#x27;time_extractor&#x27;, TimestampTransformer(columns=[&#x27;Time_step&#x27;])),\n",
       "                (&#x27;interaction&#x27;, InteractionTransformer()),\n",
       "                (&#x27;cube_root&#x27;,\n",
       "                 CubeRootTransformer(columns=[&#x27;USD_amount&#x27;, &#x27;Amount_Mean&#x27;])),\n",
       "                (&#x27;column_dropper&#x27;,\n",
       "                 ColumnDropper(dropping_columns=[&#x27;Transaction_Id&#x27;, &#x27;Time_step&#x27;,\n",
       "                                                 &#x27;Sender_lob&#x27;]))])</pre></div></div></div><div class=\"sk-serial\"><div class=\"sk-item\"><div class=\"sk-estimator sk-toggleable\"><input class=\"sk-toggleable__control sk-hidden--visually\" id=\"ee934407-24e7-4e3a-8064-e9c80be8a178\" type=\"checkbox\" ><label for=\"ee934407-24e7-4e3a-8064-e9c80be8a178\" class=\"sk-toggleable__label sk-toggleable__label-arrow\">TargetEncoder</label><div class=\"sk-toggleable__content\"><pre>TargetEncoder(columns=[&#x27;Sender_Id&#x27;, &#x27;Sender_Account&#x27;, &#x27;Sender_Country&#x27;,\n",
       "                       &#x27;Bene_Id&#x27;, &#x27;Bene_Account&#x27;, &#x27;Bene_Country&#x27;])</pre></div></div></div><div class=\"sk-item\"><div class=\"sk-estimator sk-toggleable\"><input class=\"sk-toggleable__control sk-hidden--visually\" id=\"e6ddc436-2d32-44d9-b1f9-b942f344dc70\" type=\"checkbox\" ><label for=\"e6ddc436-2d32-44d9-b1f9-b942f344dc70\" class=\"sk-toggleable__label sk-toggleable__label-arrow\">TimestampTransformer</label><div class=\"sk-toggleable__content\"><pre>TimestampTransformer(columns=[&#x27;Time_step&#x27;])</pre></div></div></div><div class=\"sk-item\"><div class=\"sk-estimator sk-toggleable\"><input class=\"sk-toggleable__control sk-hidden--visually\" id=\"f510c928-2c63-402a-96db-cad82424d3fe\" type=\"checkbox\" ><label for=\"f510c928-2c63-402a-96db-cad82424d3fe\" class=\"sk-toggleable__label sk-toggleable__label-arrow\">InteractionTransformer</label><div class=\"sk-toggleable__content\"><pre>InteractionTransformer()</pre></div></div></div><div class=\"sk-item\"><div class=\"sk-estimator sk-toggleable\"><input class=\"sk-toggleable__control sk-hidden--visually\" id=\"ba5854f2-6ec4-4167-b632-657b64c3a4ef\" type=\"checkbox\" ><label for=\"ba5854f2-6ec4-4167-b632-657b64c3a4ef\" class=\"sk-toggleable__label sk-toggleable__label-arrow\">CubeRootTransformer</label><div class=\"sk-toggleable__content\"><pre>CubeRootTransformer(columns=[&#x27;USD_amount&#x27;, &#x27;Amount_Mean&#x27;])</pre></div></div></div><div class=\"sk-item\"><div class=\"sk-estimator sk-toggleable\"><input class=\"sk-toggleable__control sk-hidden--visually\" id=\"9d1ba2a5-2412-4cfa-acdb-3f3b74059d3a\" type=\"checkbox\" ><label for=\"9d1ba2a5-2412-4cfa-acdb-3f3b74059d3a\" class=\"sk-toggleable__label sk-toggleable__label-arrow\">ColumnDropper</label><div class=\"sk-toggleable__content\"><pre>ColumnDropper(dropping_columns=[&#x27;Transaction_Id&#x27;, &#x27;Time_step&#x27;, &#x27;Sender_lob&#x27;])</pre></div></div></div></div></div><div class=\"sk-item sk-dashed-wrapped\"><div class=\"sk-label-container\"><div class=\"sk-label sk-toggleable\"><input class=\"sk-toggleable__control sk-hidden--visually\" id=\"a7932ca6-6933-4678-8800-bceaa859f79f\" type=\"checkbox\" ><label for=\"a7932ca6-6933-4678-8800-bceaa859f79f\" class=\"sk-toggleable__label sk-toggleable__label-arrow\">pre_process: ColumnTransformer</label><div class=\"sk-toggleable__content\"><pre>ColumnTransformer(remainder=&#x27;passthrough&#x27;,\n",
       "                  transformers=[(&#x27;one_hot_encoder&#x27;,\n",
       "                                 OneHotEncoder(handle_unknown=&#x27;ignore&#x27;,\n",
       "                                               sparse=False),\n",
       "                                 [&#x27;Transaction_Type&#x27;]),\n",
       "                                (&#x27;scaler&#x27;, StandardScaler(),\n",
       "                                 [&#x27;Sender_Id&#x27;, &#x27;Sender_Account&#x27;,\n",
       "                                  &#x27;Sender_Country&#x27;, &#x27;Sender_Sector&#x27;, &#x27;Bene_Id&#x27;,\n",
       "                                  &#x27;Bene_Account&#x27;, &#x27;Bene_Country&#x27;, &#x27;USD_amount&#x27;,\n",
       "                                  &#x27;DaySin&#x27;, &#x27;DayCos&#x27;, &#x27;HourSin&#x27;, &#x27;HourCos&#x27;,\n",
       "                                  &#x27;DoWSin&#x27;, &#x27;DoWCos&#x27;, &#x27;Interaction_Frequency&#x27;,\n",
       "                                  &#x27;Amount_Mean&#x27;])])</pre></div></div></div><div class=\"sk-parallel\"><div class=\"sk-parallel-item\"><div class=\"sk-item\"><div class=\"sk-label-container\"><div class=\"sk-label sk-toggleable\"><input class=\"sk-toggleable__control sk-hidden--visually\" id=\"8a96112c-5d05-4157-99cf-4ec2b0a216bf\" type=\"checkbox\" ><label for=\"8a96112c-5d05-4157-99cf-4ec2b0a216bf\" class=\"sk-toggleable__label sk-toggleable__label-arrow\">one_hot_encoder</label><div class=\"sk-toggleable__content\"><pre>[&#x27;Transaction_Type&#x27;]</pre></div></div></div><div class=\"sk-serial\"><div class=\"sk-item\"><div class=\"sk-estimator sk-toggleable\"><input class=\"sk-toggleable__control sk-hidden--visually\" id=\"9409b782-aae5-4efd-ab21-85af312ed14f\" type=\"checkbox\" ><label for=\"9409b782-aae5-4efd-ab21-85af312ed14f\" class=\"sk-toggleable__label sk-toggleable__label-arrow\">OneHotEncoder</label><div class=\"sk-toggleable__content\"><pre>OneHotEncoder(handle_unknown=&#x27;ignore&#x27;, sparse=False)</pre></div></div></div></div></div></div><div class=\"sk-parallel-item\"><div class=\"sk-item\"><div class=\"sk-label-container\"><div class=\"sk-label sk-toggleable\"><input class=\"sk-toggleable__control sk-hidden--visually\" id=\"0ee90e20-12dc-48dd-8526-fed4378cf96a\" type=\"checkbox\" ><label for=\"0ee90e20-12dc-48dd-8526-fed4378cf96a\" class=\"sk-toggleable__label sk-toggleable__label-arrow\">scaler</label><div class=\"sk-toggleable__content\"><pre>[&#x27;Sender_Id&#x27;, &#x27;Sender_Account&#x27;, &#x27;Sender_Country&#x27;, &#x27;Sender_Sector&#x27;, &#x27;Bene_Id&#x27;, &#x27;Bene_Account&#x27;, &#x27;Bene_Country&#x27;, &#x27;USD_amount&#x27;, &#x27;DaySin&#x27;, &#x27;DayCos&#x27;, &#x27;HourSin&#x27;, &#x27;HourCos&#x27;, &#x27;DoWSin&#x27;, &#x27;DoWCos&#x27;, &#x27;Interaction_Frequency&#x27;, &#x27;Amount_Mean&#x27;]</pre></div></div></div><div class=\"sk-serial\"><div class=\"sk-item\"><div class=\"sk-estimator sk-toggleable\"><input class=\"sk-toggleable__control sk-hidden--visually\" id=\"12cb373e-ab9c-4104-9214-c534a46a84df\" type=\"checkbox\" ><label for=\"12cb373e-ab9c-4104-9214-c534a46a84df\" class=\"sk-toggleable__label sk-toggleable__label-arrow\">StandardScaler</label><div class=\"sk-toggleable__content\"><pre>StandardScaler()</pre></div></div></div></div></div></div><div class=\"sk-parallel-item\"><div class=\"sk-item\"><div class=\"sk-label-container\"><div class=\"sk-label sk-toggleable\"><input class=\"sk-toggleable__control sk-hidden--visually\" id=\"a45abe66-417c-4320-a043-08626d4fef9e\" type=\"checkbox\" ><label for=\"a45abe66-417c-4320-a043-08626d4fef9e\" class=\"sk-toggleable__label sk-toggleable__label-arrow\">remainder</label><div class=\"sk-toggleable__content\"><pre>[]</pre></div></div></div><div class=\"sk-serial\"><div class=\"sk-item\"><div class=\"sk-estimator sk-toggleable\"><input class=\"sk-toggleable__control sk-hidden--visually\" id=\"c3e2e2b3-5699-4841-b7b1-7e09f746c9b7\" type=\"checkbox\" ><label for=\"c3e2e2b3-5699-4841-b7b1-7e09f746c9b7\" class=\"sk-toggleable__label sk-toggleable__label-arrow\">passthrough</label><div class=\"sk-toggleable__content\"><pre>passthrough</pre></div></div></div></div></div></div></div></div><div class=\"sk-item\"><div class=\"sk-estimator sk-toggleable\"><input class=\"sk-toggleable__control sk-hidden--visually\" id=\"52d9ea58-0d4c-44f4-ac6a-43acb30f81f4\" type=\"checkbox\" ><label for=\"52d9ea58-0d4c-44f4-ac6a-43acb30f81f4\" class=\"sk-toggleable__label sk-toggleable__label-arrow\">IsolationForest</label><div class=\"sk-toggleable__content\"><pre>IsolationForest(contamination=0.25)</pre></div></div></div></div></div></div></div>"
      ],
      "text/plain": [
       "Pipeline(steps=[('feature_extraction',\n",
       "                 Pipeline(steps=[('target_encoder',\n",
       "                                  TargetEncoder(columns=['Sender_Id',\n",
       "                                                         'Sender_Account',\n",
       "                                                         'Sender_Country',\n",
       "                                                         'Bene_Id',\n",
       "                                                         'Bene_Account',\n",
       "                                                         'Bene_Country'])),\n",
       "                                 ('time_extractor',\n",
       "                                  TimestampTransformer(columns=['Time_step'])),\n",
       "                                 ('interaction', InteractionTransformer()),\n",
       "                                 ('cube_root',\n",
       "                                  CubeRootTransformer(columns=['USD_amount',\n",
       "                                                               'Amount...\n",
       "                                                  OneHotEncoder(handle_unknown='ignore',\n",
       "                                                                sparse=False),\n",
       "                                                  ['Transaction_Type']),\n",
       "                                                 ('scaler', StandardScaler(),\n",
       "                                                  ['Sender_Id',\n",
       "                                                   'Sender_Account',\n",
       "                                                   'Sender_Country',\n",
       "                                                   'Sender_Sector', 'Bene_Id',\n",
       "                                                   'Bene_Account',\n",
       "                                                   'Bene_Country', 'USD_amount',\n",
       "                                                   'DaySin', 'DayCos',\n",
       "                                                   'HourSin', 'HourCos',\n",
       "                                                   'DoWSin', 'DoWCos',\n",
       "                                                   'Interaction_Frequency',\n",
       "                                                   'Amount_Mean'])])),\n",
       "                ('isolation_forest', IsolationForest(contamination=0.25))])"
      ]
     },
     "execution_count": 30,
     "metadata": {},
     "output_type": "execute_result"
    }
   ],
   "source": [
    "model_pipeline"
   ]
  },
  {
   "cell_type": "code",
   "execution_count": 18,
   "metadata": {},
   "outputs": [
    {
     "data": {
      "text/plain": [
       "array([ 1,  1,  1, ...,  1, -1,  1])"
      ]
     },
     "execution_count": 18,
     "metadata": {},
     "output_type": "execute_result"
    }
   ],
   "source": [
    "model_pipeline.predict(df.drop('Label', axis=1))"
   ]
  },
  {
   "cell_type": "code",
   "execution_count": 24,
   "metadata": {},
   "outputs": [],
   "source": [
    "data = {\n",
    "    \"Time_step\": \"07-11-2026  01:14:29\",\n",
    "    \"Transaction_Id\": \"MAKE-PAYMENT-318236\",\n",
    "    \"Sender_Id\": \"JPMC-CLIENT-318205\",\n",
    "    \"Sender_Account\": \"ACCOUNT-318216\",\n",
    "    \"Sender_Country\": \"USA\",\n",
    "    \"Sender_Sector\": 36226,\n",
    "    \"Sender_lob\": \"CCB\",\n",
    "    \"Bene_Id\": \"JPMC-CLIENT-318207\",\n",
    "    \"Bene_Account\": \"ACCOUNT-318219\",\n",
    "    \"Bene_Country\": \"USA\",\n",
    "    \"USD_amount\": 574.44,\n",
    "    \"Transaction_Type\": \"MAKE-PAYMENT\"\n",
    "}"
   ]
  },
  {
   "cell_type": "code",
   "execution_count": 25,
   "metadata": {},
   "outputs": [
    {
     "data": {
      "text/html": [
       "<div>\n",
       "<style scoped>\n",
       "    .dataframe tbody tr th:only-of-type {\n",
       "        vertical-align: middle;\n",
       "    }\n",
       "\n",
       "    .dataframe tbody tr th {\n",
       "        vertical-align: top;\n",
       "    }\n",
       "\n",
       "    .dataframe thead th {\n",
       "        text-align: right;\n",
       "    }\n",
       "</style>\n",
       "<table border=\"1\" class=\"dataframe\">\n",
       "  <thead>\n",
       "    <tr style=\"text-align: right;\">\n",
       "      <th></th>\n",
       "      <th>Time_step</th>\n",
       "      <th>Transaction_Id</th>\n",
       "      <th>Sender_Id</th>\n",
       "      <th>Sender_Account</th>\n",
       "      <th>Sender_Country</th>\n",
       "      <th>Sender_Sector</th>\n",
       "      <th>Sender_lob</th>\n",
       "      <th>Bene_Id</th>\n",
       "      <th>Bene_Account</th>\n",
       "      <th>Bene_Country</th>\n",
       "      <th>USD_amount</th>\n",
       "      <th>Transaction_Type</th>\n",
       "    </tr>\n",
       "  </thead>\n",
       "  <tbody>\n",
       "    <tr>\n",
       "      <th>0</th>\n",
       "      <td>07-11-2026  01:14:29</td>\n",
       "      <td>MAKE-PAYMENT-318236</td>\n",
       "      <td>JPMC-CLIENT-318205</td>\n",
       "      <td>ACCOUNT-318216</td>\n",
       "      <td>USA</td>\n",
       "      <td>36226</td>\n",
       "      <td>CCB</td>\n",
       "      <td>JPMC-CLIENT-318207</td>\n",
       "      <td>ACCOUNT-318219</td>\n",
       "      <td>USA</td>\n",
       "      <td>574.44</td>\n",
       "      <td>MAKE-PAYMENT</td>\n",
       "    </tr>\n",
       "  </tbody>\n",
       "</table>\n",
       "</div>"
      ],
      "text/plain": [
       "              Time_step       Transaction_Id           Sender_Id  \\\n",
       "0  07-11-2026  01:14:29  MAKE-PAYMENT-318236  JPMC-CLIENT-318205   \n",
       "\n",
       "   Sender_Account Sender_Country  Sender_Sector Sender_lob  \\\n",
       "0  ACCOUNT-318216            USA          36226        CCB   \n",
       "\n",
       "              Bene_Id    Bene_Account Bene_Country  USD_amount  \\\n",
       "0  JPMC-CLIENT-318207  ACCOUNT-318219          USA      574.44   \n",
       "\n",
       "  Transaction_Type  \n",
       "0     MAKE-PAYMENT  "
      ]
     },
     "execution_count": 25,
     "metadata": {},
     "output_type": "execute_result"
    }
   ],
   "source": [
    "pd.DataFrame(data, index=[0])"
   ]
  },
  {
   "cell_type": "code",
   "execution_count": 27,
   "metadata": {},
   "outputs": [
    {
     "name": "stdout",
     "output_type": "stream",
     "text": [
      "Not Anomaly\n"
     ]
    }
   ],
   "source": [
    "if model_pipeline.predict(pd.DataFrame(data, index=[0])) == 1:\n",
    "    print('Not Anomaly')\n",
    "else:\n",
    "    print('Anomaly')"
   ]
  }
 ],
 "metadata": {
  "kernelspec": {
   "display_name": "venv",
   "language": "python",
   "name": "python3"
  },
  "language_info": {
   "codemirror_mode": {
    "name": "ipython",
    "version": 3
   },
   "file_extension": ".py",
   "mimetype": "text/x-python",
   "name": "python",
   "nbconvert_exporter": "python",
   "pygments_lexer": "ipython3",
   "version": "3.7.4"
  }
 },
 "nbformat": 4,
 "nbformat_minor": 2
}
